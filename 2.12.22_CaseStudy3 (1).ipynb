{
 "cells": [
  {
   "cell_type": "code",
   "execution_count": 2,
   "id": "dcf7c7c8",
   "metadata": {},
   "outputs": [],
   "source": [
    "from sklearn.feature_extraction.text import CountVectorizer\n",
    "from sklearn.feature_extraction.text import TfidfVectorizer\n",
    "from sklearn.naive_bayes import MultinomialNB\n",
    "from collections import Counter\n",
    "from sklearn.metrics import accuracy_score, classification_report, confusion_matrix, roc_curve, roc_auc_score, auc\n",
    "import os\n",
    "import re\n",
    "import email\n",
    "from html.parser import HTMLParser\n",
    "from bs4 import BeautifulSoup\n",
    "import nltk\n",
    "from nltk.corpus import stopwords\n",
    "from nltk.stem import WordNetLemmatizer\n",
    "from nltk.stem import SnowballStemmer\n",
    "import pandas as pd\n",
    "import string\n",
    "import numpy as np\n",
    "from sklearn.model_selection import train_test_split\n",
    "from sklearn.neighbors import KNeighborsClassifier\n",
    "from sklearn.cluster import KMeans\n",
    "import matplotlib.pyplot as plt\n",
    "from scipy.sparse import csr_matrix\n",
    "import scipy\n",
    "from sklearn import metrics as mt\n",
    "from sklearn.metrics import recall_score\n",
    "from sklearn.metrics import precision_score\n",
    "from sklearn.metrics import classification_report\n",
    "%matplotlib inline"
   ]
  },
  {
   "cell_type": "code",
   "execution_count": 3,
   "id": "928210d2",
   "metadata": {},
   "outputs": [],
   "source": [
    "easyham=[]\n",
    "targets_easyham=[]\n",
    "easy_ham = os.listdir('C:/Users/zzaik/OneDrive/SMU work/quantifying the world/case study/case study 3/easy_ham/')\n",
    "for i in easy_ham:\n",
    "    with open(os.path.join('C:/Users/zzaik/OneDrive/SMU work/quantifying the world/case study/case study 3/easy_ham/',i), 'r') as f:\n",
    "        try:\n",
    "            x = email.message_from_file(f)\n",
    "        except:\n",
    "            print(f'msg {i} not read')\n",
    "    mailType = x.get_content_type()\n",
    "    textType = x.get_content_charset()\n",
    "    if mailType == 'text/plain':\n",
    "        easyham.append(x.get_payload())\n",
    "        targets_easyham.append(0)\n",
    "    elif mailType == 'text/html':\n",
    "        tmp = BeautifulSoup(x.get_payload(), 'html.parser')\n",
    "        tmp = tmp.text.replace('\\n', ' ')\n",
    "        easyham.append(tmp)\n",
    "        targets_easyham.append(0)\n",
    "    elif x.is_multipart():\n",
    "         for j in x.walk():\n",
    "            mailType = j.get_content_type()\n",
    "            textType = j.get_content_charset()\n",
    "            if mailType == \"text/plain\":\n",
    "                easyham.append(j.get_payload())\n",
    "                targets_easyham.append(0)\n",
    "            elif mailType == \"text/html\":\n",
    "                tmp = BeautifulSoup(j.get_payload(), 'html.parser')\n",
    "                tmp = tmp.text.replace(\"\\n\",\" \")\n",
    "                easyham.append(tmp)\n",
    "                targets_easyham.append(0)\n",
    "    else:\n",
    "        print(f'msg {i} not parsed')\n",
    "        print(x.get_content_type())\n",
    "        print(textType)"
   ]
  },
  {
   "cell_type": "code",
   "execution_count": 4,
   "id": "5d542f04",
   "metadata": {},
   "outputs": [],
   "source": [
    "easyham2=[]\n",
    "targets_easyham2=[]\n",
    "easy_ham2 = os.listdir('C:/Users/zzaik/OneDrive/SMU work/quantifying the world/case study/case study 3/easy_ham_2/')\n",
    "for i in easy_ham2:\n",
    "    with open(os.path.join('C:/Users/zzaik/OneDrive/SMU work/quantifying the world/case study/case study 3/easy_ham_2/',i), 'r') as f:\n",
    "        try:\n",
    "            x = email.message_from_file(f)\n",
    "        except:\n",
    "            print(f'msg {i} not read')\n",
    "    mailType = x.get_content_type()\n",
    "    textType = x.get_content_charset()\n",
    "    if mailType == 'text/plain':\n",
    "        easyham2.append(x.get_payload())\n",
    "        targets_easyham2.append(0)\n",
    "    elif mailType == 'text/html':\n",
    "        tmp = BeautifulSoup(x.get_payload(), 'html.parser')\n",
    "        tmp = tmp.text.replace('\\n', ' ')\n",
    "        easyham2.append(tmp)\n",
    "        targets_easyham2.append(0)\n",
    "    elif x.is_multipart():\n",
    "         for j in x.walk():\n",
    "            mailType = j.get_content_type()\n",
    "            textType = j.get_content_charset()\n",
    "            if mailType == \"text/plain\":\n",
    "                easyham2.append(j.get_payload())\n",
    "                targets_easyham2.append(0)\n",
    "            elif mailType == \"text/html\":\n",
    "                tmp = BeautifulSoup(j.get_payload(), 'html.parser')\n",
    "                tmp = tmp.text.replace(\"\\n\",\" \")\n",
    "                easyham2.append(tmp)\n",
    "                targets_easyham2.append(0)\n",
    "    else:\n",
    "        print(f'msg {i} not parsed')\n",
    "        print(x.get_content_type())\n",
    "        print(textType)"
   ]
  },
  {
   "cell_type": "code",
   "execution_count": 5,
   "id": "990c50ab",
   "metadata": {},
   "outputs": [],
   "source": [
    "hardham=[]\n",
    "targets_hardham=[]\n",
    "hard_ham = os.listdir('C:/Users/zzaik/OneDrive/SMU work/quantifying the world/case study/case study 3/hard_ham/')\n",
    "for i in hard_ham:\n",
    "    with open(os.path.join('C:/Users/zzaik/OneDrive/SMU work/quantifying the world/case study/case study 3/hard_ham/',i), 'r') as f:\n",
    "        try:\n",
    "            x = email.message_from_file(f)\n",
    "        except:\n",
    "            print(f'msg {i} not read')\n",
    "    mailType = x.get_content_type()\n",
    "    textType = x.get_content_charset()\n",
    "    if mailType == 'text/plain':\n",
    "        hardham.append(x.get_payload())\n",
    "        targets_hardham.append(0)\n",
    "    elif mailType == 'text/html':\n",
    "        tmp = BeautifulSoup(x.get_payload(), 'html.parser')\n",
    "        tmp = tmp.text.replace('\\n', ' ')\n",
    "        hardham.append(tmp)\n",
    "        targets_hardham.append(0)\n",
    "    elif x.is_multipart():\n",
    "         for j in x.walk():\n",
    "            mailType = j.get_content_type()\n",
    "            textType = j.get_content_charset()\n",
    "            if mailType == \"text/plain\":\n",
    "                hardham.append(j.get_payload())\n",
    "                targets_hardham.append(0)\n",
    "            elif mailType == \"text/html\":\n",
    "                tmp = BeautifulSoup(j.get_payload(), 'html.parser')\n",
    "                tmp = tmp.text.replace(\"\\n\",\" \")\n",
    "                hardham.append(tmp)\n",
    "                targets_hardham.append(0)\n",
    "    else:\n",
    "        print(f'msg {i} not parsed')\n",
    "        print(x.get_content_type())\n",
    "        print(textType)"
   ]
  },
  {
   "cell_type": "code",
   "execution_count": 6,
   "id": "c00989dc",
   "metadata": {},
   "outputs": [],
   "source": [
    "targets_ham = targets_hardham + targets_easyham + targets_easyham2\n",
    "ham = easyham + easyham2+ hardham"
   ]
  },
  {
   "cell_type": "code",
   "execution_count": 7,
   "id": "3e239485",
   "metadata": {},
   "outputs": [
    {
     "data": {
      "text/html": [
       "<div>\n",
       "<style scoped>\n",
       "    .dataframe tbody tr th:only-of-type {\n",
       "        vertical-align: middle;\n",
       "    }\n",
       "\n",
       "    .dataframe tbody tr th {\n",
       "        vertical-align: top;\n",
       "    }\n",
       "\n",
       "    .dataframe thead th {\n",
       "        text-align: right;\n",
       "    }\n",
       "</style>\n",
       "<table border=\"1\" class=\"dataframe\">\n",
       "  <thead>\n",
       "    <tr style=\"text-align: right;\">\n",
       "      <th></th>\n",
       "      <th>content</th>\n",
       "      <th>classify</th>\n",
       "    </tr>\n",
       "  </thead>\n",
       "  <tbody>\n",
       "    <tr>\n",
       "      <th>0</th>\n",
       "      <td>Date:        Wed, 21 Aug 2002 10:54:46 -05...</td>\n",
       "      <td>0</td>\n",
       "    </tr>\n",
       "    <tr>\n",
       "      <th>1</th>\n",
       "      <td>Martin A posted:\\nTassos Papadopoulos, the Gre...</td>\n",
       "      <td>0</td>\n",
       "    </tr>\n",
       "    <tr>\n",
       "      <th>2</th>\n",
       "      <td>Man Threatens Explosion In Moscow \\n\\nThursday...</td>\n",
       "      <td>0</td>\n",
       "    </tr>\n",
       "    <tr>\n",
       "      <th>3</th>\n",
       "      <td>Klez: The Virus That Won't Die\\n \\nAlready the...</td>\n",
       "      <td>0</td>\n",
       "    </tr>\n",
       "    <tr>\n",
       "      <th>4</th>\n",
       "      <td>&gt;  in adding cream to spaghetti carbonara, whi...</td>\n",
       "      <td>0</td>\n",
       "    </tr>\n",
       "  </tbody>\n",
       "</table>\n",
       "</div>"
      ],
      "text/plain": [
       "                                             content  classify\n",
       "0      Date:        Wed, 21 Aug 2002 10:54:46 -05...         0\n",
       "1  Martin A posted:\\nTassos Papadopoulos, the Gre...         0\n",
       "2  Man Threatens Explosion In Moscow \\n\\nThursday...         0\n",
       "3  Klez: The Virus That Won't Die\\n \\nAlready the...         0\n",
       "4  >  in adding cream to spaghetti carbonara, whi...         0"
      ]
     },
     "execution_count": 7,
     "metadata": {},
     "output_type": "execute_result"
    }
   ],
   "source": [
    "mail_df = pd.DataFrame(zip(ham, targets_ham), columns=['content', 'classify'])\n",
    "mail_df.head()"
   ]
  },
  {
   "cell_type": "code",
   "execution_count": 8,
   "id": "6a02c328",
   "metadata": {},
   "outputs": [],
   "source": [
    "spamlist=[]\n",
    "targets_spam=[]\n",
    "spam = os.listdir('C:/Users/zzaik/OneDrive/SMU work/quantifying the world/case study/case study 3/spam/')\n",
    "for i in spam:\n",
    "    with open(os.path.join('C:/Users/zzaik/OneDrive/SMU work/quantifying the world/case study/case study 3/spam/',i), 'r', encoding=\"ISO-8859-1\") as f:\n",
    "        try:\n",
    "            x = email.message_from_file(f)\n",
    "        except:\n",
    "            print(f'msg {i} not read')\n",
    "    mailType = x.get_content_type()\n",
    "    textType = x.get_content_charset()\n",
    "    if mailType == 'text/plain':\n",
    "        spamlist.append(x.get_payload())\n",
    "        targets_spam.append(1)\n",
    "    elif mailType == 'text/html':\n",
    "        tmp = BeautifulSoup(x.get_payload(), 'html.parser')\n",
    "        tmp = tmp.text.replace('\\n', ' ')\n",
    "        spamlist.append(tmp)\n",
    "        targets_spam.append(1)\n",
    "    elif mailType == \"multipart/alternative\":\n",
    "        for i in x.walk():\n",
    "            if i.get_content_type() == 'text/plain':\n",
    "                spamlist.append(i.get_payload())\n",
    "                targets_spam.append(1)\n",
    "            elif i.get_content_type() == 'text/html':\n",
    "                tmp = BeautifulSoup(i.get_payload(), 'html.parser')\n",
    "                tmp = tmp.text.replace('\\n', ' ')\n",
    "                spamlist.append(tmp)\n",
    "                targets_spam.append(1)\n",
    "    elif x.is_multipart():\n",
    "         for j in x.walk():\n",
    "            mailType = j.get_content_type()\n",
    "            textType = j.get_content_charset()\n",
    "            if mailType == \"text/plain\":\n",
    "                spamlist.append(j.get_payload())\n",
    "                targets_spam.append(1)\n",
    "            elif mailType == \"text/html\":\n",
    "                tmp = BeautifulSoup(j.get_payload(), 'html.parser')\n",
    "                tmp = tmp.text.replace(\"\\n\",\" \")\n",
    "                spamlist.append(tmp)\n",
    "                targets_spam.append(1)\n",
    "    else:\n",
    "        print(f'msg {i} not parsed')\n",
    "        print(x.get_content_type())\n",
    "        print(textType)"
   ]
  },
  {
   "cell_type": "code",
   "execution_count": 9,
   "id": "0f358c72",
   "metadata": {},
   "outputs": [],
   "source": [
    "spamlist_2=[]\n",
    "targets_spam_2=[]\n",
    "spam_2 = os.listdir('C:/Users/zzaik/OneDrive/SMU work/quantifying the world/case study/case study 3/spam_2/')\n",
    "for i in spam_2:\n",
    "    with open(os.path.join('C:/Users/zzaik/OneDrive/SMU work/quantifying the world/case study/case study 3/spam_2/',i), 'r', encoding=\"ISO-8859-1\") as f:\n",
    "        try:\n",
    "            x = email.message_from_file(f)\n",
    "        except:\n",
    "            print(f'msg {i} not read')\n",
    "    mailType = x.get_content_type()\n",
    "    textType = x.get_content_charset()\n",
    "    if mailType == 'text/plain':\n",
    "        spamlist_2.append(x.get_payload())\n",
    "        targets_spam_2.append(1)\n",
    "    elif mailType == 'text/plain charset=us-ascii':\n",
    "        spamlist_2.append(x.get_payload())\n",
    "        targets_spam_2.append(1)\n",
    "    elif mailType == 'text/html':\n",
    "        tmp = BeautifulSoup(x.get_payload(), 'html.parser')\n",
    "        tmp = tmp.text.replace('\\n', ' ')\n",
    "        spamlist_2.append(tmp)\n",
    "        targets_spam_2.append(1)\n",
    "    elif mailType == \"multipart/alternative\":\n",
    "        for i in x.walk():\n",
    "            if i.get_content_type() == 'text/plain':\n",
    "                spamlist_2.append(i.get_payload())\n",
    "                targets_spam_2.append(1)\n",
    "            elif i.get_content_type() == 'text/html':\n",
    "                tmp = BeautifulSoup(i.get_payload(), 'html.parser')\n",
    "                tmp = tmp.text.replace('\\n', ' ')\n",
    "                spamlist_2.append(tmp)\n",
    "                targets_spam_2.append(1)\n",
    "    elif x.is_multipart():\n",
    "         for j in x.walk():\n",
    "            mailType = j.get_content_type()\n",
    "            textType = j.get_content_charset()\n",
    "            if mailType == \"text/plain\":\n",
    "                spamlist_2.append(j.get_payload())\n",
    "                targets_spam_2.append(1)\n",
    "            elif mailType == \"text/html\":\n",
    "                tmp = BeautifulSoup(j.get_payload(), 'html.parser')\n",
    "                tmp = tmp.text.replace(\"\\n\",\" \")\n",
    "                spamlist_2.append(tmp)\n",
    "                targets_spam_2.append(1)\n",
    "    else:\n",
    "        print(f'msg {i} not parsed')\n",
    "        print(x.get_content_type())\n",
    "        print(textType)"
   ]
  },
  {
   "cell_type": "code",
   "execution_count": 10,
   "id": "07ac1ab2",
   "metadata": {},
   "outputs": [],
   "source": [
    "spam_list = spamlist_2 + spamlist\n",
    "targets_spam_list = targets_spam_2 + targets_spam"
   ]
  },
  {
   "cell_type": "code",
   "execution_count": 11,
   "id": "69efc37d",
   "metadata": {},
   "outputs": [
    {
     "data": {
      "text/html": [
       "<div>\n",
       "<style scoped>\n",
       "    .dataframe tbody tr th:only-of-type {\n",
       "        vertical-align: middle;\n",
       "    }\n",
       "\n",
       "    .dataframe tbody tr th {\n",
       "        vertical-align: top;\n",
       "    }\n",
       "\n",
       "    .dataframe thead th {\n",
       "        text-align: right;\n",
       "    }\n",
       "</style>\n",
       "<table border=\"1\" class=\"dataframe\">\n",
       "  <thead>\n",
       "    <tr style=\"text-align: right;\">\n",
       "      <th></th>\n",
       "      <th>content</th>\n",
       "      <th>classify</th>\n",
       "    </tr>\n",
       "  </thead>\n",
       "  <tbody>\n",
       "    <tr>\n",
       "      <th>0</th>\n",
       "      <td>Greetings!\\n\\nYou are receiving this letter be...</td>\n",
       "      <td>1</td>\n",
       "    </tr>\n",
       "    <tr>\n",
       "      <th>1</th>\n",
       "      <td>The Need For Safety Is Real In 2002, You...</td>\n",
       "      <td>1</td>\n",
       "    </tr>\n",
       "    <tr>\n",
       "      <th>2</th>\n",
       "      <td>*****Bonus Fat Absorbers As Seen On TV, I...</td>\n",
       "      <td>1</td>\n",
       "    </tr>\n",
       "    <tr>\n",
       "      <th>3</th>\n",
       "      <td>*****Bonus Fat Absorbers As Seen On TV, I...</td>\n",
       "      <td>1</td>\n",
       "    </tr>\n",
       "    <tr>\n",
       "      <th>4</th>\n",
       "      <td>Government Grants E-Book 2002 edition, Just ...</td>\n",
       "      <td>1</td>\n",
       "    </tr>\n",
       "  </tbody>\n",
       "</table>\n",
       "</div>"
      ],
      "text/plain": [
       "                                             content  classify\n",
       "0  Greetings!\\n\\nYou are receiving this letter be...         1\n",
       "1        The Need For Safety Is Real In 2002, You...         1\n",
       "2       *****Bonus Fat Absorbers As Seen On TV, I...         1\n",
       "3       *****Bonus Fat Absorbers As Seen On TV, I...         1\n",
       "4    Government Grants E-Book 2002 edition, Just ...         1"
      ]
     },
     "execution_count": 11,
     "metadata": {},
     "output_type": "execute_result"
    }
   ],
   "source": [
    "spam_df = pd.DataFrame(zip(spam_list, targets_spam_list), columns=['content', 'classify'])\n",
    "spam_df.head()"
   ]
  },
  {
   "cell_type": "code",
   "execution_count": 12,
   "id": "8fdccabf",
   "metadata": {},
   "outputs": [],
   "source": [
    "mail_all = pd.concat([mail_df, spam_df], axis=0)"
   ]
  },
  {
   "cell_type": "code",
   "execution_count": 13,
   "id": "f1ac5394",
   "metadata": {},
   "outputs": [
    {
     "data": {
      "text/plain": [
       "(9721, 2)"
      ]
     },
     "execution_count": 13,
     "metadata": {},
     "output_type": "execute_result"
    }
   ],
   "source": [
    "mail_all.shape"
   ]
  },
  {
   "cell_type": "code",
   "execution_count": 14,
   "id": "ad651a51",
   "metadata": {},
   "outputs": [
    {
     "name": "stderr",
     "output_type": "stream",
     "text": [
      "[nltk_data] Downloading package stopwords to\n",
      "[nltk_data]     C:\\Users\\zzaik\\AppData\\Roaming\\nltk_data...\n",
      "[nltk_data]   Package stopwords is already up-to-date!\n"
     ]
    },
    {
     "data": {
      "text/plain": [
       "True"
      ]
     },
     "execution_count": 14,
     "metadata": {},
     "output_type": "execute_result"
    }
   ],
   "source": [
    "nltk.download('stopwords')"
   ]
  },
  {
   "cell_type": "code",
   "execution_count": 15,
   "id": "028bcdbf",
   "metadata": {},
   "outputs": [
    {
     "name": "stderr",
     "output_type": "stream",
     "text": [
      "[nltk_data] Downloading package wordnet to\n",
      "[nltk_data]     C:\\Users\\zzaik\\AppData\\Roaming\\nltk_data...\n",
      "[nltk_data]   Unzipping corpora\\wordnet.zip.\n"
     ]
    },
    {
     "data": {
      "text/plain": [
       "True"
      ]
     },
     "execution_count": 15,
     "metadata": {},
     "output_type": "execute_result"
    }
   ],
   "source": [
    "nltk.download('wordnet')"
   ]
  },
  {
   "cell_type": "code",
   "execution_count": 15,
   "id": "a7f69901",
   "metadata": {},
   "outputs": [],
   "source": [
    "#Change letters to lowercase\n",
    "#Remove punctuation \n",
    "#Remove stopwords\n",
    "#Remove digits\n",
    "#Use stemmer and Lemmatization\n",
    "#stemmer = SnowballStemmer('english')\n",
    "#lemmatizer = WordNetLemmatizer()\n",
    "#def clean_text(text):\n",
    "    #text = text.lower()\n",
    "    #text = [x for x in text if x not in string.punctuation]\n",
    "    #text = [i for i in text if not i.isdigit()]\n",
    "    #text = ''.join(text)\n",
    "    #words = [y for y in text.split() if y not in stopwords.words('english')]\n",
    "    #words= [lemmatizer.lemmatize(j) for j in words]\n",
    "    #clean_words = ' '.join([stemmer.stem(z) for z in words])\n",
    "    #return clean_words"
   ]
  },
  {
   "cell_type": "code",
   "execution_count": 16,
   "id": "97020041",
   "metadata": {},
   "outputs": [
    {
     "data": {
      "text/plain": [
       "0    date wed 21 aug 2002 105446 0500 chris garrigu...\n",
       "1    martin post tasso papadopoulo greek sculptor b...\n",
       "2    man threaten explos moscow thursday august 22 ...\n",
       "3    klez virus wont die alreadi prolif virus ever ...\n",
       "4    ad cream spaghetti carbonara effect pasta make...\n",
       "Name: content, dtype: object"
      ]
     },
     "execution_count": 16,
     "metadata": {},
     "output_type": "execute_result"
    }
   ],
   "source": [
    "#mail_all['content'].head().apply(clean_text)"
   ]
  },
  {
   "cell_type": "code",
   "execution_count": 16,
   "id": "d046bf23",
   "metadata": {},
   "outputs": [],
   "source": [
    "#Shuffle the data frame\n",
    "mail_all = mail_all.sample(frac=1)"
   ]
  },
  {
   "cell_type": "code",
   "execution_count": 17,
   "id": "a43ccce5",
   "metadata": {},
   "outputs": [],
   "source": [
    "#Use CountVectorizer\n",
    "X= CountVectorizer(analyzer='word', stop_words='english').fit_transform(mail_all['content'])\n",
    "y= mail_all['classify']"
   ]
  },
  {
   "cell_type": "code",
   "execution_count": 70,
   "id": "b53533b1",
   "metadata": {},
   "outputs": [
    {
     "name": "stdout",
     "output_type": "stream",
     "text": [
      "\n",
      "Forwarded-by: Nev Dull <nev@sleepycat.com>\n",
      "Forwarded-by: newsletter@tvspy.com\n",
      "Excerpted: ShopTalk - September 13, 2002\n",
      "\n",
      "\"I'm a tad furry, so animal rights issues come into play.\"\n",
      "\tRobin Williams, telling Entertainment Weekly why he won't do\n",
      "\tnude scenes in movies.\n",
      "\n",
      "=-=-=-=-=-=-=-=-=-=-=-=-=-=-=-=-=-=-=-=-=-=-=-=-=\n",
      "Johnny U: Johnny Unitas was the National Football League's most valuable\n",
      "player twice - and he led Baltimore to victory in \"Super Bowl Five.\"\n",
      "For those of you younger than 30: this WAS modern football.  The game\n",
      "was played on artificial turf. (Richard Burkard/\n",
      "http://www.Laughline.com)\n",
      "\n",
      "Announcement: How telling is it that the death of Johnny Unitas was\n",
      "announced by the Baltimore Ravens - and not the Colts, who now play in\n",
      "Indianapolis?  When the Colt owners moved out of Baltimore years ago,\n",
      "they apparently left all the history books behind. (Burkard)\n",
      "\n",
      "Dick Disappears: Vice President Dick Cheney remains at an undisclosed\n",
      "location.  The move is for security reasons.  The Bush Administration\n",
      "is trying to keep him at a safe distance from would-be subpoenas. (Alan\n",
      "Ray - http://www.araycomedy.com)\n",
      "\n",
      "Noelle Nabbed: Jeb Bush's daughter Noelle is in trouble with the law\n",
      "again.  When she was a child, her dad would read her favorite bedtime\n",
      "story.  Goldilocks and the Three Strikes. (Ray)\n",
      "\n",
      "\n",
      "\n"
     ]
    }
   ],
   "source": [
    "print(mail_all[0:1]['content'].values[0])"
   ]
  },
  {
   "cell_type": "code",
   "execution_count": 73,
   "id": "4dd2e451",
   "metadata": {},
   "outputs": [],
   "source": [
    "example = CountVectorizer(analyzer='word', stop_words='english').fit_transform(mail_all[0:1]['content'])"
   ]
  },
  {
   "cell_type": "code",
   "execution_count": 75,
   "id": "c7ef1646",
   "metadata": {},
   "outputs": [
    {
     "data": {
      "text/html": [
       "<div>\n",
       "<style scoped>\n",
       "    .dataframe tbody tr th:only-of-type {\n",
       "        vertical-align: middle;\n",
       "    }\n",
       "\n",
       "    .dataframe tbody tr th {\n",
       "        vertical-align: top;\n",
       "    }\n",
       "\n",
       "    .dataframe thead th {\n",
       "        text-align: right;\n",
       "    }\n",
       "</style>\n",
       "<table border=\"1\" class=\"dataframe\">\n",
       "  <thead>\n",
       "    <tr style=\"text-align: right;\">\n",
       "      <th></th>\n",
       "      <th>0</th>\n",
       "      <th>1</th>\n",
       "      <th>2</th>\n",
       "      <th>3</th>\n",
       "      <th>4</th>\n",
       "      <th>5</th>\n",
       "      <th>6</th>\n",
       "      <th>7</th>\n",
       "      <th>8</th>\n",
       "      <th>9</th>\n",
       "      <th>...</th>\n",
       "      <th>91</th>\n",
       "      <th>92</th>\n",
       "      <th>93</th>\n",
       "      <th>94</th>\n",
       "      <th>95</th>\n",
       "      <th>96</th>\n",
       "      <th>97</th>\n",
       "      <th>98</th>\n",
       "      <th>99</th>\n",
       "      <th>100</th>\n",
       "    </tr>\n",
       "  </thead>\n",
       "  <tbody>\n",
       "    <tr>\n",
       "      <th>0</th>\n",
       "      <td>1</td>\n",
       "      <td>1</td>\n",
       "      <td>1</td>\n",
       "      <td>1</td>\n",
       "      <td>1</td>\n",
       "      <td>1</td>\n",
       "      <td>1</td>\n",
       "      <td>1</td>\n",
       "      <td>1</td>\n",
       "      <td>1</td>\n",
       "      <td>...</td>\n",
       "      <td>2</td>\n",
       "      <td>1</td>\n",
       "      <td>1</td>\n",
       "      <td>1</td>\n",
       "      <td>1</td>\n",
       "      <td>1</td>\n",
       "      <td>1</td>\n",
       "      <td>2</td>\n",
       "      <td>1</td>\n",
       "      <td>1</td>\n",
       "    </tr>\n",
       "  </tbody>\n",
       "</table>\n",
       "<p>1 rows × 101 columns</p>\n",
       "</div>"
      ],
      "text/plain": [
       "   0    1    2    3    4    5    6    7    8    9    ...  91   92   93   94   \\\n",
       "0    1    1    1    1    1    1    1    1    1    1  ...    2    1    1    1   \n",
       "\n",
       "   95   96   97   98   99   100  \n",
       "0    1    1    1    2    1    1  \n",
       "\n",
       "[1 rows x 101 columns]"
      ]
     },
     "execution_count": 75,
     "metadata": {},
     "output_type": "execute_result"
    }
   ],
   "source": [
    "pd.DataFrame(example.toarray())"
   ]
  },
  {
   "cell_type": "code",
   "execution_count": 18,
   "id": "89b9886f",
   "metadata": {},
   "outputs": [],
   "source": [
    "X_train, X_test, y_train, y_test = train_test_split(X, y, random_state=1, shuffle=True, test_size=0.2, stratify=y)"
   ]
  },
  {
   "cell_type": "code",
   "execution_count": 19,
   "id": "a91050a0",
   "metadata": {},
   "outputs": [
    {
     "data": {
      "text/plain": [
       "<7776x89891 sparse matrix of type '<class 'numpy.int64'>'\n",
       "\twith 877250 stored elements in Compressed Sparse Row format>"
      ]
     },
     "execution_count": 19,
     "metadata": {},
     "output_type": "execute_result"
    }
   ],
   "source": [
    "X_train"
   ]
  },
  {
   "cell_type": "code",
   "execution_count": 20,
   "id": "5780ddb7",
   "metadata": {},
   "outputs": [],
   "source": [
    "#Use Multinomial Naive Bayes\n",
    "NBclassifier = MultinomialNB().fit(X_train, y_train)\n",
    "pred = NBclassifier.predict(X_test)"
   ]
  },
  {
   "cell_type": "code",
   "execution_count": 22,
   "id": "63a36e29",
   "metadata": {},
   "outputs": [
    {
     "name": "stdout",
     "output_type": "stream",
     "text": [
      "              precision    recall  f1-score   support\n",
      "\n",
      "           0       0.99      0.99      0.99      1421\n",
      "           1       0.98      0.97      0.97       524\n",
      "\n",
      "    accuracy                           0.99      1945\n",
      "   macro avg       0.98      0.98      0.98      1945\n",
      "weighted avg       0.99      0.99      0.99      1945\n",
      "\n",
      "\n",
      "\n",
      "Confusion Matrix: \n",
      " [[1411   10]\n",
      " [  17  507]]\n",
      "\n",
      "\n",
      "Accuracy: \n",
      " 0.9861182519280206\n"
     ]
    }
   ],
   "source": [
    "print(classification_report(y_test, pred))\n",
    "print('\\n')\n",
    "print('Confusion Matrix: \\n', confusion_matrix(y_test, pred))\n",
    "print('\\n')\n",
    "print('Accuracy: \\n', accuracy_score(y_test, pred))"
   ]
  },
  {
   "cell_type": "code",
   "execution_count": 23,
   "id": "0da2f622",
   "metadata": {},
   "outputs": [],
   "source": [
    "#Use prediction results before clustering\n",
    "yhat = NBclassifier.predict_proba(X_test)"
   ]
  },
  {
   "cell_type": "code",
   "execution_count": 24,
   "id": "d7a3ddce",
   "metadata": {},
   "outputs": [
    {
     "name": "stdout",
     "output_type": "stream",
     "text": [
      "recall\n",
      " 0.9675572519083969\n"
     ]
    }
   ],
   "source": [
    "recall = mt.recall_score(y_test, NBclassifier.predict(X_test))\n",
    "print(\"recall\\n\",recall)"
   ]
  },
  {
   "cell_type": "code",
   "execution_count": 25,
   "id": "9e5938a4",
   "metadata": {},
   "outputs": [
    {
     "name": "stdout",
     "output_type": "stream",
     "text": [
      "precision\n",
      " 0.9806576402321083\n"
     ]
    }
   ],
   "source": [
    "precision = mt.precision_score(y_test, NBclassifier.predict(X_test))\n",
    "print(\"precision\\n\",precision)"
   ]
  },
  {
   "cell_type": "code",
   "execution_count": 44,
   "id": "7819fe8e",
   "metadata": {},
   "outputs": [],
   "source": [
    "cutoff_df = pd.DataFrame(\n",
    "{'Actual':y_test.tolist()\n",
    " ,'Predicted':list(NBclassifier.predict(X_test))\n",
    ",'class_0_prob' :list(NBclassifier.predict_proba(X_test)[:,0])\n",
    ",'class_1_prob' :list(NBclassifier.predict_proba(X_test)[:,1])    \n",
    "    \n",
    "}\n",
    "\n",
    "\n",
    ")"
   ]
  },
  {
   "cell_type": "code",
   "execution_count": 45,
   "id": "25607b42",
   "metadata": {},
   "outputs": [
    {
     "data": {
      "text/html": [
       "<div>\n",
       "<style scoped>\n",
       "    .dataframe tbody tr th:only-of-type {\n",
       "        vertical-align: middle;\n",
       "    }\n",
       "\n",
       "    .dataframe tbody tr th {\n",
       "        vertical-align: top;\n",
       "    }\n",
       "\n",
       "    .dataframe thead th {\n",
       "        text-align: right;\n",
       "    }\n",
       "</style>\n",
       "<table border=\"1\" class=\"dataframe\">\n",
       "  <thead>\n",
       "    <tr style=\"text-align: right;\">\n",
       "      <th></th>\n",
       "      <th>Actual</th>\n",
       "      <th>Predicted</th>\n",
       "      <th>class_0_prob</th>\n",
       "      <th>class_1_prob</th>\n",
       "    </tr>\n",
       "  </thead>\n",
       "  <tbody>\n",
       "    <tr>\n",
       "      <th>0</th>\n",
       "      <td>0</td>\n",
       "      <td>0</td>\n",
       "      <td>1.000000</td>\n",
       "      <td>2.880391e-17</td>\n",
       "    </tr>\n",
       "    <tr>\n",
       "      <th>1</th>\n",
       "      <td>0</td>\n",
       "      <td>0</td>\n",
       "      <td>1.000000</td>\n",
       "      <td>4.233661e-66</td>\n",
       "    </tr>\n",
       "    <tr>\n",
       "      <th>2</th>\n",
       "      <td>0</td>\n",
       "      <td>0</td>\n",
       "      <td>1.000000</td>\n",
       "      <td>2.865685e-18</td>\n",
       "    </tr>\n",
       "    <tr>\n",
       "      <th>3</th>\n",
       "      <td>0</td>\n",
       "      <td>1</td>\n",
       "      <td>0.000151</td>\n",
       "      <td>9.998494e-01</td>\n",
       "    </tr>\n",
       "    <tr>\n",
       "      <th>4</th>\n",
       "      <td>0</td>\n",
       "      <td>0</td>\n",
       "      <td>1.000000</td>\n",
       "      <td>4.033815e-51</td>\n",
       "    </tr>\n",
       "    <tr>\n",
       "      <th>...</th>\n",
       "      <td>...</td>\n",
       "      <td>...</td>\n",
       "      <td>...</td>\n",
       "      <td>...</td>\n",
       "    </tr>\n",
       "    <tr>\n",
       "      <th>1940</th>\n",
       "      <td>0</td>\n",
       "      <td>0</td>\n",
       "      <td>1.000000</td>\n",
       "      <td>2.857627e-127</td>\n",
       "    </tr>\n",
       "    <tr>\n",
       "      <th>1941</th>\n",
       "      <td>0</td>\n",
       "      <td>0</td>\n",
       "      <td>1.000000</td>\n",
       "      <td>4.553386e-23</td>\n",
       "    </tr>\n",
       "    <tr>\n",
       "      <th>1942</th>\n",
       "      <td>0</td>\n",
       "      <td>0</td>\n",
       "      <td>1.000000</td>\n",
       "      <td>2.331569e-67</td>\n",
       "    </tr>\n",
       "    <tr>\n",
       "      <th>1943</th>\n",
       "      <td>0</td>\n",
       "      <td>0</td>\n",
       "      <td>1.000000</td>\n",
       "      <td>7.592617e-17</td>\n",
       "    </tr>\n",
       "    <tr>\n",
       "      <th>1944</th>\n",
       "      <td>0</td>\n",
       "      <td>0</td>\n",
       "      <td>1.000000</td>\n",
       "      <td>2.045840e-83</td>\n",
       "    </tr>\n",
       "  </tbody>\n",
       "</table>\n",
       "<p>1945 rows × 4 columns</p>\n",
       "</div>"
      ],
      "text/plain": [
       "      Actual  Predicted  class_0_prob   class_1_prob\n",
       "0          0          0      1.000000   2.880391e-17\n",
       "1          0          0      1.000000   4.233661e-66\n",
       "2          0          0      1.000000   2.865685e-18\n",
       "3          0          1      0.000151   9.998494e-01\n",
       "4          0          0      1.000000   4.033815e-51\n",
       "...      ...        ...           ...            ...\n",
       "1940       0          0      1.000000  2.857627e-127\n",
       "1941       0          0      1.000000   4.553386e-23\n",
       "1942       0          0      1.000000   2.331569e-67\n",
       "1943       0          0      1.000000   7.592617e-17\n",
       "1944       0          0      1.000000   2.045840e-83\n",
       "\n",
       "[1945 rows x 4 columns]"
      ]
     },
     "execution_count": 45,
     "metadata": {},
     "output_type": "execute_result"
    }
   ],
   "source": [
    "cutoff_df"
   ]
  },
  {
   "cell_type": "code",
   "execution_count": null,
   "id": "87d6920f",
   "metadata": {},
   "outputs": [],
   "source": [
    "df_csv\n",
    "df_csv.to_csv('C:/Users/zzaik/OneDrive/SMU work/quantifying the world/case study/case study 3/df_csv.csv')  "
   ]
  },
  {
   "cell_type": "code",
   "execution_count": 48,
   "id": "0a234e0b",
   "metadata": {},
   "outputs": [],
   "source": [
    "def threshold_test(y,perc):\n",
    "    if y >= perc:\n",
    "        x = 1\n",
    "    else:\n",
    "        x= 0\n",
    "    return x"
   ]
  },
  {
   "cell_type": "code",
   "execution_count": 62,
   "id": "a6a3e03e",
   "metadata": {},
   "outputs": [],
   "source": [
    "from sklearn.metrics import f1_score\n",
    "precision_list = []\n",
    "recall_list = []\n",
    "accuracy_list = []\n",
    "f1_score_list = []\n",
    "threshold_list = [.1,.2,.3,.4,.5,.6,.7,.8,.9,1]\n",
    "for i in range(len(threshold_list)):\n",
    "    thresh_preds = []\n",
    "    for j in range(len(cutoff_df)):\n",
    "        thresh_preds.append(threshold_test(cutoff_df[j:j+1]['class_1_prob'].values[0],threshold_list[i]))\n",
    "    recall_list.append(mt.recall_score(y_test,thresh_preds))\n",
    "    precision_list.append(mt.precision_score(y_test,thresh_preds)) \n",
    "    accuracy_list.append(accuracy_score(y_test,thresh_preds))\n",
    "    f1_score_list.append(f1_score(y_test,thresh_preds))"
   ]
  },
  {
   "cell_type": "code",
   "execution_count": 64,
   "id": "8492b526",
   "metadata": {},
   "outputs": [],
   "source": [
    "cutoff_results_df = pd.DataFrame(\n",
    "{'Threshold':threshold_list\n",
    " ,'Accuracy':accuracy_list\n",
    ",'Precision' :precision_list\n",
    ",'Recall' :recall_list\n",
    " ,'F1_Score':f1_score_list\n",
    "    \n",
    "}\n",
    "\n",
    "\n",
    ")"
   ]
  },
  {
   "cell_type": "code",
   "execution_count": null,
   "id": "0a7d468b",
   "metadata": {},
   "outputs": [],
   "source": []
  },
  {
   "cell_type": "code",
   "execution_count": 41,
   "id": "a276f408",
   "metadata": {},
   "outputs": [],
   "source": []
  },
  {
   "cell_type": "code",
   "execution_count": 65,
   "id": "cd2ffaf7",
   "metadata": {},
   "outputs": [],
   "source": [
    "cutoff_results_df\n",
    "cutoff_results_df.to_csv('C:/Users/zzaik/OneDrive/SMU work/quantifying the world/case study/case study 3/cutoff_results_df.csv')  "
   ]
  },
  {
   "cell_type": "code",
   "execution_count": 26,
   "id": "eaaad857",
   "metadata": {},
   "outputs": [],
   "source": [
    "fpr = dict()\n",
    "tpr = dict()\n",
    "roc_auc = dict()\n",
    "thresholds = dict()\n",
    "for i in range(2):\n",
    "    fpr[i], tpr[i], thresholds[i] = roc_curve(y_test, yhat[:, i], pos_label=i)\n",
    "    roc_auc[i] = auc(fpr[i], tpr[i])"
   ]
  },
  {
   "cell_type": "code",
   "execution_count": 27,
   "id": "a473b0be",
   "metadata": {},
   "outputs": [
    {
     "name": "stdout",
     "output_type": "stream",
     "text": [
      "{0: array([2.00000000e+000, 1.00000000e+000, 1.00000000e+000, 1.00000000e+000,\n",
      "       1.00000000e+000, 1.00000000e+000, 1.00000000e+000, 1.00000000e+000,\n",
      "       1.00000000e+000, 1.00000000e+000, 1.00000000e+000, 1.00000000e+000,\n",
      "       1.00000000e+000, 1.00000000e+000, 1.00000000e+000, 1.00000000e+000,\n",
      "       1.00000000e+000, 1.00000000e+000, 1.00000000e+000, 1.00000000e+000,\n",
      "       1.00000000e+000, 1.00000000e+000, 1.00000000e+000, 1.00000000e+000,\n",
      "       1.00000000e+000, 1.00000000e+000, 1.00000000e+000, 1.00000000e+000,\n",
      "       1.00000000e+000, 1.00000000e+000, 1.00000000e+000, 1.00000000e+000,\n",
      "       1.00000000e+000, 9.99999998e-001, 9.99999997e-001, 9.99999995e-001,\n",
      "       9.99999995e-001, 9.99999994e-001, 9.99999980e-001, 9.99999969e-001,\n",
      "       9.99999060e-001, 9.99998702e-001, 9.99957260e-001, 9.99176536e-001,\n",
      "       9.98892577e-001, 9.96405497e-001, 9.92728355e-001, 9.90977622e-001,\n",
      "       9.82758590e-001, 9.73881785e-001, 9.48175998e-001, 9.23945091e-001,\n",
      "       8.14028434e-001, 7.90789322e-001, 7.30581276e-001, 7.05172116e-001,\n",
      "       1.01676785e-002, 9.60635008e-003, 2.18683461e-004, 1.50591162e-004,\n",
      "       3.28777738e-005, 3.06363207e-005, 1.45793192e-006, 1.44442721e-006,\n",
      "       1.25962253e-007, 1.10501959e-007, 7.14064801e-008, 6.29265369e-008,\n",
      "       3.13907226e-012, 2.51166239e-012, 3.64313312e-014, 1.24292720e-014,\n",
      "       7.16810128e-016, 6.60309336e-016, 3.94318496e-017, 3.22731074e-017,\n",
      "       2.02955630e-017, 1.54559310e-017, 1.30233303e-018, 1.20056828e-018,\n",
      "       4.11294183e-019, 3.24730879e-019, 2.08797226e-019, 1.81821699e-019,\n",
      "       2.55335733e-020, 1.13589948e-020, 5.71073062e-021, 4.69419377e-021,\n",
      "       9.59615964e-023, 6.44839478e-023, 2.35087736e-024, 1.88840662e-024,\n",
      "       8.83161478e-025, 6.84559907e-025, 2.66901319e-026, 2.58308863e-026,\n",
      "       9.96009297e-029, 7.21466825e-029, 5.49576080e-030, 4.64109372e-030,\n",
      "       1.01605160e-030, 6.52754408e-031, 5.01641264e-031, 2.62679242e-031,\n",
      "       3.08314579e-032, 1.93828870e-032, 2.92539537e-035, 2.00045977e-035,\n",
      "       2.76644522e-037, 2.03585360e-037, 6.33246941e-041, 3.64207750e-041,\n",
      "       3.97493556e-042, 3.94559780e-042, 2.05527253e-042, 5.21602274e-043,\n",
      "       6.41583532e-044, 2.00892112e-044, 1.05388287e-044, 9.19351644e-045,\n",
      "       7.73785962e-045, 5.58908162e-045, 1.90373354e-045, 1.38916320e-045,\n",
      "       2.41076145e-048, 2.58180899e-049, 9.07314813e-053, 8.09452127e-053,\n",
      "       4.03053074e-054, 2.28340235e-054, 5.62581765e-055, 2.28924180e-055,\n",
      "       2.06760135e-070, 1.25061747e-071, 1.39839306e-158, 6.52085439e-160,\n",
      "       2.49029858e-310, 0.00000000e+000]), 1: array([2.00000000e+000, 1.00000000e+000, 1.00000000e+000, 1.00000000e+000,\n",
      "       1.00000000e+000, 1.00000000e+000, 9.99999939e-001, 9.99999937e-001,\n",
      "       9.99999909e-001, 9.99999889e-001, 9.99998758e-001, 9.99998556e-001,\n",
      "       9.99973432e-001, 9.99969364e-001, 9.99895402e-001, 9.99849409e-001,\n",
      "       9.91458839e-001, 9.90393650e-001, 6.29590742e-001, 2.94827884e-001,\n",
      "       2.69418724e-001, 2.09210678e-001, 1.25995462e-001, 7.60549091e-002,\n",
      "       2.83761328e-002, 2.61182145e-002, 1.72414099e-002, 9.02237832e-003,\n",
      "       7.27164515e-003, 3.59450315e-003, 1.10742313e-003, 8.23464432e-004,\n",
      "       1.73406723e-006, 1.29836391e-006, 3.43367522e-008, 3.10051967e-008,\n",
      "       7.98730755e-009, 5.68606746e-009, 5.18874265e-009, 3.03652370e-009,\n",
      "       2.98482212e-009, 6.23944029e-010, 4.88394258e-010, 2.95204183e-010,\n",
      "       2.09939686e-010, 1.89403658e-010, 1.21387641e-010, 1.08968079e-010,\n",
      "       9.24631258e-011, 8.24313946e-011, 1.31188426e-011, 9.04890011e-012,\n",
      "       1.33848154e-012, 1.20282879e-012, 9.97279860e-013, 8.84096955e-013,\n",
      "       6.98785630e-013, 5.86081417e-013, 1.86375827e-013, 1.41872442e-013,\n",
      "       3.58651008e-014, 3.27569812e-014, 1.60473461e-014, 1.57561860e-014,\n",
      "       2.22653132e-015, 1.86484092e-015, 2.44651603e-016, 1.82433731e-016,\n",
      "       1.73027457e-017, 1.57815725e-017, 9.52684691e-018, 8.98293393e-018,\n",
      "       5.94845587e-018, 5.77176463e-018, 1.15398432e-019, 9.54462502e-020,\n",
      "       6.79154290e-020, 5.38088852e-020, 3.64298644e-020, 3.58359062e-020,\n",
      "       2.57308145e-020, 1.93421740e-020, 9.39534227e-022, 8.80907650e-022,\n",
      "       2.14687771e-022, 2.03203581e-022, 2.15746902e-023, 1.85000091e-023,\n",
      "       4.85394794e-024, 4.47621993e-024, 4.47286559e-024, 2.50337733e-025,\n",
      "       2.45594407e-025, 1.97667232e-025, 1.88239405e-025, 7.46991307e-026,\n",
      "       6.69581688e-026, 3.65379888e-027, 3.06389030e-027, 4.05102491e-028,\n",
      "       3.35931354e-028, 4.84781842e-029, 4.14396656e-029, 2.34974505e-029,\n",
      "       1.88763030e-029, 1.32839201e-030, 1.26034288e-030, 6.35799030e-031,\n",
      "       5.21829014e-031, 2.87263248e-031, 2.43221361e-031, 6.15757346e-033,\n",
      "       6.11979441e-033, 1.76581025e-033, 1.71255173e-033, 1.49877511e-033,\n",
      "       1.32652648e-033, 3.16662839e-034, 2.60486798e-034, 1.98062189e-034,\n",
      "       1.77797723e-034, 8.03338162e-035, 7.04512333e-035, 3.28814517e-035,\n",
      "       2.15247459e-035, 1.15192205e-037, 8.96294173e-038, 1.77447356e-038,\n",
      "       1.58542370e-038, 9.12286019e-040, 8.15663971e-040, 7.77942903e-042,\n",
      "       7.20418518e-042, 6.38696158e-042, 6.10088425e-042, 3.95682208e-042,\n",
      "       3.06172380e-042, 4.12954719e-043, 3.31050706e-043, 7.40980198e-045,\n",
      "       5.98043645e-045, 8.05881266e-046, 7.42549627e-046, 1.22574518e-046,\n",
      "       9.18857448e-047, 7.50934382e-047, 7.23494758e-047, 6.17671110e-047,\n",
      "       5.88815299e-047, 5.30924024e-048, 4.78821668e-048, 5.32109623e-050,\n",
      "       4.84099445e-050, 2.04593087e-050, 1.74487934e-050, 8.36128254e-051,\n",
      "       8.13505626e-051, 3.88816148e-051, 2.23566490e-051, 1.88972090e-051,\n",
      "       1.82084490e-051, 1.29535093e-052, 1.26409995e-052, 9.65823854e-053,\n",
      "       7.38258486e-053, 1.32795907e-053, 1.29072672e-053, 3.34086747e-054,\n",
      "       3.21987268e-054, 3.00659816e-056, 1.85143920e-056, 2.34740660e-057,\n",
      "       2.13352208e-057, 1.49410686e-057, 7.76701258e-058, 9.19779649e-059,\n",
      "       7.14863555e-059, 4.07638176e-060, 3.63213221e-060, 1.66169220e-060,\n",
      "       1.44029169e-060, 4.98656115e-062, 2.37490210e-062, 6.00870910e-063,\n",
      "       5.62878268e-063, 5.36330607e-065, 5.22099497e-065, 1.93068138e-068,\n",
      "       1.26043517e-068, 8.26762216e-073, 6.59769879e-073, 9.53339769e-076,\n",
      "       3.88110288e-076, 1.07879312e-081, 6.80067163e-083, 1.09027901e-085,\n",
      "       4.26697312e-086, 1.08151606e-086, 3.97762195e-087, 6.57395923e-088,\n",
      "       3.99951166e-089, 7.84050354e-102, 3.50857358e-102, 1.38622900e-107,\n",
      "       2.23603096e-109, 3.61435431e-116, 3.61030792e-116, 4.32621142e-121,\n",
      "       4.99274732e-122, 5.53833975e-124, 1.34941863e-124, 3.24427060e-131,\n",
      "       3.04092703e-131, 5.98696255e-132, 2.29874079e-132, 1.12075015e-148,\n",
      "       3.95694389e-150, 1.43656786e-212, 1.01462697e-212, 1.74498431e-258,\n",
      "       3.02602821e-261, 1.95914321e-318, 0.00000000e+000])}\n"
     ]
    }
   ],
   "source": [
    "print(thresholds)"
   ]
  },
  {
   "cell_type": "code",
   "execution_count": 19,
   "id": "f66f11b8",
   "metadata": {},
   "outputs": [
    {
     "data": {
      "text/plain": [
       "Text(0, 0.5, 'WCSS')"
      ]
     },
     "execution_count": 19,
     "metadata": {},
     "output_type": "execute_result"
    },
    {
     "data": {
      "image/png": "[encoded data removed]",
      "text/plain": [
       "<Figure size 576x576 with 1 Axes>"
      ]
     },
     "metadata": {
      "needs_background": "light"
     },
     "output_type": "display_data"
    }
   ],
   "source": [
    "#Use KMean clustering to create new features before applying Naive Bayes\n",
    "#Use elbow method to get the optimal number of clusters\n",
    "wcss=[]\n",
    "\n",
    "for i in range(2,28):\n",
    "    cls=KMeans(n_clusters=i, init='k-means++',random_state=5)\n",
    "    cls.fit(X)\n",
    "    wcss.append(cls.inertia_)\n",
    "\n",
    "\n",
    "f,ax=plt.subplots(figsize=(8,8))\n",
    "plt.subplot(1,1,1)\n",
    "plt.plot(range(2,28),wcss)\n",
    "plt.title('The Elbow Method for Cluster')\n",
    "plt.xlabel('Number of Clusters')\n",
    "plt.ylabel('WCSS')"
   ]
  },
  {
   "cell_type": "code",
   "execution_count": 20,
   "id": "f74a63d0",
   "metadata": {},
   "outputs": [
    {
     "data": {
      "text/plain": [
       "(7776, 89892)"
      ]
     },
     "execution_count": 20,
     "metadata": {},
     "output_type": "execute_result"
    }
   ],
   "source": [
    "#Use n=10 clusters to do KMean clustering\n",
    "cls=KMeans(n_clusters=10, init='k-means++',random_state=1)\n",
    "cls.fit(X_train)\n",
    "#Append the new cluster feature column to spase matrix\n",
    "X_train_new = scipy.sparse.hstack((X_train, cls.predict(X_train)[:,None])).A \n",
    "X_test_new = scipy.sparse.hstack((X_test, cls.predict(X_test)[:,None])).A\n",
    "X_train_new.shape"
   ]
  },
  {
   "cell_type": "code",
   "execution_count": 21,
   "id": "956a7517",
   "metadata": {},
   "outputs": [],
   "source": [
    "#Use X_new to fit Naive Bayes model\n",
    "NBclassifier = MultinomialNB().fit(X_train_new, y_train)\n",
    "pred_cluster = NBclassifier.predict(X_test_new)"
   ]
  },
  {
   "cell_type": "code",
   "execution_count": 22,
   "id": "8b7130c7",
   "metadata": {},
   "outputs": [
    {
     "name": "stdout",
     "output_type": "stream",
     "text": [
      "              precision    recall  f1-score   support\n",
      "\n",
      "           0       0.98      1.00      0.99      1421\n",
      "           1       0.99      0.94      0.96       524\n",
      "\n",
      "    accuracy                           0.98      1945\n",
      "   macro avg       0.98      0.97      0.98      1945\n",
      "weighted avg       0.98      0.98      0.98      1945\n",
      "\n",
      "\n",
      "\n",
      "Confusion Matrix: \n",
      " [[1416    5]\n",
      " [  31  493]]\n",
      "\n",
      "\n",
      "Accuracy: \n",
      " 0.9814910025706941\n"
     ]
    }
   ],
   "source": [
    "print(classification_report(y_test, pred_cluster))\n",
    "print('\\n')\n",
    "print('Confusion Matrix: \\n', confusion_matrix(y_test, pred_cluster))\n",
    "print('\\n')\n",
    "print('Accuracy: \\n', accuracy_score(y_test, pred_cluster))"
   ]
  },
  {
   "cell_type": "markdown",
   "id": "bb7fd8c9",
   "metadata": {},
   "source": [
    "### End of the case study"
   ]
  },
  {
   "cell_type": "code",
   "execution_count": 42,
   "id": "fdc421ad",
   "metadata": {},
   "outputs": [],
   "source": [
    "#Use KNN clustering\n",
    "knn = KNeighborsClassifier().fit(X_train, y_train)\n",
    "pred_knn = knn.predict(X_test)"
   ]
  },
  {
   "cell_type": "code",
   "execution_count": 43,
   "id": "97810762",
   "metadata": {},
   "outputs": [
    {
     "name": "stdout",
     "output_type": "stream",
     "text": [
      "              precision    recall  f1-score   support\n",
      "\n",
      "           0       0.96      0.94      0.95      1421\n",
      "           1       0.85      0.89      0.87       524\n",
      "\n",
      "    accuracy                           0.93      1945\n",
      "   macro avg       0.91      0.92      0.91      1945\n",
      "weighted avg       0.93      0.93      0.93      1945\n",
      "\n",
      "\n",
      "\n",
      "Confusion Matrix: \n",
      " [[1339   82]\n",
      " [  56  468]]\n",
      "\n",
      "\n",
      "Accuracy: \n",
      " 0.9290488431876607\n"
     ]
    }
   ],
   "source": [
    "print(classification_report(y_test, pred_knn))\n",
    "print('\\n')\n",
    "print('Confusion Matrix: \\n', confusion_matrix(y_test, pred_knn))\n",
    "print('\\n')\n",
    "print('Accuracy: \\n', accuracy_score(y_test, pred_knn))"
   ]
  },
  {
   "cell_type": "code",
   "execution_count": 50,
   "id": "087982eb",
   "metadata": {},
   "outputs": [],
   "source": [
    "#Use TFIDFvectorizer\n",
    "X= TfidfVectorizer(analyzer='word', stop_words='english').fit_transform(mail_all['content'])\n",
    "y= mail_all['classify']"
   ]
  },
  {
   "cell_type": "code",
   "execution_count": 51,
   "id": "b4455007",
   "metadata": {},
   "outputs": [],
   "source": [
    "X_train, X_test, y_train, y_test = train_test_split(X, y, random_state=1, shuffle=True, test_size=0.2, stratify=y)"
   ]
  },
  {
   "cell_type": "code",
   "execution_count": 52,
   "id": "14513f1f",
   "metadata": {},
   "outputs": [],
   "source": [
    "NBclassifier = MultinomialNB().fit(X_train, y_train)\n",
    "pred = NBclassifier.predict(X_test)"
   ]
  },
  {
   "cell_type": "code",
   "execution_count": 53,
   "id": "36c4a004",
   "metadata": {},
   "outputs": [
    {
     "name": "stdout",
     "output_type": "stream",
     "text": [
      "              precision    recall  f1-score   support\n",
      "\n",
      "           0       0.92      1.00      0.96      1421\n",
      "           1       1.00      0.75      0.86       524\n",
      "\n",
      "    accuracy                           0.93      1945\n",
      "   macro avg       0.96      0.88      0.91      1945\n",
      "weighted avg       0.94      0.93      0.93      1945\n",
      "\n",
      "\n",
      "\n",
      "Confusion Matrix: \n",
      " [[1421    0]\n",
      " [ 130  394]]\n",
      "\n",
      "\n",
      "Accuracy: \n",
      " 0.9331619537275064\n"
     ]
    }
   ],
   "source": [
    "print(classification_report(y_test, pred))\n",
    "print('\\n')\n",
    "print('Confusion Matrix: \\n', confusion_matrix(y_test, pred))\n",
    "print('\\n')\n",
    "print('Accuracy: \\n', accuracy_score(y_test, pred))"
   ]
  },
  {
   "cell_type": "code",
   "execution_count": 54,
   "id": "0d39deec",
   "metadata": {},
   "outputs": [],
   "source": [
    "knn = KNeighborsClassifier().fit(X_train, y_train)\n",
    "pred_knn = knn.predict(X_test)"
   ]
  },
  {
   "cell_type": "code",
   "execution_count": 55,
   "id": "307c6d94",
   "metadata": {},
   "outputs": [
    {
     "name": "stdout",
     "output_type": "stream",
     "text": [
      "              precision    recall  f1-score   support\n",
      "\n",
      "           0       0.93      0.84      0.88      1421\n",
      "           1       0.66      0.82      0.73       524\n",
      "\n",
      "    accuracy                           0.84      1945\n",
      "   macro avg       0.79      0.83      0.81      1945\n",
      "weighted avg       0.86      0.84      0.84      1945\n",
      "\n",
      "\n",
      "\n",
      "Confusion Matrix: \n",
      " [[1195  226]\n",
      " [  92  432]]\n",
      "\n",
      "\n",
      "Accuracy: \n",
      " 0.8365038560411311\n"
     ]
    }
   ],
   "source": [
    "print(classification_report(y_test, pred_knn))\n",
    "print('\\n')\n",
    "print('Confusion Matrix: \\n', confusion_matrix(y_test, pred_knn))\n",
    "print('\\n')\n",
    "print('Accuracy: \\n', accuracy_score(y_test, pred_knn))"
   ]
  },
  {
   "cell_type": "code",
   "execution_count": null,
   "id": "d7059ea1",
   "metadata": {},
   "outputs": [],
   "source": []
  }
 ],
 "metadata": {
  "kernelspec": {
   "display_name": "Python 3",
   "language": "python",
   "name": "python3"
  },
  "language_info": {
   "codemirror_mode": {
    "name": "ipython",
    "version": 3
   },
   "file_extension": ".py",
   "mimetype": "text/x-python",
   "name": "python",
   "nbconvert_exporter": "python",
   "pygments_lexer": "ipython3",
   "version": "3.7.10"
  }
 },
 "nbformat": 4,
 "nbformat_minor": 5
}
