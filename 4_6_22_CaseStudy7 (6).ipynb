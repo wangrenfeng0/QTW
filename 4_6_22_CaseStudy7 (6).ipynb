{
 "cells": [
  {
   "cell_type": "code",
   "execution_count": 1,
   "id": "b089a037",
   "metadata": {
    "id": "b089a037"
   },
   "outputs": [],
   "source": [
    "from sklearn.linear_model import LogisticRegression\n",
    "import pandas as pd\n",
    "import numpy as np\n",
    "from sklearn.preprocessing import StandardScaler\n",
    "from sklearn.model_selection import train_test_split\n",
    "from sklearn.model_selection import cross_val_score, cross_validate, GridSearchCV\n",
    "from sklearn.model_selection import StratifiedKFold\n",
    "from sklearn.metrics import confusion_matrix, roc_auc_score, roc_curve, accuracy_score, precision_score, recall_score, f1_score, precision_recall_curve, auc, classification_report\n",
    "from sklearn import metrics as mt\n",
    "from numpy import sqrt \n",
    "from sklearn.pipeline import Pipeline\n",
    "import matplotlib.pyplot as plt\n",
    "%matplotlib inline\n",
    "import warnings\n",
    "warnings.filterwarnings('ignore')\n",
    "from sklearn.ensemble import RandomForestClassifier\n",
    "import xgboost\n",
    "from sklearn.model_selection import GridSearchCV, RandomizedSearchCV, train_test_split, StratifiedKFold\n",
    "import matplotlib.pyplot as plt\n",
    "from sklearn import metrics as mt\n",
    "from matplotlib.pyplot import figure\n",
    "from sklearn.linear_model import SGDClassifier\n",
    "import tensorflow as tf\n",
    "from keras.utils.vis_utils import plot_model\n",
    "from keras import backend as K"
   ]
  },
  {
   "cell_type": "code",
   "execution_count": 4,
   "id": "20e2d566",
   "metadata": {
    "colab": {
     "base_uri": "https://localhost:8080/",
     "height": 236
    },
    "id": "20e2d566",
    "outputId": "ea380096-c657-463d-a969-b5dc67c28920"
   },
   "outputs": [
    {
     "data": {
      "text/html": [
       "<div>\n",
       "<style scoped>\n",
       "    .dataframe tbody tr th:only-of-type {\n",
       "        vertical-align: middle;\n",
       "    }\n",
       "\n",
       "    .dataframe tbody tr th {\n",
       "        vertical-align: top;\n",
       "    }\n",
       "\n",
       "    .dataframe thead th {\n",
       "        text-align: right;\n",
       "    }\n",
       "</style>\n",
       "<table border=\"1\" class=\"dataframe\">\n",
       "  <thead>\n",
       "    <tr style=\"text-align: right;\">\n",
       "      <th></th>\n",
       "      <th>x0</th>\n",
       "      <th>x1</th>\n",
       "      <th>x2</th>\n",
       "      <th>x3</th>\n",
       "      <th>x4</th>\n",
       "      <th>x5</th>\n",
       "      <th>x6</th>\n",
       "      <th>x7</th>\n",
       "      <th>x8</th>\n",
       "      <th>x9</th>\n",
       "      <th>...</th>\n",
       "      <th>x41</th>\n",
       "      <th>x42</th>\n",
       "      <th>x43</th>\n",
       "      <th>x44</th>\n",
       "      <th>x45</th>\n",
       "      <th>x46</th>\n",
       "      <th>x47</th>\n",
       "      <th>x48</th>\n",
       "      <th>x49</th>\n",
       "      <th>y</th>\n",
       "    </tr>\n",
       "  </thead>\n",
       "  <tbody>\n",
       "    <tr>\n",
       "      <th>0</th>\n",
       "      <td>-0.166563</td>\n",
       "      <td>-3.961588</td>\n",
       "      <td>4.621113</td>\n",
       "      <td>2.481908</td>\n",
       "      <td>-1.800135</td>\n",
       "      <td>0.804684</td>\n",
       "      <td>6.718751</td>\n",
       "      <td>-14.789997</td>\n",
       "      <td>-1.040673</td>\n",
       "      <td>-4.204950</td>\n",
       "      <td>...</td>\n",
       "      <td>-1.497117</td>\n",
       "      <td>5.414063</td>\n",
       "      <td>-2.325655</td>\n",
       "      <td>1.674827</td>\n",
       "      <td>-0.264332</td>\n",
       "      <td>60.781427</td>\n",
       "      <td>-7.689696</td>\n",
       "      <td>0.151589</td>\n",
       "      <td>-8.040166</td>\n",
       "      <td>0</td>\n",
       "    </tr>\n",
       "    <tr>\n",
       "      <th>1</th>\n",
       "      <td>-0.149894</td>\n",
       "      <td>-0.585676</td>\n",
       "      <td>27.839856</td>\n",
       "      <td>4.152333</td>\n",
       "      <td>6.426802</td>\n",
       "      <td>-2.426943</td>\n",
       "      <td>40.477058</td>\n",
       "      <td>-6.725709</td>\n",
       "      <td>0.896421</td>\n",
       "      <td>0.330165</td>\n",
       "      <td>...</td>\n",
       "      <td>36.292790</td>\n",
       "      <td>4.490915</td>\n",
       "      <td>0.762561</td>\n",
       "      <td>6.526662</td>\n",
       "      <td>1.007927</td>\n",
       "      <td>15.805696</td>\n",
       "      <td>-4.896678</td>\n",
       "      <td>-0.320283</td>\n",
       "      <td>16.719974</td>\n",
       "      <td>0</td>\n",
       "    </tr>\n",
       "    <tr>\n",
       "      <th>2</th>\n",
       "      <td>-0.321707</td>\n",
       "      <td>-1.429819</td>\n",
       "      <td>12.251561</td>\n",
       "      <td>6.586874</td>\n",
       "      <td>-5.304647</td>\n",
       "      <td>-11.311090</td>\n",
       "      <td>17.812850</td>\n",
       "      <td>11.060572</td>\n",
       "      <td>5.325880</td>\n",
       "      <td>-2.632984</td>\n",
       "      <td>...</td>\n",
       "      <td>-0.368491</td>\n",
       "      <td>9.088864</td>\n",
       "      <td>-0.689886</td>\n",
       "      <td>-2.731118</td>\n",
       "      <td>0.754200</td>\n",
       "      <td>30.856417</td>\n",
       "      <td>-7.428573</td>\n",
       "      <td>-2.090804</td>\n",
       "      <td>-7.869421</td>\n",
       "      <td>0</td>\n",
       "    </tr>\n",
       "    <tr>\n",
       "      <th>3</th>\n",
       "      <td>-0.245594</td>\n",
       "      <td>5.076677</td>\n",
       "      <td>-24.149632</td>\n",
       "      <td>3.637307</td>\n",
       "      <td>6.505811</td>\n",
       "      <td>2.290224</td>\n",
       "      <td>-35.111751</td>\n",
       "      <td>-18.913592</td>\n",
       "      <td>-0.337041</td>\n",
       "      <td>-5.568076</td>\n",
       "      <td>...</td>\n",
       "      <td>15.691546</td>\n",
       "      <td>-7.467775</td>\n",
       "      <td>2.940789</td>\n",
       "      <td>-6.424112</td>\n",
       "      <td>0.419776</td>\n",
       "      <td>-72.424569</td>\n",
       "      <td>5.361375</td>\n",
       "      <td>1.806070</td>\n",
       "      <td>-7.670847</td>\n",
       "      <td>0</td>\n",
       "    </tr>\n",
       "    <tr>\n",
       "      <th>4</th>\n",
       "      <td>-0.273366</td>\n",
       "      <td>0.306326</td>\n",
       "      <td>-11.352593</td>\n",
       "      <td>1.676758</td>\n",
       "      <td>2.928441</td>\n",
       "      <td>-0.616824</td>\n",
       "      <td>-16.505817</td>\n",
       "      <td>27.532281</td>\n",
       "      <td>1.199715</td>\n",
       "      <td>-4.309105</td>\n",
       "      <td>...</td>\n",
       "      <td>-13.911297</td>\n",
       "      <td>-5.229937</td>\n",
       "      <td>1.783928</td>\n",
       "      <td>3.957801</td>\n",
       "      <td>-0.096988</td>\n",
       "      <td>-14.085435</td>\n",
       "      <td>-0.208351</td>\n",
       "      <td>-0.894942</td>\n",
       "      <td>15.724742</td>\n",
       "      <td>1</td>\n",
       "    </tr>\n",
       "  </tbody>\n",
       "</table>\n",
       "<p>5 rows × 51 columns</p>\n",
       "</div>"
      ],
      "text/plain": [
       "         x0        x1         x2        x3        x4         x5         x6  \\\n",
       "0 -0.166563 -3.961588   4.621113  2.481908 -1.800135   0.804684   6.718751   \n",
       "1 -0.149894 -0.585676  27.839856  4.152333  6.426802  -2.426943  40.477058   \n",
       "2 -0.321707 -1.429819  12.251561  6.586874 -5.304647 -11.311090  17.812850   \n",
       "3 -0.245594  5.076677 -24.149632  3.637307  6.505811   2.290224 -35.111751   \n",
       "4 -0.273366  0.306326 -11.352593  1.676758  2.928441  -0.616824 -16.505817   \n",
       "\n",
       "          x7        x8        x9  ...        x41       x42       x43  \\\n",
       "0 -14.789997 -1.040673 -4.204950  ...  -1.497117  5.414063 -2.325655   \n",
       "1  -6.725709  0.896421  0.330165  ...  36.292790  4.490915  0.762561   \n",
       "2  11.060572  5.325880 -2.632984  ...  -0.368491  9.088864 -0.689886   \n",
       "3 -18.913592 -0.337041 -5.568076  ...  15.691546 -7.467775  2.940789   \n",
       "4  27.532281  1.199715 -4.309105  ... -13.911297 -5.229937  1.783928   \n",
       "\n",
       "        x44       x45        x46       x47       x48        x49  y  \n",
       "0  1.674827 -0.264332  60.781427 -7.689696  0.151589  -8.040166  0  \n",
       "1  6.526662  1.007927  15.805696 -4.896678 -0.320283  16.719974  0  \n",
       "2 -2.731118  0.754200  30.856417 -7.428573 -2.090804  -7.869421  0  \n",
       "3 -6.424112  0.419776 -72.424569  5.361375  1.806070  -7.670847  0  \n",
       "4  3.957801 -0.096988 -14.085435 -0.208351 -0.894942  15.724742  1  \n",
       "\n",
       "[5 rows x 51 columns]"
      ]
     },
     "execution_count": 4,
     "metadata": {},
     "output_type": "execute_result"
    }
   ],
   "source": [
    "df = pd.read_csv('final_project(5).csv')\n",
    "df.head()"
   ]
  },
  {
   "cell_type": "code",
   "execution_count": 5,
   "id": "a996c329",
   "metadata": {
    "colab": {
     "base_uri": "https://localhost:8080/"
    },
    "id": "a996c329",
    "outputId": "dbf06d5a-f95d-4f16-eb66-64603534b1f5"
   },
   "outputs": [
    {
     "data": {
      "text/plain": [
       "x0     0.000162\n",
       "x1     0.000156\n",
       "x2     0.000237\n",
       "x3     0.000231\n",
       "x4     0.000162\n",
       "x5     0.000231\n",
       "x6     0.000162\n",
       "x7     0.000169\n",
       "x8     0.000131\n",
       "x9     0.000188\n",
       "x10    0.000269\n",
       "x11    0.000188\n",
       "x12    0.000225\n",
       "x13    0.000194\n",
       "x14    0.000212\n",
       "x15    0.000219\n",
       "x16    0.000162\n",
       "x17    0.000169\n",
       "x18    0.000250\n",
       "x19    0.000219\n",
       "x20    0.000237\n",
       "x21    0.000181\n",
       "x22    0.000169\n",
       "x23    0.000294\n",
       "x24    0.000175\n",
       "x25    0.000138\n",
       "x26    0.000225\n",
       "x27    0.000188\n",
       "x28    0.000219\n",
       "x29    0.000188\n",
       "x30    0.000188\n",
       "x31    0.000244\n",
       "x32    0.000194\n",
       "x33    0.000256\n",
       "x34    0.000256\n",
       "x35    0.000188\n",
       "x36    0.000169\n",
       "x37    0.000144\n",
       "x38    0.000194\n",
       "x39    0.000144\n",
       "x40    0.000225\n",
       "x41    0.000250\n",
       "x42    0.000162\n",
       "x43    0.000231\n",
       "x44    0.000250\n",
       "x45    0.000181\n",
       "x46    0.000194\n",
       "x47    0.000231\n",
       "x48    0.000200\n",
       "x49    0.000200\n",
       "y      0.000000\n",
       "dtype: float64"
      ]
     },
     "execution_count": 5,
     "metadata": {},
     "output_type": "execute_result"
    }
   ],
   "source": [
    "df.isna().mean()"
   ]
  },
  {
   "cell_type": "code",
   "execution_count": 6,
   "id": "568c153d",
   "metadata": {
    "colab": {
     "base_uri": "https://localhost:8080/"
    },
    "id": "568c153d",
    "outputId": "b7e6a7b9-2a00-4398-9071-9c8888df3fda"
   },
   "outputs": [
    {
     "data": {
      "text/plain": [
       "(160000, 51)"
      ]
     },
     "execution_count": 6,
     "metadata": {},
     "output_type": "execute_result"
    }
   ],
   "source": [
    "df.shape"
   ]
  },
  {
   "cell_type": "code",
   "execution_count": 7,
   "id": "90f33847",
   "metadata": {
    "colab": {
     "base_uri": "https://localhost:8080/"
    },
    "id": "90f33847",
    "outputId": "5ade3230-91f6-42de-843d-1f6fc0dc1377"
   },
   "outputs": [
    {
     "name": "stdout",
     "output_type": "stream",
     "text": [
      "<class 'pandas.core.frame.DataFrame'>\n",
      "RangeIndex: 160000 entries, 0 to 159999\n",
      "Data columns (total 51 columns):\n",
      " #   Column  Non-Null Count   Dtype  \n",
      "---  ------  --------------   -----  \n",
      " 0   x0      159974 non-null  float64\n",
      " 1   x1      159975 non-null  float64\n",
      " 2   x2      159962 non-null  float64\n",
      " 3   x3      159963 non-null  float64\n",
      " 4   x4      159974 non-null  float64\n",
      " 5   x5      159963 non-null  float64\n",
      " 6   x6      159974 non-null  float64\n",
      " 7   x7      159973 non-null  float64\n",
      " 8   x8      159979 non-null  float64\n",
      " 9   x9      159970 non-null  float64\n",
      " 10  x10     159957 non-null  float64\n",
      " 11  x11     159970 non-null  float64\n",
      " 12  x12     159964 non-null  float64\n",
      " 13  x13     159969 non-null  float64\n",
      " 14  x14     159966 non-null  float64\n",
      " 15  x15     159965 non-null  float64\n",
      " 16  x16     159974 non-null  float64\n",
      " 17  x17     159973 non-null  float64\n",
      " 18  x18     159960 non-null  float64\n",
      " 19  x19     159965 non-null  float64\n",
      " 20  x20     159962 non-null  float64\n",
      " 21  x21     159971 non-null  float64\n",
      " 22  x22     159973 non-null  float64\n",
      " 23  x23     159953 non-null  float64\n",
      " 24  x24     159972 non-null  object \n",
      " 25  x25     159978 non-null  float64\n",
      " 26  x26     159964 non-null  float64\n",
      " 27  x27     159970 non-null  float64\n",
      " 28  x28     159965 non-null  float64\n",
      " 29  x29     159970 non-null  object \n",
      " 30  x30     159970 non-null  object \n",
      " 31  x31     159961 non-null  float64\n",
      " 32  x32     159969 non-null  object \n",
      " 33  x33     159959 non-null  float64\n",
      " 34  x34     159959 non-null  float64\n",
      " 35  x35     159970 non-null  float64\n",
      " 36  x36     159973 non-null  float64\n",
      " 37  x37     159977 non-null  object \n",
      " 38  x38     159969 non-null  float64\n",
      " 39  x39     159977 non-null  float64\n",
      " 40  x40     159964 non-null  float64\n",
      " 41  x41     159960 non-null  float64\n",
      " 42  x42     159974 non-null  float64\n",
      " 43  x43     159963 non-null  float64\n",
      " 44  x44     159960 non-null  float64\n",
      " 45  x45     159971 non-null  float64\n",
      " 46  x46     159969 non-null  float64\n",
      " 47  x47     159963 non-null  float64\n",
      " 48  x48     159968 non-null  float64\n",
      " 49  x49     159968 non-null  float64\n",
      " 50  y       160000 non-null  int64  \n",
      "dtypes: float64(45), int64(1), object(5)\n",
      "memory usage: 62.3+ MB\n"
     ]
    }
   ],
   "source": [
    "df.info()"
   ]
  },
  {
   "cell_type": "code",
   "execution_count": 8,
   "id": "7aeac6aa",
   "metadata": {
    "id": "7aeac6aa"
   },
   "outputs": [],
   "source": [
    "#Columns x24, x29 and x30 are categorical values\n",
    "#Fill NA with mode value in x24, x29, x30 columns\n",
    "df['x24'].fillna(df['x24'].mode().iloc[0], inplace=True)\n",
    "df['x29'].fillna(df['x29'].mode().iloc[0], inplace=True)\n",
    "df['x30'].fillna(df['x30'].mode().iloc[0], inplace=True)"
   ]
  },
  {
   "cell_type": "code",
   "execution_count": 9,
   "id": "84a9ab46",
   "metadata": {
    "colab": {
     "base_uri": "https://localhost:8080/"
    },
    "id": "84a9ab46",
    "outputId": "c898fda8-d399-4392-98d5-2bcfa87b5732"
   },
   "outputs": [
    {
     "data": {
      "text/plain": [
       "0    0.0000\n",
       "1   -0.0002\n",
       "2   -0.0001\n",
       "3    0.0001\n",
       "4    0.0001\n",
       "Name: x32, dtype: float64"
      ]
     },
     "execution_count": 9,
     "metadata": {},
     "output_type": "execute_result"
    }
   ],
   "source": [
    "#Columns x32 and x37 are numeric values with symbols.\n",
    "#Remove % symobl in x32 and $ symbol in x37. Replace negative with x37 with parenthesis\n",
    "df['x32']=df['x32'].str.rstrip('%').astype('float')/100\n",
    "df['x32'].head()"
   ]
  },
  {
   "cell_type": "code",
   "execution_count": 10,
   "id": "0a4fed07",
   "metadata": {
    "colab": {
     "base_uri": "https://localhost:8080/"
    },
    "id": "0a4fed07",
    "outputId": "5ef81855-bf5e-4932-b7ad-c862f888b222"
   },
   "outputs": [
    {
     "data": {
      "text/plain": [
       "0    1313.96\n",
       "1    1962.78\n",
       "2     430.47\n",
       "3   -2366.29\n",
       "4    -620.66\n",
       "Name: x37, dtype: float64"
      ]
     },
     "execution_count": 10,
     "metadata": {},
     "output_type": "execute_result"
    }
   ],
   "source": [
    "df['x37'] = df['x37'].replace('[\\$,)]','', regex=True).replace( '[(]','-', regex=True).astype(float)\n",
    "df['x37'].head()"
   ]
  },
  {
   "cell_type": "code",
   "execution_count": 11,
   "id": "29933d96",
   "metadata": {
    "id": "29933d96"
   },
   "outputs": [],
   "source": [
    "#Fill NA with median values in numeric columns\n",
    "df.fillna(df.median(),inplace=True)"
   ]
  },
  {
   "cell_type": "code",
   "execution_count": 12,
   "id": "960e182f",
   "metadata": {
    "colab": {
     "base_uri": "https://localhost:8080/"
    },
    "id": "960e182f",
    "outputId": "65dd4eb6-20a9-4556-fa34-af3f71e4bd85"
   },
   "outputs": [
    {
     "data": {
      "text/plain": [
       "x0     0.0\n",
       "x1     0.0\n",
       "x2     0.0\n",
       "x3     0.0\n",
       "x4     0.0\n",
       "x5     0.0\n",
       "x6     0.0\n",
       "x7     0.0\n",
       "x8     0.0\n",
       "x9     0.0\n",
       "x10    0.0\n",
       "x11    0.0\n",
       "x12    0.0\n",
       "x13    0.0\n",
       "x14    0.0\n",
       "x15    0.0\n",
       "x16    0.0\n",
       "x17    0.0\n",
       "x18    0.0\n",
       "x19    0.0\n",
       "x20    0.0\n",
       "x21    0.0\n",
       "x22    0.0\n",
       "x23    0.0\n",
       "x24    0.0\n",
       "x25    0.0\n",
       "x26    0.0\n",
       "x27    0.0\n",
       "x28    0.0\n",
       "x29    0.0\n",
       "x30    0.0\n",
       "x31    0.0\n",
       "x32    0.0\n",
       "x33    0.0\n",
       "x34    0.0\n",
       "x35    0.0\n",
       "x36    0.0\n",
       "x37    0.0\n",
       "x38    0.0\n",
       "x39    0.0\n",
       "x40    0.0\n",
       "x41    0.0\n",
       "x42    0.0\n",
       "x43    0.0\n",
       "x44    0.0\n",
       "x45    0.0\n",
       "x46    0.0\n",
       "x47    0.0\n",
       "x48    0.0\n",
       "x49    0.0\n",
       "y      0.0\n",
       "dtype: float64"
      ]
     },
     "execution_count": 12,
     "metadata": {},
     "output_type": "execute_result"
    }
   ],
   "source": [
    "df.isna().mean()"
   ]
  },
  {
   "cell_type": "code",
   "execution_count": 13,
   "id": "2446170a",
   "metadata": {
    "colab": {
     "base_uri": "https://localhost:8080/"
    },
    "id": "2446170a",
    "outputId": "c98549a8-1f60-467f-ad40-b86b84ddf28b"
   },
   "outputs": [
    {
     "data": {
      "text/plain": [
       "Index(['x0', 'x1', 'x2', 'x3', 'x4', 'x5', 'x6', 'x7', 'x8', 'x9', 'x10',\n",
       "       'x11', 'x12', 'x13', 'x14', 'x15', 'x16', 'x17', 'x18', 'x19', 'x20',\n",
       "       'x21', 'x22', 'x23', 'x24', 'x25', 'x26', 'x27', 'x28', 'x29', 'x30',\n",
       "       'x31', 'x32', 'x33', 'x34', 'x35', 'x36', 'x37', 'x38', 'x39', 'x40',\n",
       "       'x41', 'x42', 'x43', 'x44', 'x45', 'x46', 'x47', 'x48', 'x49'],\n",
       "      dtype='object')"
      ]
     },
     "execution_count": 13,
     "metadata": {},
     "output_type": "execute_result"
    }
   ],
   "source": [
    "X = df.drop(['y'], axis=1).copy()\n",
    "X.columns"
   ]
  },
  {
   "cell_type": "code",
   "execution_count": 14,
   "id": "7e47485d",
   "metadata": {
    "id": "7e47485d"
   },
   "outputs": [],
   "source": [
    "y = df['y'].copy()"
   ]
  },
  {
   "cell_type": "code",
   "execution_count": 15,
   "id": "81205462",
   "metadata": {
    "colab": {
     "base_uri": "https://localhost:8080/"
    },
    "id": "81205462",
    "outputId": "e283f658-5396-4dae-d69b-e40af978a765"
   },
   "outputs": [
    {
     "data": {
      "text/plain": [
       "0    95803\n",
       "1    64197\n",
       "Name: y, dtype: int64"
      ]
     },
     "execution_count": 15,
     "metadata": {},
     "output_type": "execute_result"
    }
   ],
   "source": [
    "y.value_counts()"
   ]
  },
  {
   "cell_type": "code",
   "execution_count": 16,
   "id": "77c97550",
   "metadata": {
    "colab": {
     "base_uri": "https://localhost:8080/",
     "height": 236
    },
    "id": "77c97550",
    "outputId": "a9567dfb-5865-45f7-8236-f22a3be658f5"
   },
   "outputs": [
    {
     "data": {
      "text/html": [
       "<div>\n",
       "<style scoped>\n",
       "    .dataframe tbody tr th:only-of-type {\n",
       "        vertical-align: middle;\n",
       "    }\n",
       "\n",
       "    .dataframe tbody tr th {\n",
       "        vertical-align: top;\n",
       "    }\n",
       "\n",
       "    .dataframe thead th {\n",
       "        text-align: right;\n",
       "    }\n",
       "</style>\n",
       "<table border=\"1\" class=\"dataframe\">\n",
       "  <thead>\n",
       "    <tr style=\"text-align: right;\">\n",
       "      <th></th>\n",
       "      <th>x0</th>\n",
       "      <th>x1</th>\n",
       "      <th>x2</th>\n",
       "      <th>x3</th>\n",
       "      <th>x4</th>\n",
       "      <th>x5</th>\n",
       "      <th>x6</th>\n",
       "      <th>x7</th>\n",
       "      <th>x8</th>\n",
       "      <th>x9</th>\n",
       "      <th>...</th>\n",
       "      <th>x29_Mar</th>\n",
       "      <th>x29_May</th>\n",
       "      <th>x29_Nov</th>\n",
       "      <th>x29_Oct</th>\n",
       "      <th>x29_sept.</th>\n",
       "      <th>x30_friday</th>\n",
       "      <th>x30_monday</th>\n",
       "      <th>x30_thurday</th>\n",
       "      <th>x30_tuesday</th>\n",
       "      <th>x30_wednesday</th>\n",
       "    </tr>\n",
       "  </thead>\n",
       "  <tbody>\n",
       "    <tr>\n",
       "      <th>0</th>\n",
       "      <td>-0.166563</td>\n",
       "      <td>-3.961588</td>\n",
       "      <td>4.621113</td>\n",
       "      <td>2.481908</td>\n",
       "      <td>-1.800135</td>\n",
       "      <td>0.804684</td>\n",
       "      <td>6.718751</td>\n",
       "      <td>-14.789997</td>\n",
       "      <td>-1.040673</td>\n",
       "      <td>-4.204950</td>\n",
       "      <td>...</td>\n",
       "      <td>0</td>\n",
       "      <td>0</td>\n",
       "      <td>0</td>\n",
       "      <td>0</td>\n",
       "      <td>0</td>\n",
       "      <td>0</td>\n",
       "      <td>0</td>\n",
       "      <td>0</td>\n",
       "      <td>1</td>\n",
       "      <td>0</td>\n",
       "    </tr>\n",
       "    <tr>\n",
       "      <th>1</th>\n",
       "      <td>-0.149894</td>\n",
       "      <td>-0.585676</td>\n",
       "      <td>27.839856</td>\n",
       "      <td>4.152333</td>\n",
       "      <td>6.426802</td>\n",
       "      <td>-2.426943</td>\n",
       "      <td>40.477058</td>\n",
       "      <td>-6.725709</td>\n",
       "      <td>0.896421</td>\n",
       "      <td>0.330165</td>\n",
       "      <td>...</td>\n",
       "      <td>0</td>\n",
       "      <td>0</td>\n",
       "      <td>0</td>\n",
       "      <td>0</td>\n",
       "      <td>0</td>\n",
       "      <td>0</td>\n",
       "      <td>0</td>\n",
       "      <td>0</td>\n",
       "      <td>0</td>\n",
       "      <td>1</td>\n",
       "    </tr>\n",
       "    <tr>\n",
       "      <th>2</th>\n",
       "      <td>-0.321707</td>\n",
       "      <td>-1.429819</td>\n",
       "      <td>12.251561</td>\n",
       "      <td>6.586874</td>\n",
       "      <td>-5.304647</td>\n",
       "      <td>-11.311090</td>\n",
       "      <td>17.812850</td>\n",
       "      <td>11.060572</td>\n",
       "      <td>5.325880</td>\n",
       "      <td>-2.632984</td>\n",
       "      <td>...</td>\n",
       "      <td>0</td>\n",
       "      <td>0</td>\n",
       "      <td>0</td>\n",
       "      <td>0</td>\n",
       "      <td>0</td>\n",
       "      <td>0</td>\n",
       "      <td>0</td>\n",
       "      <td>0</td>\n",
       "      <td>0</td>\n",
       "      <td>1</td>\n",
       "    </tr>\n",
       "    <tr>\n",
       "      <th>3</th>\n",
       "      <td>-0.245594</td>\n",
       "      <td>5.076677</td>\n",
       "      <td>-24.149632</td>\n",
       "      <td>3.637307</td>\n",
       "      <td>6.505811</td>\n",
       "      <td>2.290224</td>\n",
       "      <td>-35.111751</td>\n",
       "      <td>-18.913592</td>\n",
       "      <td>-0.337041</td>\n",
       "      <td>-5.568076</td>\n",
       "      <td>...</td>\n",
       "      <td>0</td>\n",
       "      <td>0</td>\n",
       "      <td>0</td>\n",
       "      <td>0</td>\n",
       "      <td>0</td>\n",
       "      <td>0</td>\n",
       "      <td>0</td>\n",
       "      <td>0</td>\n",
       "      <td>0</td>\n",
       "      <td>1</td>\n",
       "    </tr>\n",
       "    <tr>\n",
       "      <th>4</th>\n",
       "      <td>-0.273366</td>\n",
       "      <td>0.306326</td>\n",
       "      <td>-11.352593</td>\n",
       "      <td>1.676758</td>\n",
       "      <td>2.928441</td>\n",
       "      <td>-0.616824</td>\n",
       "      <td>-16.505817</td>\n",
       "      <td>27.532281</td>\n",
       "      <td>1.199715</td>\n",
       "      <td>-4.309105</td>\n",
       "      <td>...</td>\n",
       "      <td>0</td>\n",
       "      <td>0</td>\n",
       "      <td>0</td>\n",
       "      <td>0</td>\n",
       "      <td>0</td>\n",
       "      <td>0</td>\n",
       "      <td>0</td>\n",
       "      <td>0</td>\n",
       "      <td>1</td>\n",
       "      <td>0</td>\n",
       "    </tr>\n",
       "  </tbody>\n",
       "</table>\n",
       "<p>5 rows × 67 columns</p>\n",
       "</div>"
      ],
      "text/plain": [
       "         x0        x1         x2        x3        x4         x5         x6  \\\n",
       "0 -0.166563 -3.961588   4.621113  2.481908 -1.800135   0.804684   6.718751   \n",
       "1 -0.149894 -0.585676  27.839856  4.152333  6.426802  -2.426943  40.477058   \n",
       "2 -0.321707 -1.429819  12.251561  6.586874 -5.304647 -11.311090  17.812850   \n",
       "3 -0.245594  5.076677 -24.149632  3.637307  6.505811   2.290224 -35.111751   \n",
       "4 -0.273366  0.306326 -11.352593  1.676758  2.928441  -0.616824 -16.505817   \n",
       "\n",
       "          x7        x8        x9  ...  x29_Mar  x29_May  x29_Nov  x29_Oct  \\\n",
       "0 -14.789997 -1.040673 -4.204950  ...        0        0        0        0   \n",
       "1  -6.725709  0.896421  0.330165  ...        0        0        0        0   \n",
       "2  11.060572  5.325880 -2.632984  ...        0        0        0        0   \n",
       "3 -18.913592 -0.337041 -5.568076  ...        0        0        0        0   \n",
       "4  27.532281  1.199715 -4.309105  ...        0        0        0        0   \n",
       "\n",
       "   x29_sept.  x30_friday  x30_monday  x30_thurday  x30_tuesday  x30_wednesday  \n",
       "0          0           0           0            0            1              0  \n",
       "1          0           0           0            0            0              1  \n",
       "2          0           0           0            0            0              1  \n",
       "3          0           0           0            0            0              1  \n",
       "4          0           0           0            0            1              0  \n",
       "\n",
       "[5 rows x 67 columns]"
      ]
     },
     "execution_count": 16,
     "metadata": {},
     "output_type": "execute_result"
    }
   ],
   "source": [
    "#One hot encoding in categorical columns x24, x29 and x30\n",
    "X= pd.get_dummies(X, columns=['x24','x29','x30'])\n",
    "X.head()"
   ]
  },
  {
   "cell_type": "code",
   "execution_count": 17,
   "id": "ca3fe65f",
   "metadata": {
    "colab": {
     "base_uri": "https://localhost:8080/"
    },
    "id": "ca3fe65f",
    "outputId": "c972530c-c9b9-4c97-e41d-a7ee5aa00f2e"
   },
   "outputs": [
    {
     "data": {
      "text/plain": [
       "(160000, 67)"
      ]
     },
     "execution_count": 17,
     "metadata": {},
     "output_type": "execute_result"
    }
   ],
   "source": [
    "X.shape"
   ]
  },
  {
   "cell_type": "code",
   "execution_count": 18,
   "id": "038579b3",
   "metadata": {
    "id": "038579b3"
   },
   "outputs": [],
   "source": [
    "scaler = StandardScaler()\n",
    "X_scl = scaler.fit_transform(X)\n",
    "X_scl = pd.DataFrame(data=X_scl, columns=X.columns)"
   ]
  },
  {
   "cell_type": "code",
   "execution_count": 19,
   "id": "0dba6e11",
   "metadata": {
    "id": "0dba6e11"
   },
   "outputs": [],
   "source": [
    "X_train, X_test, y_train, y_test = train_test_split(X_scl,y, stratify=y, random_state=1, shuffle=True, test_size=.2)"
   ]
  },
  {
   "cell_type": "code",
   "execution_count": 20,
   "id": "41059627",
   "metadata": {
    "id": "41059627"
   },
   "outputs": [],
   "source": [
    "cv=StratifiedKFold(n_splits=5, shuffle=True, random_state=1)"
   ]
  },
  {
   "cell_type": "markdown",
   "id": "f2b20d27",
   "metadata": {
    "id": "f2b20d27"
   },
   "source": [
    "#### Logistic Regression"
   ]
  },
  {
   "cell_type": "code",
   "execution_count": 21,
   "id": "1a407587",
   "metadata": {
    "id": "1a407587",
    "outputId": "9f751d1c-1ade-4c77-9d6d-15ecd173d13e"
   },
   "outputs": [
    {
     "name": "stdout",
     "output_type": "stream",
     "text": [
      "Fitting 5 folds for each of 24 candidates, totalling 120 fits\n"
     ]
    },
    {
     "data": {
      "text/plain": [
       "GridSearchCV(cv=StratifiedKFold(n_splits=5, random_state=1, shuffle=True),\n",
       "             estimator=Pipeline(steps=[('clf', LogisticRegression())]),\n",
       "             n_jobs=5,\n",
       "             param_grid={'clf__C': [0.01, 0.1, 1, 10],\n",
       "                         'clf__class_weight': ['balanced'],\n",
       "                         'clf__max_iter': [100, 200, 300],\n",
       "                         'clf__penalty': ['l2'], 'clf__random_state': [1],\n",
       "                         'clf__solver': ['lbfgs', 'liblinear']},\n",
       "             scoring='roc_auc', verbose=1)"
      ]
     },
     "execution_count": 21,
     "metadata": {},
     "output_type": "execute_result"
    }
   ],
   "source": [
    "Logist = LogisticRegression()\n",
    "\n",
    "pipeline = Pipeline([\n",
    "    ('clf', Logist)\n",
    "])\n",
    "\n",
    "parameters = { 'clf__penalty':['l2']\n",
    "              ,'clf__C': [.01,.1, 1,10]\n",
    "              ,'clf__class_weight': ['balanced']\n",
    "              ,'clf__random_state': [1]\n",
    "              ,'clf__solver': ['lbfgs','liblinear']\n",
    "              ,'clf__max_iter':[100,200,300]\n",
    "             }\n",
    "\n",
    "logGridSearch = GridSearchCV(pipeline, param_grid=parameters, cv=cv, n_jobs=5, verbose=1, scoring='roc_auc')\n",
    "\n",
    "logGridSearch.fit(X_train, y_train)"
   ]
  },
  {
   "cell_type": "code",
   "execution_count": 22,
   "id": "bdd34c7b",
   "metadata": {
    "id": "bdd34c7b",
    "outputId": "3b2b8239-9da2-4cd1-b2eb-f28ce2251c42"
   },
   "outputs": [
    {
     "data": {
      "text/plain": [
       "Pipeline(steps=[('clf',\n",
       "                 LogisticRegression(C=0.01, class_weight='balanced',\n",
       "                                    random_state=1))])"
      ]
     },
     "execution_count": 22,
     "metadata": {},
     "output_type": "execute_result"
    }
   ],
   "source": [
    "logGridSearch.best_estimator_"
   ]
  },
  {
   "cell_type": "code",
   "execution_count": 23,
   "id": "9ab28d99",
   "metadata": {
    "id": "9ab28d99",
    "outputId": "42f5a85b-b1cb-47b3-b977-2a45c379d26b"
   },
   "outputs": [
    {
     "name": "stdout",
     "output_type": "stream",
     "text": [
      "confusion matrix\n",
      " [[13887  5274]\n",
      " [ 4176  8663]]\n"
     ]
    }
   ],
   "source": [
    "conf = mt.confusion_matrix(y_test, logGridSearch.predict(X_test))\n",
    "print(\"confusion matrix\\n\",conf)"
   ]
  },
  {
   "cell_type": "code",
   "execution_count": 24,
   "id": "a014d1c9",
   "metadata": {
    "id": "a014d1c9"
   },
   "outputs": [],
   "source": [
    "Logist = LogisticRegression(max_iter=100, penalty='l2',C=.01, class_weight='balanced', random_state=1, solver='lbfgs').fit(X_train, y_train)\n",
    "y_pred = Logist.predict(X_test)"
   ]
  },
  {
   "cell_type": "code",
   "execution_count": 25,
   "id": "2bb06727",
   "metadata": {
    "colab": {
     "base_uri": "https://localhost:8080/"
    },
    "id": "2bb06727",
    "outputId": "fe9d1f3c-92a5-4163-ca0c-227235ff0b50"
   },
   "outputs": [
    {
     "name": "stdout",
     "output_type": "stream",
     "text": [
      "              precision    recall  f1-score   support\n",
      "\n",
      "           0       0.77      0.72      0.75     19161\n",
      "           1       0.62      0.67      0.65     12839\n",
      "\n",
      "    accuracy                           0.70     32000\n",
      "   macro avg       0.70      0.70      0.70     32000\n",
      "weighted avg       0.71      0.70      0.71     32000\n",
      "\n",
      "\n",
      "\n",
      "Confusion Matrix: \n",
      " [[13887  5274]\n",
      " [ 4176  8663]]\n",
      "\n",
      "\n",
      "Accuracy: \n",
      " 0.7046875\n"
     ]
    }
   ],
   "source": [
    "print(classification_report(y_test, y_pred))\n",
    "print('\\n')\n",
    "print('Confusion Matrix: \\n', confusion_matrix(y_test, y_pred))\n",
    "print('\\n')\n",
    "print('Accuracy: \\n', accuracy_score(y_test, y_pred))"
   ]
  },
  {
   "cell_type": "code",
   "execution_count": 25,
   "id": "EzZbPbMfOouJ",
   "metadata": {
    "colab": {
     "base_uri": "https://localhost:8080/"
    },
    "id": "EzZbPbMfOouJ",
    "outputId": "f5130299-b856-40cb-92a1-917a84d137d1"
   },
   "outputs": [
    {
     "name": "stdout",
     "output_type": "stream",
     "text": [
      "dollars per prediction\n"
     ]
    },
    {
     "data": {
      "text/plain": [
       "54.253125"
      ]
     },
     "execution_count": 25,
     "metadata": {},
     "output_type": "execute_result"
    }
   ],
   "source": [
    "cf1 = confusion_matrix(y_test, y_pred)\n",
    "print(\"dollars per prediction\")\n",
    "(cf1[1][0]*100 + cf1[0][1]*250)/len(y_test)"
   ]
  },
  {
   "cell_type": "code",
   "execution_count": 21,
   "id": "4e3e58b9",
   "metadata": {
    "colab": {
     "base_uri": "https://localhost:8080/"
    },
    "id": "4e3e58b9",
    "outputId": "aa183cae-bb07-494a-a9ce-a1603752def5"
   },
   "outputs": [
    {
     "name": "stdout",
     "output_type": "stream",
     "text": [
      "recall\n",
      " 0.6747410234441935\n"
     ]
    }
   ],
   "source": [
    "recall = mt.recall_score(y_test, Logist.predict(X_test))\n",
    "print(\"recall\\n\",recall)"
   ]
  },
  {
   "cell_type": "code",
   "execution_count": 22,
   "id": "cc0a419e",
   "metadata": {
    "colab": {
     "base_uri": "https://localhost:8080/"
    },
    "id": "cc0a419e",
    "outputId": "8f9de59d-5506-4045-93b6-e0f739c8ded9"
   },
   "outputs": [
    {
     "name": "stdout",
     "output_type": "stream",
     "text": [
      "precision\n",
      " 0.6215828370524503\n"
     ]
    }
   ],
   "source": [
    "precision = mt.precision_score(y_test, Logist.predict(X_test))\n",
    "print(\"precision\\n\",precision)"
   ]
  },
  {
   "cell_type": "code",
   "execution_count": 26,
   "id": "lox0VY-xugeX",
   "metadata": {
    "colab": {
     "base_uri": "https://localhost:8080/"
    },
    "id": "lox0VY-xugeX",
    "outputId": "a14e3dcb-44a7-4375-b437-ad55ae74f882"
   },
   "outputs": [
    {
     "name": "stdout",
     "output_type": "stream",
     "text": [
      "x0 0.0021717868504024353\n",
      "x1 0.008366230044298973\n",
      "x2 0.17120769947225498\n",
      "x3 0.007936646971997932\n",
      "x4 0.0016372877020879833\n",
      "x5 0.008993454015918475\n",
      "x6 0.18195639113628365\n",
      "x7 0.013651308442058712\n",
      "x8 0.013371798663829535\n",
      "x9 0.0042760674051880295\n",
      "x10 0.004254446300736534\n",
      "x11 0.005340663810100441\n",
      "x12 0.16975442082832856\n",
      "x13 0.004445035308087233\n",
      "x14 0.00047335359865126553\n",
      "x15 0.0010863101339733908\n",
      "x16 0.013610507162454225\n",
      "x17 0.005623439653832536\n",
      "x18 0.013887290401025489\n",
      "x19 0.008518473565482888\n",
      "x20 0.26515037448581374\n",
      "x21 0.003920493381682539\n",
      "x22 0.001024097406538756\n",
      "x23 0.4954512498016531\n",
      "x25 0.007008347858169038\n",
      "x26 0.0016995167583562223\n",
      "x27 0.026997767053071914\n",
      "x28 0.09534347662398696\n",
      "x31 0.00013058926624495148\n",
      "x32 0.046061583808247694\n",
      "x33 0.0025801008867568018\n",
      "x34 0.006051806628313509\n",
      "x35 0.0037153284235486865\n",
      "x36 0.004418198380389055\n",
      "x37 0.019771351163011368\n",
      "x38 0.19862968589129865\n",
      "x39 0.0012389220343336476\n",
      "x40 0.22066200207929132\n",
      "x41 0.2590417881131765\n",
      "x42 0.21777271588846175\n",
      "x43 0.005981090502350455\n",
      "x44 0.0027327881342849264\n",
      "x45 0.0073104630522067985\n",
      "x46 0.053798660040313785\n",
      "x47 0.004170261511087109\n",
      "x48 0.28463767816458635\n",
      "x49 0.48682572566486043\n",
      "x24_america 0.028509647703300237\n",
      "x24_asia 0.0011903751663017435\n",
      "x24_euorpe 0.014110510892664409\n",
      "x29_Apr 0.0008513165914666179\n",
      "x29_Aug 0.0032252231658620747\n",
      "x29_Dev 0.006949210957269441\n",
      "x29_Feb 0.0023902529803643685\n",
      "x29_January 0.005643627689792024\n",
      "x29_July 0.004741680244237229\n",
      "x29_Jun 0.0036214478815886296\n",
      "x29_Mar 0.001520796099327859\n",
      "x29_May 0.007349258436905\n",
      "x29_Nov 0.010229770260634596\n",
      "x29_Oct 0.0007478560216933051\n",
      "x29_sept. 0.0033941044165438365\n",
      "x30_friday 0.0013738795250738361\n",
      "x30_monday 0.0020950552496497906\n",
      "x30_thurday 0.00810639861893048\n",
      "x30_tuesday 0.00029586874004996035\n",
      "x30_wednesday 0.006698460571210361\n"
     ]
    }
   ],
   "source": [
    "var_list = []\n",
    "coeff_list = []\n",
    "for i in range(len(X.columns)):\n",
    "    print(X_train.columns[i], abs(Logist.coef_[0][i]))\n",
    "    var_list.append(X_train.columns[i])\n",
    "    coeff_list.append(abs(Logist.coef_[0][i])) "
   ]
  },
  {
   "cell_type": "code",
   "execution_count": 27,
   "id": "WJ5rv56LuxAx",
   "metadata": {
    "colab": {
     "base_uri": "https://localhost:8080/",
     "height": 677
    },
    "id": "WJ5rv56LuxAx",
    "outputId": "6485f883-37da-4885-e622-7fe46c5c42f8"
   },
   "outputs": [
    {
     "data": {
      "text/html": [
       "\n",
       "  <div id=\"df-6d4abcc0-c562-494a-8c31-fd455ddc53d2\">\n",
       "    <div class=\"colab-df-container\">\n",
       "      <div>\n",
       "<style scoped>\n",
       "    .dataframe tbody tr th:only-of-type {\n",
       "        vertical-align: middle;\n",
       "    }\n",
       "\n",
       "    .dataframe tbody tr th {\n",
       "        vertical-align: top;\n",
       "    }\n",
       "\n",
       "    .dataframe thead th {\n",
       "        text-align: right;\n",
       "    }\n",
       "</style>\n",
       "<table border=\"1\" class=\"dataframe\">\n",
       "  <thead>\n",
       "    <tr style=\"text-align: right;\">\n",
       "      <th></th>\n",
       "      <th>Features</th>\n",
       "      <th>ABS_coef</th>\n",
       "    </tr>\n",
       "  </thead>\n",
       "  <tbody>\n",
       "    <tr>\n",
       "      <th>23</th>\n",
       "      <td>x23</td>\n",
       "      <td>0.495451</td>\n",
       "    </tr>\n",
       "    <tr>\n",
       "      <th>46</th>\n",
       "      <td>x49</td>\n",
       "      <td>0.486826</td>\n",
       "    </tr>\n",
       "    <tr>\n",
       "      <th>45</th>\n",
       "      <td>x48</td>\n",
       "      <td>0.284638</td>\n",
       "    </tr>\n",
       "    <tr>\n",
       "      <th>20</th>\n",
       "      <td>x20</td>\n",
       "      <td>0.265150</td>\n",
       "    </tr>\n",
       "    <tr>\n",
       "      <th>38</th>\n",
       "      <td>x41</td>\n",
       "      <td>0.259042</td>\n",
       "    </tr>\n",
       "    <tr>\n",
       "      <th>37</th>\n",
       "      <td>x40</td>\n",
       "      <td>0.220662</td>\n",
       "    </tr>\n",
       "    <tr>\n",
       "      <th>39</th>\n",
       "      <td>x42</td>\n",
       "      <td>0.217773</td>\n",
       "    </tr>\n",
       "    <tr>\n",
       "      <th>35</th>\n",
       "      <td>x38</td>\n",
       "      <td>0.198630</td>\n",
       "    </tr>\n",
       "    <tr>\n",
       "      <th>6</th>\n",
       "      <td>x6</td>\n",
       "      <td>0.181956</td>\n",
       "    </tr>\n",
       "    <tr>\n",
       "      <th>2</th>\n",
       "      <td>x2</td>\n",
       "      <td>0.171208</td>\n",
       "    </tr>\n",
       "    <tr>\n",
       "      <th>12</th>\n",
       "      <td>x12</td>\n",
       "      <td>0.169754</td>\n",
       "    </tr>\n",
       "    <tr>\n",
       "      <th>27</th>\n",
       "      <td>x28</td>\n",
       "      <td>0.095343</td>\n",
       "    </tr>\n",
       "    <tr>\n",
       "      <th>43</th>\n",
       "      <td>x46</td>\n",
       "      <td>0.053799</td>\n",
       "    </tr>\n",
       "    <tr>\n",
       "      <th>29</th>\n",
       "      <td>x32</td>\n",
       "      <td>0.046062</td>\n",
       "    </tr>\n",
       "    <tr>\n",
       "      <th>47</th>\n",
       "      <td>x24_america</td>\n",
       "      <td>0.028510</td>\n",
       "    </tr>\n",
       "    <tr>\n",
       "      <th>26</th>\n",
       "      <td>x27</td>\n",
       "      <td>0.026998</td>\n",
       "    </tr>\n",
       "    <tr>\n",
       "      <th>34</th>\n",
       "      <td>x37</td>\n",
       "      <td>0.019771</td>\n",
       "    </tr>\n",
       "    <tr>\n",
       "      <th>49</th>\n",
       "      <td>x24_euorpe</td>\n",
       "      <td>0.014111</td>\n",
       "    </tr>\n",
       "    <tr>\n",
       "      <th>18</th>\n",
       "      <td>x18</td>\n",
       "      <td>0.013887</td>\n",
       "    </tr>\n",
       "    <tr>\n",
       "      <th>7</th>\n",
       "      <td>x7</td>\n",
       "      <td>0.013651</td>\n",
       "    </tr>\n",
       "  </tbody>\n",
       "</table>\n",
       "</div>\n",
       "      <button class=\"colab-df-convert\" onclick=\"convertToInteractive('df-6d4abcc0-c562-494a-8c31-fd455ddc53d2')\"\n",
       "              title=\"Convert this dataframe to an interactive table.\"\n",
       "              style=\"display:none;\">\n",
       "        \n",
       "  <svg xmlns=\"http://www.w3.org/2000/svg\" height=\"24px\"viewBox=\"0 0 24 24\"\n",
       "       width=\"24px\">\n",
       "    <path d=\"M0 0h24v24H0V0z\" fill=\"none\"/>\n",
       "    <path d=\"M18.56 5.44l.94 2.06.94-2.06 2.06-.94-2.06-.94-.94-2.06-.94 2.06-2.06.94zm-11 1L8.5 8.5l.94-2.06 2.06-.94-2.06-.94L8.5 2.5l-.94 2.06-2.06.94zm10 10l.94 2.06.94-2.06 2.06-.94-2.06-.94-.94-2.06-.94 2.06-2.06.94z\"/><path d=\"M17.41 7.96l-1.37-1.37c-.4-.4-.92-.59-1.43-.59-.52 0-1.04.2-1.43.59L10.3 9.45l-7.72 7.72c-.78.78-.78 2.05 0 2.83L4 21.41c.39.39.9.59 1.41.59.51 0 1.02-.2 1.41-.59l7.78-7.78 2.81-2.81c.8-.78.8-2.07 0-2.86zM5.41 20L4 18.59l7.72-7.72 1.47 1.35L5.41 20z\"/>\n",
       "  </svg>\n",
       "      </button>\n",
       "      \n",
       "  <style>\n",
       "    .colab-df-container {\n",
       "      display:flex;\n",
       "      flex-wrap:wrap;\n",
       "      gap: 12px;\n",
       "    }\n",
       "\n",
       "    .colab-df-convert {\n",
       "      background-color: #E8F0FE;\n",
       "      border: none;\n",
       "      border-radius: 50%;\n",
       "      cursor: pointer;\n",
       "      display: none;\n",
       "      fill: #1967D2;\n",
       "      height: 32px;\n",
       "      padding: 0 0 0 0;\n",
       "      width: 32px;\n",
       "    }\n",
       "\n",
       "    .colab-df-convert:hover {\n",
       "      background-color: #E2EBFA;\n",
       "      box-shadow: 0px 1px 2px rgba(60, 64, 67, 0.3), 0px 1px 3px 1px rgba(60, 64, 67, 0.15);\n",
       "      fill: #174EA6;\n",
       "    }\n",
       "\n",
       "    [theme=dark] .colab-df-convert {\n",
       "      background-color: #3B4455;\n",
       "      fill: #D2E3FC;\n",
       "    }\n",
       "\n",
       "    [theme=dark] .colab-df-convert:hover {\n",
       "      background-color: #434B5C;\n",
       "      box-shadow: 0px 1px 3px 1px rgba(0, 0, 0, 0.15);\n",
       "      filter: drop-shadow(0px 1px 2px rgba(0, 0, 0, 0.3));\n",
       "      fill: #FFFFFF;\n",
       "    }\n",
       "  </style>\n",
       "\n",
       "      <script>\n",
       "        const buttonEl =\n",
       "          document.querySelector('#df-6d4abcc0-c562-494a-8c31-fd455ddc53d2 button.colab-df-convert');\n",
       "        buttonEl.style.display =\n",
       "          google.colab.kernel.accessAllowed ? 'block' : 'none';\n",
       "\n",
       "        async function convertToInteractive(key) {\n",
       "          const element = document.querySelector('#df-6d4abcc0-c562-494a-8c31-fd455ddc53d2');\n",
       "          const dataTable =\n",
       "            await google.colab.kernel.invokeFunction('convertToInteractive',\n",
       "                                                     [key], {});\n",
       "          if (!dataTable) return;\n",
       "\n",
       "          const docLinkHtml = 'Like what you see? Visit the ' +\n",
       "            '<a target=\"_blank\" href=https://colab.research.google.com/notebooks/data_table.ipynb>data table notebook</a>'\n",
       "            + ' to learn more about interactive tables.';\n",
       "          element.innerHTML = '';\n",
       "          dataTable['output_type'] = 'display_data';\n",
       "          await google.colab.output.renderOutput(dataTable, element);\n",
       "          const docLink = document.createElement('div');\n",
       "          docLink.innerHTML = docLinkHtml;\n",
       "          element.appendChild(docLink);\n",
       "        }\n",
       "      </script>\n",
       "    </div>\n",
       "  </div>\n",
       "  "
      ],
      "text/plain": [
       "       Features  ABS_coef\n",
       "23          x23  0.495451\n",
       "46          x49  0.486826\n",
       "45          x48  0.284638\n",
       "20          x20  0.265150\n",
       "38          x41  0.259042\n",
       "37          x40  0.220662\n",
       "39          x42  0.217773\n",
       "35          x38  0.198630\n",
       "6            x6  0.181956\n",
       "2            x2  0.171208\n",
       "12          x12  0.169754\n",
       "27          x28  0.095343\n",
       "43          x46  0.053799\n",
       "29          x32  0.046062\n",
       "47  x24_america  0.028510\n",
       "26          x27  0.026998\n",
       "34          x37  0.019771\n",
       "49   x24_euorpe  0.014111\n",
       "18          x18  0.013887\n",
       "7            x7  0.013651"
      ]
     },
     "execution_count": 27,
     "metadata": {},
     "output_type": "execute_result"
    }
   ],
   "source": [
    "df_feature = pd.DataFrame({'Features':var_list, 'ABS_coef':coeff_list})\n",
    "log_feat= df_feature.sort_values(by='ABS_coef', ascending=False).head(20)\n",
    "log_feat"
   ]
  },
  {
   "cell_type": "markdown",
   "id": "HDwXsJKpwwkS",
   "metadata": {
    "id": "HDwXsJKpwwkS"
   },
   "source": [
    "## Create New Features, dotproduct of top 20 features from logistic regression"
   ]
  },
  {
   "cell_type": "code",
   "execution_count": 28,
   "id": "PuaaAl0_vRZF",
   "metadata": {
    "id": "PuaaAl0_vRZF"
   },
   "outputs": [],
   "source": [
    "X_scl_new_feat1 = X_scl.copy()\n",
    "for i in range(len(log_feat)):\n",
    "    for j in range(len(log_feat)):\n",
    "        new_label = log_feat['Features'][i:i+1].values[0]+'_'+log_feat['Features'][j:j+1].values[0]\n",
    "        X_scl_new_feat1[new_label] = X_scl_new_feat1[log_feat['Features'][i:i+1].values[0]]*X_scl_new_feat1[log_feat['Features'][j:j+1].values[0]]"
   ]
  },
  {
   "cell_type": "code",
   "execution_count": 29,
   "id": "9NxuMBPuvht5",
   "metadata": {
    "id": "9NxuMBPuvht5"
   },
   "outputs": [],
   "source": [
    "scaler2 = StandardScaler()\n",
    "X_scl_new_feat12 = scaler2.fit_transform(X_scl_new_feat1)\n",
    "X_scl_new_feat12 = pd.DataFrame(data=X_scl_new_feat1, columns=X_scl_new_feat1.columns)"
   ]
  },
  {
   "cell_type": "code",
   "execution_count": 30,
   "id": "Tc6qFBGpxiV4",
   "metadata": {
    "colab": {
     "base_uri": "https://localhost:8080/",
     "height": 236
    },
    "id": "Tc6qFBGpxiV4",
    "outputId": "84b55732-108e-4bac-d607-9f328ed035f7"
   },
   "outputs": [
    {
     "data": {
      "text/html": [
       "\n",
       "  <div id=\"df-7019ef0d-dc52-415d-8699-ae4a00457c25\">\n",
       "    <div class=\"colab-df-container\">\n",
       "      <div>\n",
       "<style scoped>\n",
       "    .dataframe tbody tr th:only-of-type {\n",
       "        vertical-align: middle;\n",
       "    }\n",
       "\n",
       "    .dataframe tbody tr th {\n",
       "        vertical-align: top;\n",
       "    }\n",
       "\n",
       "    .dataframe thead th {\n",
       "        text-align: right;\n",
       "    }\n",
       "</style>\n",
       "<table border=\"1\" class=\"dataframe\">\n",
       "  <thead>\n",
       "    <tr style=\"text-align: right;\">\n",
       "      <th></th>\n",
       "      <th>x0</th>\n",
       "      <th>x1</th>\n",
       "      <th>x2</th>\n",
       "      <th>x3</th>\n",
       "      <th>x4</th>\n",
       "      <th>x5</th>\n",
       "      <th>x6</th>\n",
       "      <th>x7</th>\n",
       "      <th>x8</th>\n",
       "      <th>x9</th>\n",
       "      <th>...</th>\n",
       "      <th>x7_x12</th>\n",
       "      <th>x7_x28</th>\n",
       "      <th>x7_x46</th>\n",
       "      <th>x7_x32</th>\n",
       "      <th>x7_x24_america</th>\n",
       "      <th>x7_x27</th>\n",
       "      <th>x7_x37</th>\n",
       "      <th>x7_x24_euorpe</th>\n",
       "      <th>x7_x18</th>\n",
       "      <th>x7_x7</th>\n",
       "    </tr>\n",
       "  </thead>\n",
       "  <tbody>\n",
       "    <tr>\n",
       "      <th>0</th>\n",
       "      <td>-0.446058</td>\n",
       "      <td>-0.625059</td>\n",
       "      <td>0.434853</td>\n",
       "      <td>0.310829</td>\n",
       "      <td>-0.281989</td>\n",
       "      <td>0.103154</td>\n",
       "      <td>0.434754</td>\n",
       "      <td>-0.232398</td>\n",
       "      <td>-0.113491</td>\n",
       "      <td>-0.662595</td>\n",
       "      <td>...</td>\n",
       "      <td>-0.425424</td>\n",
       "      <td>0.297869</td>\n",
       "      <td>-0.466871</td>\n",
       "      <td>-0.000243</td>\n",
       "      <td>0.039394</td>\n",
       "      <td>-0.034629</td>\n",
       "      <td>-0.305313</td>\n",
       "      <td>-0.684476</td>\n",
       "      <td>0.341873</td>\n",
       "      <td>0.054009</td>\n",
       "    </tr>\n",
       "    <tr>\n",
       "      <th>1</th>\n",
       "      <td>-0.401142</td>\n",
       "      <td>-0.092590</td>\n",
       "      <td>2.184324</td>\n",
       "      <td>0.517973</td>\n",
       "      <td>1.007145</td>\n",
       "      <td>-0.318226</td>\n",
       "      <td>2.184158</td>\n",
       "      <td>0.031663</td>\n",
       "      <td>0.104146</td>\n",
       "      <td>0.051099</td>\n",
       "      <td>...</td>\n",
       "      <td>-0.050835</td>\n",
       "      <td>0.008153</td>\n",
       "      <td>0.024705</td>\n",
       "      <td>-0.060865</td>\n",
       "      <td>-0.005367</td>\n",
       "      <td>0.003530</td>\n",
       "      <td>0.062143</td>\n",
       "      <td>-0.010750</td>\n",
       "      <td>-0.014032</td>\n",
       "      <td>0.001003</td>\n",
       "    </tr>\n",
       "    <tr>\n",
       "      <th>2</th>\n",
       "      <td>-0.864117</td>\n",
       "      <td>-0.225734</td>\n",
       "      <td>1.009787</td>\n",
       "      <td>0.819873</td>\n",
       "      <td>-0.831135</td>\n",
       "      <td>-1.476650</td>\n",
       "      <td>1.009666</td>\n",
       "      <td>0.614063</td>\n",
       "      <td>0.601806</td>\n",
       "      <td>-0.415214</td>\n",
       "      <td>...</td>\n",
       "      <td>0.558432</td>\n",
       "      <td>0.488721</td>\n",
       "      <td>0.731606</td>\n",
       "      <td>-0.589889</td>\n",
       "      <td>-0.104090</td>\n",
       "      <td>0.378520</td>\n",
       "      <td>0.264139</td>\n",
       "      <td>-0.208490</td>\n",
       "      <td>0.544923</td>\n",
       "      <td>0.377074</td>\n",
       "    </tr>\n",
       "    <tr>\n",
       "      <th>3</th>\n",
       "      <td>-0.659021</td>\n",
       "      <td>0.800509</td>\n",
       "      <td>-1.732948</td>\n",
       "      <td>0.454106</td>\n",
       "      <td>1.019525</td>\n",
       "      <td>0.296857</td>\n",
       "      <td>-1.732962</td>\n",
       "      <td>-0.367422</td>\n",
       "      <td>-0.034436</td>\n",
       "      <td>-0.877112</td>\n",
       "      <td>...</td>\n",
       "      <td>-0.307150</td>\n",
       "      <td>-0.777797</td>\n",
       "      <td>0.598928</td>\n",
       "      <td>-0.353726</td>\n",
       "      <td>0.062282</td>\n",
       "      <td>-0.500123</td>\n",
       "      <td>0.869678</td>\n",
       "      <td>0.124749</td>\n",
       "      <td>0.222395</td>\n",
       "      <td>0.134999</td>\n",
       "    </tr>\n",
       "    <tr>\n",
       "      <th>4</th>\n",
       "      <td>-0.733857</td>\n",
       "      <td>0.048101</td>\n",
       "      <td>-0.768724</td>\n",
       "      <td>0.210985</td>\n",
       "      <td>0.458963</td>\n",
       "      <td>-0.082200</td>\n",
       "      <td>-0.768776</td>\n",
       "      <td>1.153419</td>\n",
       "      <td>0.138222</td>\n",
       "      <td>-0.678986</td>\n",
       "      <td>...</td>\n",
       "      <td>-2.093607</td>\n",
       "      <td>-0.329593</td>\n",
       "      <td>-0.041908</td>\n",
       "      <td>1.110424</td>\n",
       "      <td>-0.195517</td>\n",
       "      <td>0.309127</td>\n",
       "      <td>-0.716407</td>\n",
       "      <td>-0.391616</td>\n",
       "      <td>1.147103</td>\n",
       "      <td>1.330376</td>\n",
       "    </tr>\n",
       "  </tbody>\n",
       "</table>\n",
       "<p>5 rows × 467 columns</p>\n",
       "</div>\n",
       "      <button class=\"colab-df-convert\" onclick=\"convertToInteractive('df-7019ef0d-dc52-415d-8699-ae4a00457c25')\"\n",
       "              title=\"Convert this dataframe to an interactive table.\"\n",
       "              style=\"display:none;\">\n",
       "        \n",
       "  <svg xmlns=\"http://www.w3.org/2000/svg\" height=\"24px\"viewBox=\"0 0 24 24\"\n",
       "       width=\"24px\">\n",
       "    <path d=\"M0 0h24v24H0V0z\" fill=\"none\"/>\n",
       "    <path d=\"M18.56 5.44l.94 2.06.94-2.06 2.06-.94-2.06-.94-.94-2.06-.94 2.06-2.06.94zm-11 1L8.5 8.5l.94-2.06 2.06-.94-2.06-.94L8.5 2.5l-.94 2.06-2.06.94zm10 10l.94 2.06.94-2.06 2.06-.94-2.06-.94-.94-2.06-.94 2.06-2.06.94z\"/><path d=\"M17.41 7.96l-1.37-1.37c-.4-.4-.92-.59-1.43-.59-.52 0-1.04.2-1.43.59L10.3 9.45l-7.72 7.72c-.78.78-.78 2.05 0 2.83L4 21.41c.39.39.9.59 1.41.59.51 0 1.02-.2 1.41-.59l7.78-7.78 2.81-2.81c.8-.78.8-2.07 0-2.86zM5.41 20L4 18.59l7.72-7.72 1.47 1.35L5.41 20z\"/>\n",
       "  </svg>\n",
       "      </button>\n",
       "      \n",
       "  <style>\n",
       "    .colab-df-container {\n",
       "      display:flex;\n",
       "      flex-wrap:wrap;\n",
       "      gap: 12px;\n",
       "    }\n",
       "\n",
       "    .colab-df-convert {\n",
       "      background-color: #E8F0FE;\n",
       "      border: none;\n",
       "      border-radius: 50%;\n",
       "      cursor: pointer;\n",
       "      display: none;\n",
       "      fill: #1967D2;\n",
       "      height: 32px;\n",
       "      padding: 0 0 0 0;\n",
       "      width: 32px;\n",
       "    }\n",
       "\n",
       "    .colab-df-convert:hover {\n",
       "      background-color: #E2EBFA;\n",
       "      box-shadow: 0px 1px 2px rgba(60, 64, 67, 0.3), 0px 1px 3px 1px rgba(60, 64, 67, 0.15);\n",
       "      fill: #174EA6;\n",
       "    }\n",
       "\n",
       "    [theme=dark] .colab-df-convert {\n",
       "      background-color: #3B4455;\n",
       "      fill: #D2E3FC;\n",
       "    }\n",
       "\n",
       "    [theme=dark] .colab-df-convert:hover {\n",
       "      background-color: #434B5C;\n",
       "      box-shadow: 0px 1px 3px 1px rgba(0, 0, 0, 0.15);\n",
       "      filter: drop-shadow(0px 1px 2px rgba(0, 0, 0, 0.3));\n",
       "      fill: #FFFFFF;\n",
       "    }\n",
       "  </style>\n",
       "\n",
       "      <script>\n",
       "        const buttonEl =\n",
       "          document.querySelector('#df-7019ef0d-dc52-415d-8699-ae4a00457c25 button.colab-df-convert');\n",
       "        buttonEl.style.display =\n",
       "          google.colab.kernel.accessAllowed ? 'block' : 'none';\n",
       "\n",
       "        async function convertToInteractive(key) {\n",
       "          const element = document.querySelector('#df-7019ef0d-dc52-415d-8699-ae4a00457c25');\n",
       "          const dataTable =\n",
       "            await google.colab.kernel.invokeFunction('convertToInteractive',\n",
       "                                                     [key], {});\n",
       "          if (!dataTable) return;\n",
       "\n",
       "          const docLinkHtml = 'Like what you see? Visit the ' +\n",
       "            '<a target=\"_blank\" href=https://colab.research.google.com/notebooks/data_table.ipynb>data table notebook</a>'\n",
       "            + ' to learn more about interactive tables.';\n",
       "          element.innerHTML = '';\n",
       "          dataTable['output_type'] = 'display_data';\n",
       "          await google.colab.output.renderOutput(dataTable, element);\n",
       "          const docLink = document.createElement('div');\n",
       "          docLink.innerHTML = docLinkHtml;\n",
       "          element.appendChild(docLink);\n",
       "        }\n",
       "      </script>\n",
       "    </div>\n",
       "  </div>\n",
       "  "
      ],
      "text/plain": [
       "         x0        x1        x2        x3        x4        x5        x6  \\\n",
       "0 -0.446058 -0.625059  0.434853  0.310829 -0.281989  0.103154  0.434754   \n",
       "1 -0.401142 -0.092590  2.184324  0.517973  1.007145 -0.318226  2.184158   \n",
       "2 -0.864117 -0.225734  1.009787  0.819873 -0.831135 -1.476650  1.009666   \n",
       "3 -0.659021  0.800509 -1.732948  0.454106  1.019525  0.296857 -1.732962   \n",
       "4 -0.733857  0.048101 -0.768724  0.210985  0.458963 -0.082200 -0.768776   \n",
       "\n",
       "         x7        x8        x9  ...    x7_x12    x7_x28    x7_x46    x7_x32  \\\n",
       "0 -0.232398 -0.113491 -0.662595  ... -0.425424  0.297869 -0.466871 -0.000243   \n",
       "1  0.031663  0.104146  0.051099  ... -0.050835  0.008153  0.024705 -0.060865   \n",
       "2  0.614063  0.601806 -0.415214  ...  0.558432  0.488721  0.731606 -0.589889   \n",
       "3 -0.367422 -0.034436 -0.877112  ... -0.307150 -0.777797  0.598928 -0.353726   \n",
       "4  1.153419  0.138222 -0.678986  ... -2.093607 -0.329593 -0.041908  1.110424   \n",
       "\n",
       "   x7_x24_america    x7_x27    x7_x37  x7_x24_euorpe    x7_x18     x7_x7  \n",
       "0        0.039394 -0.034629 -0.305313      -0.684476  0.341873  0.054009  \n",
       "1       -0.005367  0.003530  0.062143      -0.010750 -0.014032  0.001003  \n",
       "2       -0.104090  0.378520  0.264139      -0.208490  0.544923  0.377074  \n",
       "3        0.062282 -0.500123  0.869678       0.124749  0.222395  0.134999  \n",
       "4       -0.195517  0.309127 -0.716407      -0.391616  1.147103  1.330376  \n",
       "\n",
       "[5 rows x 467 columns]"
      ]
     },
     "execution_count": 30,
     "metadata": {},
     "output_type": "execute_result"
    }
   ],
   "source": [
    "X_scl_new_feat12.head()"
   ]
  },
  {
   "cell_type": "code",
   "execution_count": 25,
   "id": "9fG2VriFHoFl",
   "metadata": {
    "id": "9fG2VriFHoFl"
   },
   "outputs": [],
   "source": []
  },
  {
   "cell_type": "markdown",
   "id": "4uG3cGCtxngw",
   "metadata": {
    "id": "4uG3cGCtxngw"
   },
   "source": [
    "## K means Cluster Analysis"
   ]
  },
  {
   "cell_type": "code",
   "execution_count": 27,
   "id": "lBvyqaO6xrs-",
   "metadata": {
    "colab": {
     "base_uri": "https://localhost:8080/",
     "height": 530
    },
    "id": "lBvyqaO6xrs-",
    "outputId": "81a00151-6243-486f-b9ea-0dd2d7d4c330"
   },
   "outputs": [
    {
     "data": {
      "text/plain": [
       "Text(0, 0.5, 'WCSS')"
      ]
     },
     "execution_count": 27,
     "metadata": {},
     "output_type": "execute_result"
    },
    {
     "data": {
      "image/png": "[encoded data removed]",
      "text/plain": [
       "<Figure size 576x576 with 1 Axes>"
      ]
     },
     "metadata": {
      "needs_background": "light"
     },
     "output_type": "display_data"
    }
   ],
   "source": [
    "#Use elbow method to get the optimal number of clusters\n",
    "from sklearn.cluster import KMeans\n",
    "import matplotlib.pyplot as plt\n",
    "wcss=[]\n",
    "\n",
    "for i in range(2,20):\n",
    "    cls=KMeans(n_clusters=i, init='k-means++',random_state=5)\n",
    "    cls.fit(X_train)\n",
    "    wcss.append(cls.inertia_)\n",
    "\n",
    "\n",
    "f,ax=plt.subplots(figsize=(8,8))\n",
    "plt.subplot(1,1,1)\n",
    "plt.plot(range(2,20),wcss)\n",
    "plt.title('The Elbow Method for Cluster')\n",
    "plt.xlabel('Number of Clusters')\n",
    "plt.ylabel('WCSS')"
   ]
  },
  {
   "cell_type": "code",
   "execution_count": 32,
   "id": "huCSPN4sGqqn",
   "metadata": {
    "colab": {
     "base_uri": "https://localhost:8080/"
    },
    "id": "huCSPN4sGqqn",
    "outputId": "28633018-9f38-468a-e9ca-6cbe076ee598"
   },
   "outputs": [
    {
     "data": {
      "text/plain": [
       "KMeans(n_clusters=11, random_state=1)"
      ]
     },
     "execution_count": 32,
     "metadata": {},
     "output_type": "execute_result"
    }
   ],
   "source": [
    "from sklearn.cluster import KMeans\n",
    "cls=KMeans(n_clusters=11, init='k-means++',random_state=1)\n",
    "cls.fit(X_train)\n"
   ]
  },
  {
   "cell_type": "code",
   "execution_count": 33,
   "id": "yqd60XA1GsOE",
   "metadata": {
    "id": "yqd60XA1GsOE"
   },
   "outputs": [],
   "source": [
    "clust_train = cls.predict(X_train)\n",
    "clust_test = cls.predict(X_test)"
   ]
  },
  {
   "cell_type": "code",
   "execution_count": 34,
   "id": "ilD55mSJJ9Ot",
   "metadata": {
    "id": "ilD55mSJJ9Ot"
   },
   "outputs": [],
   "source": [
    "#pd.DataFrame(clust_train,columns=['cluster'])\n",
    "clust_train2 = pd.get_dummies(pd.DataFrame(clust_train,columns=['cluster']), columns=['cluster'])\n",
    "clust_test2 = pd.get_dummies(pd.DataFrame(clust_test,columns=['cluster']), columns=['cluster'])\n",
    "\n"
   ]
  },
  {
   "cell_type": "code",
   "execution_count": 35,
   "id": "oKZIRWc1KyNI",
   "metadata": {
    "colab": {
     "base_uri": "https://localhost:8080/",
     "height": 206
    },
    "id": "oKZIRWc1KyNI",
    "outputId": "bfd4db51-1b03-4973-ab46-448a887ef787"
   },
   "outputs": [
    {
     "data": {
      "text/html": [
       "\n",
       "  <div id=\"df-cd1838f8-da21-46b5-8680-3a3b1101cf77\">\n",
       "    <div class=\"colab-df-container\">\n",
       "      <div>\n",
       "<style scoped>\n",
       "    .dataframe tbody tr th:only-of-type {\n",
       "        vertical-align: middle;\n",
       "    }\n",
       "\n",
       "    .dataframe tbody tr th {\n",
       "        vertical-align: top;\n",
       "    }\n",
       "\n",
       "    .dataframe thead th {\n",
       "        text-align: right;\n",
       "    }\n",
       "</style>\n",
       "<table border=\"1\" class=\"dataframe\">\n",
       "  <thead>\n",
       "    <tr style=\"text-align: right;\">\n",
       "      <th></th>\n",
       "      <th>cluster_0</th>\n",
       "      <th>cluster_1</th>\n",
       "      <th>cluster_2</th>\n",
       "      <th>cluster_3</th>\n",
       "      <th>cluster_4</th>\n",
       "      <th>cluster_5</th>\n",
       "      <th>cluster_6</th>\n",
       "      <th>cluster_7</th>\n",
       "      <th>cluster_8</th>\n",
       "      <th>cluster_9</th>\n",
       "      <th>cluster_10</th>\n",
       "    </tr>\n",
       "  </thead>\n",
       "  <tbody>\n",
       "    <tr>\n",
       "      <th>0</th>\n",
       "      <td>-0.407666</td>\n",
       "      <td>-0.385874</td>\n",
       "      <td>-0.167495</td>\n",
       "      <td>-0.470368</td>\n",
       "      <td>-0.336593</td>\n",
       "      <td>-0.344536</td>\n",
       "      <td>-0.088736</td>\n",
       "      <td>-0.451567</td>\n",
       "      <td>-0.045634</td>\n",
       "      <td>2.596644</td>\n",
       "      <td>-0.056129</td>\n",
       "    </tr>\n",
       "    <tr>\n",
       "      <th>1</th>\n",
       "      <td>-0.407666</td>\n",
       "      <td>-0.385874</td>\n",
       "      <td>-0.167495</td>\n",
       "      <td>-0.470368</td>\n",
       "      <td>-0.336593</td>\n",
       "      <td>2.902454</td>\n",
       "      <td>-0.088736</td>\n",
       "      <td>-0.451567</td>\n",
       "      <td>-0.045634</td>\n",
       "      <td>-0.385112</td>\n",
       "      <td>-0.056129</td>\n",
       "    </tr>\n",
       "    <tr>\n",
       "      <th>2</th>\n",
       "      <td>2.452990</td>\n",
       "      <td>-0.385874</td>\n",
       "      <td>-0.167495</td>\n",
       "      <td>-0.470368</td>\n",
       "      <td>-0.336593</td>\n",
       "      <td>-0.344536</td>\n",
       "      <td>-0.088736</td>\n",
       "      <td>-0.451567</td>\n",
       "      <td>-0.045634</td>\n",
       "      <td>-0.385112</td>\n",
       "      <td>-0.056129</td>\n",
       "    </tr>\n",
       "    <tr>\n",
       "      <th>3</th>\n",
       "      <td>-0.407666</td>\n",
       "      <td>-0.385874</td>\n",
       "      <td>-0.167495</td>\n",
       "      <td>-0.470368</td>\n",
       "      <td>-0.336593</td>\n",
       "      <td>-0.344536</td>\n",
       "      <td>-0.088736</td>\n",
       "      <td>-0.451567</td>\n",
       "      <td>-0.045634</td>\n",
       "      <td>2.596644</td>\n",
       "      <td>-0.056129</td>\n",
       "    </tr>\n",
       "    <tr>\n",
       "      <th>4</th>\n",
       "      <td>-0.407666</td>\n",
       "      <td>-0.385874</td>\n",
       "      <td>-0.167495</td>\n",
       "      <td>-0.470368</td>\n",
       "      <td>-0.336593</td>\n",
       "      <td>2.902454</td>\n",
       "      <td>-0.088736</td>\n",
       "      <td>-0.451567</td>\n",
       "      <td>-0.045634</td>\n",
       "      <td>-0.385112</td>\n",
       "      <td>-0.056129</td>\n",
       "    </tr>\n",
       "  </tbody>\n",
       "</table>\n",
       "</div>\n",
       "      <button class=\"colab-df-convert\" onclick=\"convertToInteractive('df-cd1838f8-da21-46b5-8680-3a3b1101cf77')\"\n",
       "              title=\"Convert this dataframe to an interactive table.\"\n",
       "              style=\"display:none;\">\n",
       "        \n",
       "  <svg xmlns=\"http://www.w3.org/2000/svg\" height=\"24px\"viewBox=\"0 0 24 24\"\n",
       "       width=\"24px\">\n",
       "    <path d=\"M0 0h24v24H0V0z\" fill=\"none\"/>\n",
       "    <path d=\"M18.56 5.44l.94 2.06.94-2.06 2.06-.94-2.06-.94-.94-2.06-.94 2.06-2.06.94zm-11 1L8.5 8.5l.94-2.06 2.06-.94-2.06-.94L8.5 2.5l-.94 2.06-2.06.94zm10 10l.94 2.06.94-2.06 2.06-.94-2.06-.94-.94-2.06-.94 2.06-2.06.94z\"/><path d=\"M17.41 7.96l-1.37-1.37c-.4-.4-.92-.59-1.43-.59-.52 0-1.04.2-1.43.59L10.3 9.45l-7.72 7.72c-.78.78-.78 2.05 0 2.83L4 21.41c.39.39.9.59 1.41.59.51 0 1.02-.2 1.41-.59l7.78-7.78 2.81-2.81c.8-.78.8-2.07 0-2.86zM5.41 20L4 18.59l7.72-7.72 1.47 1.35L5.41 20z\"/>\n",
       "  </svg>\n",
       "      </button>\n",
       "      \n",
       "  <style>\n",
       "    .colab-df-container {\n",
       "      display:flex;\n",
       "      flex-wrap:wrap;\n",
       "      gap: 12px;\n",
       "    }\n",
       "\n",
       "    .colab-df-convert {\n",
       "      background-color: #E8F0FE;\n",
       "      border: none;\n",
       "      border-radius: 50%;\n",
       "      cursor: pointer;\n",
       "      display: none;\n",
       "      fill: #1967D2;\n",
       "      height: 32px;\n",
       "      padding: 0 0 0 0;\n",
       "      width: 32px;\n",
       "    }\n",
       "\n",
       "    .colab-df-convert:hover {\n",
       "      background-color: #E2EBFA;\n",
       "      box-shadow: 0px 1px 2px rgba(60, 64, 67, 0.3), 0px 1px 3px 1px rgba(60, 64, 67, 0.15);\n",
       "      fill: #174EA6;\n",
       "    }\n",
       "\n",
       "    [theme=dark] .colab-df-convert {\n",
       "      background-color: #3B4455;\n",
       "      fill: #D2E3FC;\n",
       "    }\n",
       "\n",
       "    [theme=dark] .colab-df-convert:hover {\n",
       "      background-color: #434B5C;\n",
       "      box-shadow: 0px 1px 3px 1px rgba(0, 0, 0, 0.15);\n",
       "      filter: drop-shadow(0px 1px 2px rgba(0, 0, 0, 0.3));\n",
       "      fill: #FFFFFF;\n",
       "    }\n",
       "  </style>\n",
       "\n",
       "      <script>\n",
       "        const buttonEl =\n",
       "          document.querySelector('#df-cd1838f8-da21-46b5-8680-3a3b1101cf77 button.colab-df-convert');\n",
       "        buttonEl.style.display =\n",
       "          google.colab.kernel.accessAllowed ? 'block' : 'none';\n",
       "\n",
       "        async function convertToInteractive(key) {\n",
       "          const element = document.querySelector('#df-cd1838f8-da21-46b5-8680-3a3b1101cf77');\n",
       "          const dataTable =\n",
       "            await google.colab.kernel.invokeFunction('convertToInteractive',\n",
       "                                                     [key], {});\n",
       "          if (!dataTable) return;\n",
       "\n",
       "          const docLinkHtml = 'Like what you see? Visit the ' +\n",
       "            '<a target=\"_blank\" href=https://colab.research.google.com/notebooks/data_table.ipynb>data table notebook</a>'\n",
       "            + ' to learn more about interactive tables.';\n",
       "          element.innerHTML = '';\n",
       "          dataTable['output_type'] = 'display_data';\n",
       "          await google.colab.output.renderOutput(dataTable, element);\n",
       "          const docLink = document.createElement('div');\n",
       "          docLink.innerHTML = docLinkHtml;\n",
       "          element.appendChild(docLink);\n",
       "        }\n",
       "      </script>\n",
       "    </div>\n",
       "  </div>\n",
       "  "
      ],
      "text/plain": [
       "   cluster_0  cluster_1  cluster_2  cluster_3  cluster_4  cluster_5  \\\n",
       "0  -0.407666  -0.385874  -0.167495  -0.470368  -0.336593  -0.344536   \n",
       "1  -0.407666  -0.385874  -0.167495  -0.470368  -0.336593   2.902454   \n",
       "2   2.452990  -0.385874  -0.167495  -0.470368  -0.336593  -0.344536   \n",
       "3  -0.407666  -0.385874  -0.167495  -0.470368  -0.336593  -0.344536   \n",
       "4  -0.407666  -0.385874  -0.167495  -0.470368  -0.336593   2.902454   \n",
       "\n",
       "   cluster_6  cluster_7  cluster_8  cluster_9  cluster_10  \n",
       "0  -0.088736  -0.451567  -0.045634   2.596644   -0.056129  \n",
       "1  -0.088736  -0.451567  -0.045634  -0.385112   -0.056129  \n",
       "2  -0.088736  -0.451567  -0.045634  -0.385112   -0.056129  \n",
       "3  -0.088736  -0.451567  -0.045634   2.596644   -0.056129  \n",
       "4  -0.088736  -0.451567  -0.045634  -0.385112   -0.056129  "
      ]
     },
     "execution_count": 35,
     "metadata": {},
     "output_type": "execute_result"
    }
   ],
   "source": [
    "scaler3 = StandardScaler()\n",
    "scaler3 = scaler3.fit(clust_train2)\n",
    "#scaler3.transform(clust_train2)\n",
    "clust_train3 = pd.DataFrame(data=scaler3.transform(clust_train2), columns=clust_train2.columns)\n",
    "clust_test3 = pd.DataFrame(data=scaler3.transform(clust_test2), columns=clust_test2.columns)\n",
    "clust_test3.head()\n",
    "#X_scl2 = pd.DataFrame(data=X_scl2, columns=X_scl.columns)"
   ]
  },
  {
   "cell_type": "markdown",
   "id": "fBBV-D5cQNV8",
   "metadata": {
    "id": "fBBV-D5cQNV8"
   },
   "source": [
    "## Test and Train set with new dot product features"
   ]
  },
  {
   "cell_type": "code",
   "execution_count": 36,
   "id": "MDxlG4NY9q4m",
   "metadata": {
    "id": "MDxlG4NY9q4m"
   },
   "outputs": [],
   "source": [
    "X_train2, X_test2, y_train2, y_test2 = train_test_split(X_scl_new_feat12,y, stratify=y, random_state=1, shuffle=True, test_size=.2)"
   ]
  },
  {
   "cell_type": "code",
   "execution_count": 37,
   "id": "YvU5r2D3QDbQ",
   "metadata": {
    "colab": {
     "base_uri": "https://localhost:8080/"
    },
    "id": "YvU5r2D3QDbQ",
    "outputId": "65f65a1f-af62-4156-d2f2-e7942ce068a1"
   },
   "outputs": [
    {
     "name": "stdout",
     "output_type": "stream",
     "text": [
      "<class 'pandas.core.frame.DataFrame'>\n",
      "Int64Index: 128000 entries, 87925 to 96226\n",
      "Columns: 467 entries, x0 to x7_x7\n",
      "dtypes: float64(467)\n",
      "memory usage: 457.0 MB\n"
     ]
    }
   ],
   "source": [
    "X_train2.info()"
   ]
  },
  {
   "cell_type": "markdown",
   "id": "kT4TJoDOQUQM",
   "metadata": {
    "id": "kT4TJoDOQUQM"
   },
   "source": [
    "## Test and Train set with new dot product features and Clustering Features"
   ]
  },
  {
   "cell_type": "code",
   "execution_count": 38,
   "id": "0tmr0_SuMEM3",
   "metadata": {
    "id": "0tmr0_SuMEM3"
   },
   "outputs": [],
   "source": [
    "X_train3 = X_train2.reset_index()[X_train2.columns]\n",
    "X_test3 = X_test2.reset_index()[X_train2.columns]\n",
    "for i in range(len(clust_train2.columns)):\n",
    "    X_train3[clust_train2.columns[i]] = clust_train3[clust_train2.columns[i]]\n",
    "    X_test3[clust_train2.columns[i]] = clust_test3[clust_train2.columns[i]]"
   ]
  },
  {
   "cell_type": "code",
   "execution_count": 64,
   "id": "TJST-UArMWAg",
   "metadata": {
    "colab": {
     "base_uri": "https://localhost:8080/"
    },
    "id": "TJST-UArMWAg",
    "outputId": "431c308c-ea34-401e-e1ed-dcbecc6a1a6b"
   },
   "outputs": [
    {
     "data": {
      "text/plain": [
       "x0            0.0\n",
       "x1            0.0\n",
       "x2            0.0\n",
       "x3            0.0\n",
       "x4            0.0\n",
       "             ... \n",
       "cluster_6     0.0\n",
       "cluster_7     0.0\n",
       "cluster_8     0.0\n",
       "cluster_9     0.0\n",
       "cluster_10    0.0\n",
       "Length: 478, dtype: float64"
      ]
     },
     "execution_count": 64,
     "metadata": {},
     "output_type": "execute_result"
    }
   ],
   "source": [
    "X_train3.isna().mean()"
   ]
  },
  {
   "cell_type": "code",
   "execution_count": 39,
   "id": "PJKHmT-6QI5I",
   "metadata": {
    "colab": {
     "base_uri": "https://localhost:8080/"
    },
    "id": "PJKHmT-6QI5I",
    "outputId": "04e43584-038f-4c60-fa29-c068ad8a4d2b"
   },
   "outputs": [
    {
     "name": "stdout",
     "output_type": "stream",
     "text": [
      "<class 'pandas.core.frame.DataFrame'>\n",
      "RangeIndex: 128000 entries, 0 to 127999\n",
      "Columns: 478 entries, x0 to cluster_10\n",
      "dtypes: float64(478)\n",
      "memory usage: 466.8 MB\n"
     ]
    }
   ],
   "source": [
    "X_train3.info()"
   ]
  },
  {
   "cell_type": "markdown",
   "id": "IcN2ySZwQcoE",
   "metadata": {
    "id": "IcN2ySZwQcoE"
   },
   "source": [
    "## Test and Train with just clustering features"
   ]
  },
  {
   "cell_type": "code",
   "execution_count": 40,
   "id": "AXmhVPWjQh6L",
   "metadata": {
    "id": "AXmhVPWjQh6L"
   },
   "outputs": [],
   "source": [
    "X_train4 = X_train.reset_index()[X_train.columns]\n",
    "X_test4 = X_test.reset_index()[X_train.columns]\n",
    "for i in range(len(clust_train2.columns)):\n",
    "    X_train4[clust_train2.columns[i]] = clust_train3[clust_train2.columns[i]]\n",
    "    X_test4[clust_train2.columns[i]] = clust_test3[clust_train2.columns[i]]"
   ]
  },
  {
   "cell_type": "code",
   "execution_count": 41,
   "id": "MqHvF9BOQ1DM",
   "metadata": {
    "colab": {
     "base_uri": "https://localhost:8080/"
    },
    "id": "MqHvF9BOQ1DM",
    "outputId": "054e5884-09f3-4d34-d7c6-1cf3d097c952"
   },
   "outputs": [
    {
     "name": "stdout",
     "output_type": "stream",
     "text": [
      "<class 'pandas.core.frame.DataFrame'>\n",
      "RangeIndex: 128000 entries, 0 to 127999\n",
      "Data columns (total 78 columns):\n",
      " #   Column         Non-Null Count   Dtype  \n",
      "---  ------         --------------   -----  \n",
      " 0   x0             128000 non-null  float64\n",
      " 1   x1             128000 non-null  float64\n",
      " 2   x2             128000 non-null  float64\n",
      " 3   x3             128000 non-null  float64\n",
      " 4   x4             128000 non-null  float64\n",
      " 5   x5             128000 non-null  float64\n",
      " 6   x6             128000 non-null  float64\n",
      " 7   x7             128000 non-null  float64\n",
      " 8   x8             128000 non-null  float64\n",
      " 9   x9             128000 non-null  float64\n",
      " 10  x10            128000 non-null  float64\n",
      " 11  x11            128000 non-null  float64\n",
      " 12  x12            128000 non-null  float64\n",
      " 13  x13            128000 non-null  float64\n",
      " 14  x14            128000 non-null  float64\n",
      " 15  x15            128000 non-null  float64\n",
      " 16  x16            128000 non-null  float64\n",
      " 17  x17            128000 non-null  float64\n",
      " 18  x18            128000 non-null  float64\n",
      " 19  x19            128000 non-null  float64\n",
      " 20  x20            128000 non-null  float64\n",
      " 21  x21            128000 non-null  float64\n",
      " 22  x22            128000 non-null  float64\n",
      " 23  x23            128000 non-null  float64\n",
      " 24  x25            128000 non-null  float64\n",
      " 25  x26            128000 non-null  float64\n",
      " 26  x27            128000 non-null  float64\n",
      " 27  x28            128000 non-null  float64\n",
      " 28  x31            128000 non-null  float64\n",
      " 29  x32            128000 non-null  float64\n",
      " 30  x33            128000 non-null  float64\n",
      " 31  x34            128000 non-null  float64\n",
      " 32  x35            128000 non-null  float64\n",
      " 33  x36            128000 non-null  float64\n",
      " 34  x37            128000 non-null  float64\n",
      " 35  x38            128000 non-null  float64\n",
      " 36  x39            128000 non-null  float64\n",
      " 37  x40            128000 non-null  float64\n",
      " 38  x41            128000 non-null  float64\n",
      " 39  x42            128000 non-null  float64\n",
      " 40  x43            128000 non-null  float64\n",
      " 41  x44            128000 non-null  float64\n",
      " 42  x45            128000 non-null  float64\n",
      " 43  x46            128000 non-null  float64\n",
      " 44  x47            128000 non-null  float64\n",
      " 45  x48            128000 non-null  float64\n",
      " 46  x49            128000 non-null  float64\n",
      " 47  x24_america    128000 non-null  float64\n",
      " 48  x24_asia       128000 non-null  float64\n",
      " 49  x24_euorpe     128000 non-null  float64\n",
      " 50  x29_Apr        128000 non-null  float64\n",
      " 51  x29_Aug        128000 non-null  float64\n",
      " 52  x29_Dev        128000 non-null  float64\n",
      " 53  x29_Feb        128000 non-null  float64\n",
      " 54  x29_January    128000 non-null  float64\n",
      " 55  x29_July       128000 non-null  float64\n",
      " 56  x29_Jun        128000 non-null  float64\n",
      " 57  x29_Mar        128000 non-null  float64\n",
      " 58  x29_May        128000 non-null  float64\n",
      " 59  x29_Nov        128000 non-null  float64\n",
      " 60  x29_Oct        128000 non-null  float64\n",
      " 61  x29_sept.      128000 non-null  float64\n",
      " 62  x30_friday     128000 non-null  float64\n",
      " 63  x30_monday     128000 non-null  float64\n",
      " 64  x30_thurday    128000 non-null  float64\n",
      " 65  x30_tuesday    128000 non-null  float64\n",
      " 66  x30_wednesday  128000 non-null  float64\n",
      " 67  cluster_0      128000 non-null  float64\n",
      " 68  cluster_1      128000 non-null  float64\n",
      " 69  cluster_2      128000 non-null  float64\n",
      " 70  cluster_3      128000 non-null  float64\n",
      " 71  cluster_4      128000 non-null  float64\n",
      " 72  cluster_5      128000 non-null  float64\n",
      " 73  cluster_6      128000 non-null  float64\n",
      " 74  cluster_7      128000 non-null  float64\n",
      " 75  cluster_8      128000 non-null  float64\n",
      " 76  cluster_9      128000 non-null  float64\n",
      " 77  cluster_10     128000 non-null  float64\n",
      "dtypes: float64(78)\n",
      "memory usage: 76.2 MB\n"
     ]
    }
   ],
   "source": [
    "X_train4.info()"
   ]
  },
  {
   "cell_type": "markdown",
   "id": "482bdfe4",
   "metadata": {
    "id": "482bdfe4"
   },
   "source": [
    "#### Random Forest"
   ]
  },
  {
   "cell_type": "code",
   "execution_count": null,
   "id": "1dc6b816",
   "metadata": {
    "id": "1dc6b816",
    "outputId": "41a2c5c9-1920-4edb-dede-388c0a83a4e3"
   },
   "outputs": [
    {
     "name": "stdout",
     "output_type": "stream",
     "text": [
      "Fitting 5 folds for each of 10 candidates, totalling 50 fits\n"
     ]
    },
    {
     "data": {
      "text/plain": [
       "RandomizedSearchCV(cv=StratifiedKFold(n_splits=5, random_state=1, shuffle=True),\n",
       "                   estimator=Pipeline(steps=[('clf',\n",
       "                                              RandomForestClassifier())]),\n",
       "                   n_jobs=5,\n",
       "                   param_distributions={'clf__class_weight': ['balanced',\n",
       "                                                              'balanced_subsample'],\n",
       "                                        'clf__criterion': ['entropy'],\n",
       "                                        'clf__max_depth': [None],\n",
       "                                        'clf__min_samples_leaf': [1, 5],\n",
       "                                        'clf__min_samples_split': [2, 4, 6],\n",
       "                                        'clf__n_estimators': [300, 500],\n",
       "                                        'clf__random_state': [1]},\n",
       "                   scoring='roc_auc', verbose=1)"
      ]
     },
     "execution_count": 21,
     "metadata": {},
     "output_type": "execute_result"
    }
   ],
   "source": [
    "rf = RandomForestClassifier()\n",
    "\n",
    "pipeline = Pipeline([\n",
    "    ('clf', rf)\n",
    "])\n",
    "\n",
    "parameters = { 'clf__min_samples_leaf':[1,5]\n",
    "              ,'clf__min_samples_split':[2,4,6]\n",
    "              ,'clf__max_depth':[None]\n",
    "              ,'clf__class_weight': ['balanced','balanced_subsample']\n",
    "              ,'clf__random_state': [1]\n",
    "              ,'clf__criterion':['entropy']\n",
    "              ,'clf__n_estimators':[300, 500]\n",
    "             }\n",
    "\n",
    "rfGridSearch = RandomizedSearchCV(pipeline, param_distributions=parameters, cv=cv, n_jobs=5, verbose=1, scoring='roc_auc')\n",
    "\n",
    "rfGridSearch.fit(X_train, y_train)"
   ]
  },
  {
   "cell_type": "code",
   "execution_count": null,
   "id": "7b4d970f",
   "metadata": {
    "id": "7b4d970f",
    "outputId": "c18b4eaa-fcf5-44c9-f117-23d8ee5031c7"
   },
   "outputs": [
    {
     "data": {
      "text/plain": [
       "Pipeline(steps=[('clf',\n",
       "                 RandomForestClassifier(class_weight='balanced',\n",
       "                                        criterion='entropy', n_estimators=500,\n",
       "                                        random_state=1))])"
      ]
     },
     "execution_count": 22,
     "metadata": {},
     "output_type": "execute_result"
    }
   ],
   "source": [
    "rfGridSearch.best_estimator_"
   ]
  },
  {
   "cell_type": "code",
   "execution_count": null,
   "id": "03f5ab99",
   "metadata": {
    "id": "03f5ab99",
    "outputId": "e8e51150-d85e-4127-b45c-d6d3fad7f5f7"
   },
   "outputs": [
    {
     "name": "stdout",
     "output_type": "stream",
     "text": [
      "confusion matrix\n",
      " [[18371   790]\n",
      " [ 1558 11281]]\n"
     ]
    }
   ],
   "source": [
    "conf = mt.confusion_matrix(y_test, rfGridSearch.predict(X_test))\n",
    "print(\"confusion matrix\\n\",conf)"
   ]
  },
  {
   "cell_type": "code",
   "execution_count": null,
   "id": "b9b99f0e",
   "metadata": {
    "id": "b9b99f0e"
   },
   "outputs": [],
   "source": [
    "rf_model = RandomForestClassifier(max_features= 'auto', bootstrap=True, random_state=1, class_weight='balanced',\n",
    "                                  n_estimators= 500, criterion='entropy', max_depth=None, \n",
    "                                  min_samples_split=2, min_samples_leaf= 1).fit(X_train, y_train)\n",
    "y_pred_rf = rf_model.predict(X_test)"
   ]
  },
  {
   "cell_type": "code",
   "execution_count": null,
   "id": "6112536e",
   "metadata": {
    "id": "6112536e",
    "outputId": "1e4e5899-ddcd-4ef1-ac9c-ccea68c75865"
   },
   "outputs": [
    {
     "name": "stdout",
     "output_type": "stream",
     "text": [
      "              precision    recall  f1-score   support\n",
      "\n",
      "           0       0.92      0.96      0.94     19161\n",
      "           1       0.93      0.88      0.91     12839\n",
      "\n",
      "    accuracy                           0.93     32000\n",
      "   macro avg       0.93      0.92      0.92     32000\n",
      "weighted avg       0.93      0.93      0.93     32000\n",
      "\n",
      "\n",
      "\n",
      "Confusion Matrix: \n",
      " [[18371   790]\n",
      " [ 1558 11281]]\n",
      "\n",
      "\n",
      "Accuracy: \n",
      " 0.926625\n"
     ]
    }
   ],
   "source": [
    "print(classification_report(y_test, y_pred_rf))\n",
    "print('\\n')\n",
    "print('Confusion Matrix: \\n', confusion_matrix(y_test, y_pred_rf))\n",
    "print('\\n')\n",
    "print('Accuracy: \\n', accuracy_score(y_test, y_pred_rf))"
   ]
  },
  {
   "cell_type": "code",
   "execution_count": null,
   "id": "eeee92fa",
   "metadata": {
    "id": "eeee92fa",
    "outputId": "370a19b7-00b4-449c-df4d-374e4955cce7"
   },
   "outputs": [
    {
     "name": "stdout",
     "output_type": "stream",
     "text": [
      "recall\n",
      " 0.8786509852792274\n"
     ]
    }
   ],
   "source": [
    "recall = mt.recall_score(y_test, y_pred_rf)\n",
    "print(\"recall\\n\",recall)"
   ]
  },
  {
   "cell_type": "code",
   "execution_count": null,
   "id": "28f2d713",
   "metadata": {
    "id": "28f2d713",
    "outputId": "447607bb-b210-428a-8d48-3f4934c188bc"
   },
   "outputs": [
    {
     "name": "stdout",
     "output_type": "stream",
     "text": [
      "precision\n",
      " 0.9345538894872008\n"
     ]
    }
   ],
   "source": [
    "precision = mt.precision_score(y_test, y_pred_rf)\n",
    "print(\"precision\\n\",precision)"
   ]
  },
  {
   "cell_type": "markdown",
   "id": "73bc985c",
   "metadata": {
    "id": "73bc985c"
   },
   "source": [
    "#### SGD"
   ]
  },
  {
   "cell_type": "code",
   "execution_count": null,
   "id": "225e4dd5",
   "metadata": {
    "id": "225e4dd5"
   },
   "outputs": [],
   "source": [
    "parameters_SGD = {'alpha':[.0001,.001,.01,.1,1,10,100,200], 'max_iter':[500,1000,1500,2000]}"
   ]
  },
  {
   "cell_type": "code",
   "execution_count": null,
   "id": "34637d4c",
   "metadata": {
    "id": "34637d4c",
    "outputId": "c39c5cdb-b0e3-40a1-8db7-19c37e993e8e"
   },
   "outputs": [
    {
     "name": "stdout",
     "output_type": "stream",
     "text": [
      "Fitting 5 folds for each of 32 candidates, totalling 160 fits\n",
      "-- Epoch 1\n",
      "Norm: 0.83, NNZs: 67, Bias: -0.105623, T: 115200, Avg. loss: 0.632584\n",
      "Total training time: 0.03 seconds.\n",
      "-- Epoch 2\n",
      "Norm: 0.82, NNZs: 67, Bias: -0.104380, T: 230400, Avg. loss: 0.624465\n",
      "Total training time: 0.10 seconds.\n",
      "-- Epoch 3\n",
      "Norm: 0.82, NNZs: 67, Bias: -0.104098, T: 345600, Avg. loss: 0.624501\n",
      "Total training time: 0.17 seconds.\n",
      "-- Epoch 4\n",
      "Norm: 0.82, NNZs: 67, Bias: -0.106332, T: 460800, Avg. loss: 0.624665\n",
      "Total training time: 0.24 seconds.\n",
      "-- Epoch 5\n",
      "Norm: 0.82, NNZs: 67, Bias: -0.105930, T: 576000, Avg. loss: 0.624145\n",
      "Total training time: 0.31 seconds.\n",
      "-- Epoch 6\n",
      "Norm: 0.82, NNZs: 67, Bias: -0.105792, T: 691200, Avg. loss: 0.624087\n",
      "Total training time: 0.37 seconds.\n",
      "-- Epoch 7\n",
      "Norm: 0.82, NNZs: 67, Bias: -0.104632, T: 806400, Avg. loss: 0.623858\n",
      "Total training time: 0.43 seconds.\n",
      "-- Epoch 8\n",
      "Norm: 0.82, NNZs: 67, Bias: -0.104489, T: 921600, Avg. loss: 0.623986\n",
      "Total training time: 0.50 seconds.\n",
      "-- Epoch 9\n",
      "Norm: 0.82, NNZs: 67, Bias: -0.104482, T: 1036800, Avg. loss: 0.624084\n",
      "Total training time: 0.57 seconds.\n",
      "-- Epoch 10\n",
      "Norm: 0.82, NNZs: 67, Bias: -0.104169, T: 1152000, Avg. loss: 0.623944\n",
      "Total training time: 0.63 seconds.\n",
      "-- Epoch 11\n",
      "Norm: 0.82, NNZs: 67, Bias: -0.104624, T: 1267200, Avg. loss: 0.624131\n",
      "Total training time: 0.70 seconds.\n",
      "Convergence after 11 epochs took 0.73 seconds\n",
      "Wall time: 1min 7s\n"
     ]
    },
    {
     "data": {
      "text/plain": [
       "GridSearchCV(cv=StratifiedKFold(n_splits=5, random_state=1, shuffle=True),\n",
       "             estimator=SGDClassifier(class_weight='balanced',\n",
       "                                     early_stopping=True, n_iter_no_change=10,\n",
       "                                     n_jobs=7, random_state=1, verbose=1),\n",
       "             n_jobs=7,\n",
       "             param_grid={'alpha': [0.0001, 0.001, 0.01, 0.1, 1, 10, 100, 200],\n",
       "                         'max_iter': [500, 1000, 1500, 2000]},\n",
       "             scoring='accuracy', verbose=1)"
      ]
     },
     "execution_count": 25,
     "metadata": {},
     "output_type": "execute_result"
    }
   ],
   "source": [
    "%%time\n",
    "SGD_GridSearch = GridSearchCV(SGDClassifier(loss='hinge', penalty='l2',shuffle=True, n_jobs=7,\n",
    "                                            learning_rate='optimal',early_stopping=True, validation_fraction= .1, \n",
    "                                            n_iter_no_change=10,class_weight='balanced', verbose=1, random_state=1),\n",
    "                              param_grid=parameters_SGD, cv=cv, n_jobs=7, verbose=1, scoring='accuracy')\n",
    "SGD_GridSearch.fit(X_train, y_train)"
   ]
  },
  {
   "cell_type": "code",
   "execution_count": null,
   "id": "42c16a01",
   "metadata": {
    "id": "42c16a01",
    "outputId": "5f3c8445-05ef-4ada-c6b6-3eb726fe4ff6"
   },
   "outputs": [
    {
     "data": {
      "text/plain": [
       "SGDClassifier(alpha=0.1, class_weight='balanced', early_stopping=True,\n",
       "              max_iter=500, n_iter_no_change=10, n_jobs=7, random_state=1,\n",
       "              verbose=1)"
      ]
     },
     "execution_count": 30,
     "metadata": {},
     "output_type": "execute_result"
    }
   ],
   "source": [
    "SGD_GridSearch.best_estimator_"
   ]
  },
  {
   "cell_type": "code",
   "execution_count": null,
   "id": "c147802a",
   "metadata": {
    "id": "c147802a",
    "outputId": "7ae401e9-e6cb-4766-ddc3-5f7f6dc6a78c"
   },
   "outputs": [
    {
     "name": "stdout",
     "output_type": "stream",
     "text": [
      "confusion matrix\n",
      " [[14293  4868]\n",
      " [ 4485  8354]]\n"
     ]
    }
   ],
   "source": [
    "conf = mt.confusion_matrix(y_test, SGD_GridSearch.predict(X_test))\n",
    "print(\"confusion matrix\\n\",conf)"
   ]
  },
  {
   "cell_type": "code",
   "execution_count": null,
   "id": "4a2be988",
   "metadata": {
    "id": "4a2be988",
    "outputId": "919528f2-36a8-4b90-dd9e-5ed0d066aaaf"
   },
   "outputs": [
    {
     "name": "stdout",
     "output_type": "stream",
     "text": [
      "-- Epoch 1\n",
      "Norm: 0.83, NNZs: 67, Bias: -0.105623, T: 115200, Avg. loss: 0.632584\n",
      "Total training time: 0.03 seconds.\n",
      "-- Epoch 2\n",
      "Norm: 0.82, NNZs: 67, Bias: -0.104380, T: 230400, Avg. loss: 0.624465\n",
      "Total training time: 0.09 seconds.\n",
      "-- Epoch 3\n",
      "Norm: 0.82, NNZs: 67, Bias: -0.104098, T: 345600, Avg. loss: 0.624501\n",
      "Total training time: 0.16 seconds.\n",
      "-- Epoch 4\n",
      "Norm: 0.82, NNZs: 67, Bias: -0.106332, T: 460800, Avg. loss: 0.624665\n",
      "Total training time: 0.23 seconds.\n",
      "-- Epoch 5\n",
      "Norm: 0.82, NNZs: 67, Bias: -0.105930, T: 576000, Avg. loss: 0.624145\n",
      "Total training time: 0.29 seconds.\n",
      "-- Epoch 6\n",
      "Norm: 0.82, NNZs: 67, Bias: -0.105792, T: 691200, Avg. loss: 0.624087\n",
      "Total training time: 0.35 seconds.\n",
      "-- Epoch 7\n",
      "Norm: 0.82, NNZs: 67, Bias: -0.104632, T: 806400, Avg. loss: 0.623858\n",
      "Total training time: 0.42 seconds.\n",
      "-- Epoch 8\n",
      "Norm: 0.82, NNZs: 67, Bias: -0.104489, T: 921600, Avg. loss: 0.623986\n",
      "Total training time: 0.49 seconds.\n",
      "-- Epoch 9\n",
      "Norm: 0.82, NNZs: 67, Bias: -0.104482, T: 1036800, Avg. loss: 0.624084\n",
      "Total training time: 0.55 seconds.\n",
      "-- Epoch 10\n",
      "Norm: 0.82, NNZs: 67, Bias: -0.104169, T: 1152000, Avg. loss: 0.623944\n",
      "Total training time: 0.61 seconds.\n",
      "-- Epoch 11\n",
      "Norm: 0.82, NNZs: 67, Bias: -0.104624, T: 1267200, Avg. loss: 0.624131\n",
      "Total training time: 0.68 seconds.\n",
      "Convergence after 11 epochs took 0.71 seconds\n",
      "Wall time: 863 ms\n"
     ]
    }
   ],
   "source": [
    "%%time\n",
    "SGD_clf = SGDClassifier(alpha=.1, max_iter=500, loss='hinge', penalty='l2',shuffle=True, n_jobs=7,\n",
    "                        learning_rate='optimal',early_stopping=True, validation_fraction= .1, \n",
    "                        n_iter_no_change=10,class_weight='balanced', verbose=1, random_state=1).fit(X_train, y_train)\n",
    "y_pred_SGD = SGD_clf.predict(X_test)"
   ]
  },
  {
   "cell_type": "code",
   "execution_count": null,
   "id": "d804a996",
   "metadata": {
    "id": "d804a996",
    "outputId": "f3ff1ebf-ca9a-4ce8-b483-a389cd6b7464"
   },
   "outputs": [
    {
     "name": "stdout",
     "output_type": "stream",
     "text": [
      "              precision    recall  f1-score   support\n",
      "\n",
      "           0       0.76      0.75      0.75     19161\n",
      "           1       0.63      0.65      0.64     12839\n",
      "\n",
      "    accuracy                           0.71     32000\n",
      "   macro avg       0.70      0.70      0.70     32000\n",
      "weighted avg       0.71      0.71      0.71     32000\n",
      "\n",
      "\n",
      "\n",
      "Confusion Matrix: \n",
      " [[14293  4868]\n",
      " [ 4485  8354]]\n",
      "\n",
      "\n",
      "Accuracy: \n",
      " 0.70771875\n"
     ]
    }
   ],
   "source": [
    "print(classification_report(y_test, y_pred_SGD))\n",
    "print('\\n')\n",
    "print('Confusion Matrix: \\n', confusion_matrix(y_test, y_pred_SGD))\n",
    "print('\\n')\n",
    "print('Accuracy: \\n', accuracy_score(y_test, y_pred_SGD))"
   ]
  },
  {
   "cell_type": "code",
   "execution_count": null,
   "id": "40c9b005",
   "metadata": {
    "id": "40c9b005",
    "outputId": "1e438f19-4ecb-4ccc-a259-0438d36d0510"
   },
   "outputs": [
    {
     "name": "stdout",
     "output_type": "stream",
     "text": [
      "recall\n",
      " 0.6506737284835268\n"
     ]
    }
   ],
   "source": [
    "recall = mt.recall_score(y_test, y_pred_SGD)\n",
    "print(\"recall\\n\",recall)"
   ]
  },
  {
   "cell_type": "code",
   "execution_count": null,
   "id": "02d6cb40",
   "metadata": {
    "id": "02d6cb40",
    "outputId": "87765962-1677-4a86-ff94-b0bc04ee3e23"
   },
   "outputs": [
    {
     "name": "stdout",
     "output_type": "stream",
     "text": [
      "precision\n",
      " 0.6318257449705037\n"
     ]
    }
   ],
   "source": [
    "precision = mt.precision_score(y_test,y_pred_SGD)\n",
    "print(\"precision\\n\",precision)"
   ]
  },
  {
   "cell_type": "markdown",
   "id": "9a45c731",
   "metadata": {
    "id": "9a45c731"
   },
   "source": [
    "#### XGBoost"
   ]
  },
  {
   "cell_type": "code",
   "execution_count": null,
   "id": "ec24d25a",
   "metadata": {
    "id": "ec24d25a"
   },
   "outputs": [],
   "source": [
    "tuned_xgb_parameters = {'n_estimators': [300, 500], 'learning_rate':[1,.1,.01], 'colsample_bytree': [.4,.5,.6,1], \n",
    "                        'reg_alpha': [100,50,10,1,.1,.01,.001], 'max_depth':[4,6,9]}"
   ]
  },
  {
   "cell_type": "code",
   "execution_count": 63,
   "id": "ff765aa7",
   "metadata": {
    "id": "ff765aa7",
    "outputId": "d1ef3310-9a82-415a-85d7-d9999d4f8e06"
   },
   "outputs": [
    {
     "name": "stdout",
     "output_type": "stream",
     "text": [
      "1.4923283019455738\n"
     ]
    }
   ],
   "source": [
    "scale_pos_weight = (len(y)-sum(y))/sum(y)\n",
    "print(scale_pos_weight)"
   ]
  },
  {
   "cell_type": "code",
   "execution_count": null,
   "id": "ae08558e",
   "metadata": {
    "id": "ae08558e",
    "outputId": "20c1f43d-534d-4806-8ec1-cf3b0327b2f0"
   },
   "outputs": [
    {
     "name": "stdout",
     "output_type": "stream",
     "text": [
      "Fitting 5 folds for each of 20 candidates, totalling 100 fits\n",
      "[0]\tvalidation_0-aucpr:0.85949\n",
      "[1]\tvalidation_0-aucpr:0.88692\n",
      "[2]\tvalidation_0-aucpr:0.90722\n",
      "[3]\tvalidation_0-aucpr:0.91487\n",
      "[4]\tvalidation_0-aucpr:0.92022\n",
      "[5]\tvalidation_0-aucpr:0.92423\n",
      "[6]\tvalidation_0-aucpr:0.92698\n",
      "[7]\tvalidation_0-aucpr:0.93004\n",
      "[8]\tvalidation_0-aucpr:0.93421\n",
      "[9]\tvalidation_0-aucpr:0.93619\n",
      "[10]\tvalidation_0-aucpr:0.93753\n",
      "[11]\tvalidation_0-aucpr:0.93991\n",
      "[12]\tvalidation_0-aucpr:0.94121\n",
      "[13]\tvalidation_0-aucpr:0.94386\n",
      "[14]\tvalidation_0-aucpr:0.94480\n",
      "[15]\tvalidation_0-aucpr:0.94559\n",
      "[16]\tvalidation_0-aucpr:0.94696\n",
      "[17]\tvalidation_0-aucpr:0.94812\n",
      "[18]\tvalidation_0-aucpr:0.94917\n",
      "[19]\tvalidation_0-aucpr:0.95033\n",
      "[20]\tvalidation_0-aucpr:0.95133\n",
      "[21]\tvalidation_0-aucpr:0.95249\n",
      "[22]\tvalidation_0-aucpr:0.95335\n",
      "[23]\tvalidation_0-aucpr:0.95436\n",
      "[24]\tvalidation_0-aucpr:0.95529\n",
      "[25]\tvalidation_0-aucpr:0.95644\n",
      "[26]\tvalidation_0-aucpr:0.95714\n",
      "[27]\tvalidation_0-aucpr:0.95746\n",
      "[28]\tvalidation_0-aucpr:0.95816\n",
      "[29]\tvalidation_0-aucpr:0.95853\n",
      "[30]\tvalidation_0-aucpr:0.95891\n",
      "[31]\tvalidation_0-aucpr:0.95949\n",
      "[32]\tvalidation_0-aucpr:0.95983\n",
      "[33]\tvalidation_0-aucpr:0.96031\n",
      "[34]\tvalidation_0-aucpr:0.96089\n",
      "[35]\tvalidation_0-aucpr:0.96165\n",
      "[36]\tvalidation_0-aucpr:0.96184\n",
      "[37]\tvalidation_0-aucpr:0.96213\n",
      "[38]\tvalidation_0-aucpr:0.96287\n",
      "[39]\tvalidation_0-aucpr:0.96300\n",
      "[40]\tvalidation_0-aucpr:0.96329\n",
      "[41]\tvalidation_0-aucpr:0.96389\n",
      "[42]\tvalidation_0-aucpr:0.96427\n",
      "[43]\tvalidation_0-aucpr:0.96439\n",
      "[44]\tvalidation_0-aucpr:0.96479\n",
      "[45]\tvalidation_0-aucpr:0.96511\n",
      "[46]\tvalidation_0-aucpr:0.96550\n",
      "[47]\tvalidation_0-aucpr:0.96587\n",
      "[48]\tvalidation_0-aucpr:0.96593\n",
      "[49]\tvalidation_0-aucpr:0.96634\n",
      "[50]\tvalidation_0-aucpr:0.96651\n",
      "[51]\tvalidation_0-aucpr:0.96661\n",
      "[52]\tvalidation_0-aucpr:0.96675\n",
      "[53]\tvalidation_0-aucpr:0.96688\n",
      "[54]\tvalidation_0-aucpr:0.96690\n",
      "[55]\tvalidation_0-aucpr:0.96699\n",
      "[56]\tvalidation_0-aucpr:0.96733\n",
      "[57]\tvalidation_0-aucpr:0.96738\n",
      "[58]\tvalidation_0-aucpr:0.96748\n",
      "[59]\tvalidation_0-aucpr:0.96769\n",
      "[60]\tvalidation_0-aucpr:0.96802\n",
      "[61]\tvalidation_0-aucpr:0.96827\n",
      "[62]\tvalidation_0-aucpr:0.96837\n",
      "[63]\tvalidation_0-aucpr:0.96848\n",
      "[64]\tvalidation_0-aucpr:0.96855\n",
      "[65]\tvalidation_0-aucpr:0.96864\n",
      "[66]\tvalidation_0-aucpr:0.96866\n",
      "[67]\tvalidation_0-aucpr:0.96888\n",
      "[68]\tvalidation_0-aucpr:0.96901\n",
      "[69]\tvalidation_0-aucpr:0.96942\n",
      "[70]\tvalidation_0-aucpr:0.96945\n",
      "[71]\tvalidation_0-aucpr:0.96951\n",
      "[72]\tvalidation_0-aucpr:0.96973\n",
      "[73]\tvalidation_0-aucpr:0.96974\n",
      "[74]\tvalidation_0-aucpr:0.96980\n",
      "[75]\tvalidation_0-aucpr:0.96983\n",
      "[76]\tvalidation_0-aucpr:0.96987\n",
      "[77]\tvalidation_0-aucpr:0.96989\n",
      "[78]\tvalidation_0-aucpr:0.96993\n",
      "[79]\tvalidation_0-aucpr:0.96991\n",
      "[80]\tvalidation_0-aucpr:0.96991\n",
      "[81]\tvalidation_0-aucpr:0.97000\n",
      "[82]\tvalidation_0-aucpr:0.97014\n",
      "[83]\tvalidation_0-aucpr:0.97017\n",
      "[84]\tvalidation_0-aucpr:0.97015\n",
      "[85]\tvalidation_0-aucpr:0.97018\n",
      "[86]\tvalidation_0-aucpr:0.97037\n",
      "[87]\tvalidation_0-aucpr:0.97040\n",
      "[88]\tvalidation_0-aucpr:0.97042\n",
      "[89]\tvalidation_0-aucpr:0.97040\n",
      "[90]\tvalidation_0-aucpr:0.97042\n",
      "[91]\tvalidation_0-aucpr:0.97053\n",
      "[92]\tvalidation_0-aucpr:0.97060\n",
      "[93]\tvalidation_0-aucpr:0.97065\n",
      "[94]\tvalidation_0-aucpr:0.97071\n",
      "[95]\tvalidation_0-aucpr:0.97078\n",
      "[96]\tvalidation_0-aucpr:0.97103\n",
      "[97]\tvalidation_0-aucpr:0.97118\n",
      "[98]\tvalidation_0-aucpr:0.97146\n",
      "[99]\tvalidation_0-aucpr:0.97176\n",
      "[100]\tvalidation_0-aucpr:0.97176\n",
      "[101]\tvalidation_0-aucpr:0.97178\n",
      "[102]\tvalidation_0-aucpr:0.97176\n",
      "[103]\tvalidation_0-aucpr:0.97180\n",
      "[104]\tvalidation_0-aucpr:0.97180\n",
      "[105]\tvalidation_0-aucpr:0.97196\n",
      "[106]\tvalidation_0-aucpr:0.97196\n",
      "[107]\tvalidation_0-aucpr:0.97193\n",
      "[108]\tvalidation_0-aucpr:0.97193\n",
      "[109]\tvalidation_0-aucpr:0.97208\n",
      "[110]\tvalidation_0-aucpr:0.97208\n",
      "[111]\tvalidation_0-aucpr:0.97210\n",
      "[112]\tvalidation_0-aucpr:0.97212\n",
      "[113]\tvalidation_0-aucpr:0.97218\n",
      "[114]\tvalidation_0-aucpr:0.97218\n",
      "[115]\tvalidation_0-aucpr:0.97217\n",
      "[116]\tvalidation_0-aucpr:0.97216\n",
      "[117]\tvalidation_0-aucpr:0.97211\n",
      "[118]\tvalidation_0-aucpr:0.97215\n",
      "[119]\tvalidation_0-aucpr:0.97215\n",
      "[120]\tvalidation_0-aucpr:0.97220\n",
      "[121]\tvalidation_0-aucpr:0.97220\n",
      "[122]\tvalidation_0-aucpr:0.97222\n",
      "[123]\tvalidation_0-aucpr:0.97233\n",
      "[124]\tvalidation_0-aucpr:0.97232\n",
      "[125]\tvalidation_0-aucpr:0.97242\n",
      "[126]\tvalidation_0-aucpr:0.97246\n",
      "[127]\tvalidation_0-aucpr:0.97261\n",
      "[128]\tvalidation_0-aucpr:0.97262\n",
      "[129]\tvalidation_0-aucpr:0.97263\n",
      "[130]\tvalidation_0-aucpr:0.97266\n",
      "[131]\tvalidation_0-aucpr:0.97268\n",
      "[132]\tvalidation_0-aucpr:0.97268\n",
      "[133]\tvalidation_0-aucpr:0.97270\n",
      "[134]\tvalidation_0-aucpr:0.97269\n",
      "[135]\tvalidation_0-aucpr:0.97266\n",
      "[136]\tvalidation_0-aucpr:0.97267\n",
      "[137]\tvalidation_0-aucpr:0.97276\n",
      "[138]\tvalidation_0-aucpr:0.97281\n",
      "[139]\tvalidation_0-aucpr:0.97281\n",
      "[140]\tvalidation_0-aucpr:0.97284\n",
      "[141]\tvalidation_0-aucpr:0.97286\n",
      "[142]\tvalidation_0-aucpr:0.97286\n",
      "[143]\tvalidation_0-aucpr:0.97287\n",
      "[144]\tvalidation_0-aucpr:0.97305\n",
      "[145]\tvalidation_0-aucpr:0.97306\n",
      "[146]\tvalidation_0-aucpr:0.97307\n",
      "[147]\tvalidation_0-aucpr:0.97310\n",
      "[148]\tvalidation_0-aucpr:0.97309\n",
      "[149]\tvalidation_0-aucpr:0.97309\n",
      "[150]\tvalidation_0-aucpr:0.97308\n",
      "[151]\tvalidation_0-aucpr:0.97329\n",
      "[152]\tvalidation_0-aucpr:0.97331\n",
      "[153]\tvalidation_0-aucpr:0.97330\n",
      "[154]\tvalidation_0-aucpr:0.97327\n",
      "[155]\tvalidation_0-aucpr:0.97327\n",
      "[156]\tvalidation_0-aucpr:0.97327\n",
      "[157]\tvalidation_0-aucpr:0.97325\n",
      "[158]\tvalidation_0-aucpr:0.97326\n",
      "[159]\tvalidation_0-aucpr:0.97329\n",
      "[160]\tvalidation_0-aucpr:0.97330\n",
      "[161]\tvalidation_0-aucpr:0.97333\n",
      "[162]\tvalidation_0-aucpr:0.97333\n",
      "[163]\tvalidation_0-aucpr:0.97334\n",
      "[164]\tvalidation_0-aucpr:0.97353\n",
      "[165]\tvalidation_0-aucpr:0.97353\n",
      "[166]\tvalidation_0-aucpr:0.97355\n",
      "[167]\tvalidation_0-aucpr:0.97356\n",
      "[168]\tvalidation_0-aucpr:0.97354\n",
      "[169]\tvalidation_0-aucpr:0.97354\n",
      "[170]\tvalidation_0-aucpr:0.97378\n",
      "[171]\tvalidation_0-aucpr:0.97379\n",
      "[172]\tvalidation_0-aucpr:0.97377\n",
      "[173]\tvalidation_0-aucpr:0.97378\n",
      "[174]\tvalidation_0-aucpr:0.97378\n",
      "[175]\tvalidation_0-aucpr:0.97377\n",
      "[176]\tvalidation_0-aucpr:0.97377\n",
      "[177]\tvalidation_0-aucpr:0.97377\n",
      "[178]\tvalidation_0-aucpr:0.97374\n",
      "[179]\tvalidation_0-aucpr:0.97379\n",
      "[180]\tvalidation_0-aucpr:0.97379\n",
      "[181]\tvalidation_0-aucpr:0.97385\n",
      "[182]\tvalidation_0-aucpr:0.97385\n",
      "[183]\tvalidation_0-aucpr:0.97385\n",
      "[184]\tvalidation_0-aucpr:0.97389\n",
      "[185]\tvalidation_0-aucpr:0.97399\n",
      "[186]\tvalidation_0-aucpr:0.97400\n",
      "[187]\tvalidation_0-aucpr:0.97398\n",
      "[188]\tvalidation_0-aucpr:0.97400\n",
      "[189]\tvalidation_0-aucpr:0.97401\n",
      "[190]\tvalidation_0-aucpr:0.97402\n",
      "[191]\tvalidation_0-aucpr:0.97409\n",
      "[192]\tvalidation_0-aucpr:0.97421\n",
      "[193]\tvalidation_0-aucpr:0.97419\n",
      "[194]\tvalidation_0-aucpr:0.97420\n",
      "[195]\tvalidation_0-aucpr:0.97419\n",
      "[196]\tvalidation_0-aucpr:0.97417\n",
      "[197]\tvalidation_0-aucpr:0.97417\n",
      "[198]\tvalidation_0-aucpr:0.97415\n",
      "[199]\tvalidation_0-aucpr:0.97416\n",
      "[200]\tvalidation_0-aucpr:0.97418\n",
      "[201]\tvalidation_0-aucpr:0.97420\n",
      "Wall time: 1h 33min 23s\n"
     ]
    },
    {
     "data": {
      "text/plain": [
       "RandomizedSearchCV(cv=StratifiedKFold(n_splits=5, random_state=1, shuffle=True),\n",
       "                   estimator=XGBClassifier(base_score=None, booster='gbtree',\n",
       "                                           colsample_bylevel=None,\n",
       "                                           colsample_bynode=None,\n",
       "                                           colsample_bytree=None,\n",
       "                                           eval_metric='aucpr', gamma=None,\n",
       "                                           gpu_id=None, importance_type='gain',\n",
       "                                           interaction_constraints=None,\n",
       "                                           learning_rate=None,\n",
       "                                           max_delta_step=None, max_depth=None...\n",
       "                                           scale_pos_weight=1.4923283019455738,\n",
       "                                           subsample=0.8, tree_method=None,\n",
       "                                           use_label_encoder=False,\n",
       "                                           validate_parameters=None,\n",
       "                                           verbosity=None),\n",
       "                   n_iter=20, n_jobs=5,\n",
       "                   param_distributions={'colsample_bytree': [0.4, 0.5, 0.6, 1],\n",
       "                                        'learning_rate': [1, 0.1, 0.01],\n",
       "                                        'max_depth': [4, 6, 9],\n",
       "                                        'n_estimators': [300, 500],\n",
       "                                        'reg_alpha': [100, 50, 10, 1, 0.1, 0.01,\n",
       "                                                      0.001]},\n",
       "                   scoring='roc_auc', verbose=1)"
      ]
     },
     "execution_count": 39,
     "metadata": {},
     "output_type": "execute_result"
    }
   ],
   "source": [
    "%%time\n",
    "optimal_xgb = RandomizedSearchCV(\n",
    "   estimator=xgboost.XGBClassifier(objective='binary:logistic',\n",
    "                          booster='gbtree',\n",
    "                          eval_metric='aucpr',\n",
    "                          subsample=0.8,\n",
    "                          scale_pos_weight=scale_pos_weight,\n",
    "                          random_state=1,\n",
    "                          use_label_encoder=False),\n",
    "     param_distributions=tuned_xgb_parameters,\n",
    "     scoring='roc_auc', \n",
    "     verbose=1,\n",
    "     n_jobs =5,\n",
    "     cv = cv, n_iter=20)\n",
    "\n",
    "optimal_xgb.fit(X_train, y_train, early_stopping_rounds=10, eval_metric='aucpr', eval_set=[(X_test, y_test)], verbose=True)"
   ]
  },
  {
   "cell_type": "code",
   "execution_count": null,
   "id": "62908c1a",
   "metadata": {
    "id": "62908c1a",
    "outputId": "93f167d3-e961-468a-8d22-e22a0c672416"
   },
   "outputs": [
    {
     "name": "stdout",
     "output_type": "stream",
     "text": [
      "{'reg_alpha': 0.001, 'n_estimators': 300, 'max_depth': 9, 'learning_rate': 0.1, 'colsample_bytree': 1}\n"
     ]
    }
   ],
   "source": [
    "print(optimal_xgb.best_params_)"
   ]
  },
  {
   "cell_type": "code",
   "execution_count": null,
   "id": "8b6fedf5",
   "metadata": {
    "id": "8b6fedf5",
    "outputId": "b5ce351b-d3b8-4d3e-db48-1dfe18ff3019"
   },
   "outputs": [
    {
     "name": "stdout",
     "output_type": "stream",
     "text": [
      "[0]\tvalidation_0-aucpr:0.88035\tvalidation_1-aucpr:0.85949\n",
      "[1]\tvalidation_0-aucpr:0.90356\tvalidation_1-aucpr:0.88692\n",
      "[2]\tvalidation_0-aucpr:0.92328\tvalidation_1-aucpr:0.90722\n",
      "[3]\tvalidation_0-aucpr:0.93048\tvalidation_1-aucpr:0.91487\n",
      "[4]\tvalidation_0-aucpr:0.93584\tvalidation_1-aucpr:0.92022\n",
      "[5]\tvalidation_0-aucpr:0.93961\tvalidation_1-aucpr:0.92423\n",
      "[6]\tvalidation_0-aucpr:0.94247\tvalidation_1-aucpr:0.92698\n",
      "[7]\tvalidation_0-aucpr:0.94606\tvalidation_1-aucpr:0.93004\n",
      "[8]\tvalidation_0-aucpr:0.95011\tvalidation_1-aucpr:0.93421\n",
      "[9]\tvalidation_0-aucpr:0.95170\tvalidation_1-aucpr:0.93619\n",
      "[10]\tvalidation_0-aucpr:0.95365\tvalidation_1-aucpr:0.93753\n",
      "[11]\tvalidation_0-aucpr:0.95634\tvalidation_1-aucpr:0.93991\n",
      "[12]\tvalidation_0-aucpr:0.95748\tvalidation_1-aucpr:0.94121\n",
      "[13]\tvalidation_0-aucpr:0.95999\tvalidation_1-aucpr:0.94386\n",
      "[14]\tvalidation_0-aucpr:0.96108\tvalidation_1-aucpr:0.94480\n",
      "[15]\tvalidation_0-aucpr:0.96237\tvalidation_1-aucpr:0.94559\n",
      "[16]\tvalidation_0-aucpr:0.96379\tvalidation_1-aucpr:0.94696\n",
      "[17]\tvalidation_0-aucpr:0.96506\tvalidation_1-aucpr:0.94812\n",
      "[18]\tvalidation_0-aucpr:0.96618\tvalidation_1-aucpr:0.94917\n",
      "[19]\tvalidation_0-aucpr:0.96761\tvalidation_1-aucpr:0.95033\n",
      "[20]\tvalidation_0-aucpr:0.96862\tvalidation_1-aucpr:0.95133\n",
      "[21]\tvalidation_0-aucpr:0.96968\tvalidation_1-aucpr:0.95249\n",
      "[22]\tvalidation_0-aucpr:0.97053\tvalidation_1-aucpr:0.95335\n",
      "[23]\tvalidation_0-aucpr:0.97132\tvalidation_1-aucpr:0.95436\n",
      "[24]\tvalidation_0-aucpr:0.97222\tvalidation_1-aucpr:0.95529\n",
      "[25]\tvalidation_0-aucpr:0.97327\tvalidation_1-aucpr:0.95644\n",
      "[26]\tvalidation_0-aucpr:0.97430\tvalidation_1-aucpr:0.95714\n",
      "[27]\tvalidation_0-aucpr:0.97469\tvalidation_1-aucpr:0.95746\n",
      "[28]\tvalidation_0-aucpr:0.97540\tvalidation_1-aucpr:0.95816\n",
      "[29]\tvalidation_0-aucpr:0.97585\tvalidation_1-aucpr:0.95853\n",
      "[30]\tvalidation_0-aucpr:0.97615\tvalidation_1-aucpr:0.95891\n",
      "[31]\tvalidation_0-aucpr:0.97665\tvalidation_1-aucpr:0.95949\n",
      "[32]\tvalidation_0-aucpr:0.97698\tvalidation_1-aucpr:0.95983\n",
      "[33]\tvalidation_0-aucpr:0.97735\tvalidation_1-aucpr:0.96031\n",
      "[34]\tvalidation_0-aucpr:0.97788\tvalidation_1-aucpr:0.96089\n",
      "[35]\tvalidation_0-aucpr:0.97874\tvalidation_1-aucpr:0.96165\n",
      "[36]\tvalidation_0-aucpr:0.97903\tvalidation_1-aucpr:0.96184\n",
      "[37]\tvalidation_0-aucpr:0.97924\tvalidation_1-aucpr:0.96213\n",
      "[38]\tvalidation_0-aucpr:0.97995\tvalidation_1-aucpr:0.96287\n",
      "[39]\tvalidation_0-aucpr:0.98012\tvalidation_1-aucpr:0.96300\n",
      "[40]\tvalidation_0-aucpr:0.98033\tvalidation_1-aucpr:0.96329\n",
      "[41]\tvalidation_0-aucpr:0.98074\tvalidation_1-aucpr:0.96389\n",
      "[42]\tvalidation_0-aucpr:0.98113\tvalidation_1-aucpr:0.96427\n",
      "[43]\tvalidation_0-aucpr:0.98135\tvalidation_1-aucpr:0.96439\n",
      "[44]\tvalidation_0-aucpr:0.98181\tvalidation_1-aucpr:0.96479\n",
      "[45]\tvalidation_0-aucpr:0.98209\tvalidation_1-aucpr:0.96511\n",
      "[46]\tvalidation_0-aucpr:0.98240\tvalidation_1-aucpr:0.96550\n",
      "[47]\tvalidation_0-aucpr:0.98275\tvalidation_1-aucpr:0.96587\n",
      "[48]\tvalidation_0-aucpr:0.98284\tvalidation_1-aucpr:0.96593\n",
      "[49]\tvalidation_0-aucpr:0.98312\tvalidation_1-aucpr:0.96634\n",
      "[50]\tvalidation_0-aucpr:0.98343\tvalidation_1-aucpr:0.96651\n",
      "[51]\tvalidation_0-aucpr:0.98351\tvalidation_1-aucpr:0.96661\n",
      "[52]\tvalidation_0-aucpr:0.98381\tvalidation_1-aucpr:0.96675\n",
      "[53]\tvalidation_0-aucpr:0.98403\tvalidation_1-aucpr:0.96688\n",
      "[54]\tvalidation_0-aucpr:0.98417\tvalidation_1-aucpr:0.96690\n",
      "[55]\tvalidation_0-aucpr:0.98432\tvalidation_1-aucpr:0.96699\n",
      "[56]\tvalidation_0-aucpr:0.98466\tvalidation_1-aucpr:0.96733\n",
      "[57]\tvalidation_0-aucpr:0.98472\tvalidation_1-aucpr:0.96738\n",
      "[58]\tvalidation_0-aucpr:0.98495\tvalidation_1-aucpr:0.96748\n",
      "[59]\tvalidation_0-aucpr:0.98525\tvalidation_1-aucpr:0.96769\n",
      "[60]\tvalidation_0-aucpr:0.98552\tvalidation_1-aucpr:0.96802\n",
      "[61]\tvalidation_0-aucpr:0.98572\tvalidation_1-aucpr:0.96827\n",
      "[62]\tvalidation_0-aucpr:0.98582\tvalidation_1-aucpr:0.96837\n",
      "[63]\tvalidation_0-aucpr:0.98596\tvalidation_1-aucpr:0.96848\n",
      "[64]\tvalidation_0-aucpr:0.98607\tvalidation_1-aucpr:0.96855\n",
      "[65]\tvalidation_0-aucpr:0.98623\tvalidation_1-aucpr:0.96864\n",
      "[66]\tvalidation_0-aucpr:0.98629\tvalidation_1-aucpr:0.96866\n",
      "[67]\tvalidation_0-aucpr:0.98652\tvalidation_1-aucpr:0.96888\n",
      "[68]\tvalidation_0-aucpr:0.98664\tvalidation_1-aucpr:0.96901\n",
      "[69]\tvalidation_0-aucpr:0.98696\tvalidation_1-aucpr:0.96942\n",
      "[70]\tvalidation_0-aucpr:0.98704\tvalidation_1-aucpr:0.96945\n",
      "[71]\tvalidation_0-aucpr:0.98716\tvalidation_1-aucpr:0.96951\n",
      "[72]\tvalidation_0-aucpr:0.98733\tvalidation_1-aucpr:0.96973\n",
      "[73]\tvalidation_0-aucpr:0.98738\tvalidation_1-aucpr:0.96974\n",
      "[74]\tvalidation_0-aucpr:0.98743\tvalidation_1-aucpr:0.96980\n",
      "[75]\tvalidation_0-aucpr:0.98750\tvalidation_1-aucpr:0.96983\n",
      "[76]\tvalidation_0-aucpr:0.98758\tvalidation_1-aucpr:0.96987\n",
      "[77]\tvalidation_0-aucpr:0.98767\tvalidation_1-aucpr:0.96989\n",
      "[78]\tvalidation_0-aucpr:0.98785\tvalidation_1-aucpr:0.96993\n",
      "[79]\tvalidation_0-aucpr:0.98811\tvalidation_1-aucpr:0.96991\n",
      "[80]\tvalidation_0-aucpr:0.98818\tvalidation_1-aucpr:0.96991\n",
      "[81]\tvalidation_0-aucpr:0.98833\tvalidation_1-aucpr:0.97000\n",
      "[82]\tvalidation_0-aucpr:0.98845\tvalidation_1-aucpr:0.97014\n",
      "[83]\tvalidation_0-aucpr:0.98860\tvalidation_1-aucpr:0.97017\n",
      "[84]\tvalidation_0-aucpr:0.98875\tvalidation_1-aucpr:0.97015\n",
      "[85]\tvalidation_0-aucpr:0.98881\tvalidation_1-aucpr:0.97018\n",
      "[86]\tvalidation_0-aucpr:0.98899\tvalidation_1-aucpr:0.97037\n",
      "[87]\tvalidation_0-aucpr:0.98904\tvalidation_1-aucpr:0.97040\n",
      "[88]\tvalidation_0-aucpr:0.98915\tvalidation_1-aucpr:0.97042\n",
      "[89]\tvalidation_0-aucpr:0.98928\tvalidation_1-aucpr:0.97040\n",
      "[90]\tvalidation_0-aucpr:0.98942\tvalidation_1-aucpr:0.97042\n",
      "[91]\tvalidation_0-aucpr:0.98965\tvalidation_1-aucpr:0.97053\n",
      "[92]\tvalidation_0-aucpr:0.98977\tvalidation_1-aucpr:0.97060\n",
      "[93]\tvalidation_0-aucpr:0.98991\tvalidation_1-aucpr:0.97065\n",
      "[94]\tvalidation_0-aucpr:0.99011\tvalidation_1-aucpr:0.97071\n",
      "[95]\tvalidation_0-aucpr:0.99021\tvalidation_1-aucpr:0.97078\n",
      "[96]\tvalidation_0-aucpr:0.99041\tvalidation_1-aucpr:0.97103\n",
      "[97]\tvalidation_0-aucpr:0.99054\tvalidation_1-aucpr:0.97118\n",
      "[98]\tvalidation_0-aucpr:0.99083\tvalidation_1-aucpr:0.97146\n",
      "[99]\tvalidation_0-aucpr:0.99109\tvalidation_1-aucpr:0.97176\n",
      "[100]\tvalidation_0-aucpr:0.99112\tvalidation_1-aucpr:0.97176\n",
      "[101]\tvalidation_0-aucpr:0.99115\tvalidation_1-aucpr:0.97178\n",
      "[102]\tvalidation_0-aucpr:0.99126\tvalidation_1-aucpr:0.97176\n",
      "[103]\tvalidation_0-aucpr:0.99142\tvalidation_1-aucpr:0.97180\n",
      "[104]\tvalidation_0-aucpr:0.99153\tvalidation_1-aucpr:0.97180\n",
      "[105]\tvalidation_0-aucpr:0.99171\tvalidation_1-aucpr:0.97196\n",
      "[106]\tvalidation_0-aucpr:0.99174\tvalidation_1-aucpr:0.97196\n",
      "[107]\tvalidation_0-aucpr:0.99190\tvalidation_1-aucpr:0.97193\n",
      "[108]\tvalidation_0-aucpr:0.99196\tvalidation_1-aucpr:0.97193\n",
      "[109]\tvalidation_0-aucpr:0.99211\tvalidation_1-aucpr:0.97208\n",
      "[110]\tvalidation_0-aucpr:0.99217\tvalidation_1-aucpr:0.97208\n",
      "[111]\tvalidation_0-aucpr:0.99219\tvalidation_1-aucpr:0.97210\n",
      "[112]\tvalidation_0-aucpr:0.99225\tvalidation_1-aucpr:0.97212\n",
      "[113]\tvalidation_0-aucpr:0.99233\tvalidation_1-aucpr:0.97218\n",
      "[114]\tvalidation_0-aucpr:0.99237\tvalidation_1-aucpr:0.97218\n",
      "[115]\tvalidation_0-aucpr:0.99245\tvalidation_1-aucpr:0.97217\n",
      "[116]\tvalidation_0-aucpr:0.99251\tvalidation_1-aucpr:0.97216\n",
      "[117]\tvalidation_0-aucpr:0.99265\tvalidation_1-aucpr:0.97211\n",
      "[118]\tvalidation_0-aucpr:0.99282\tvalidation_1-aucpr:0.97215\n",
      "[119]\tvalidation_0-aucpr:0.99291\tvalidation_1-aucpr:0.97215\n",
      "[120]\tvalidation_0-aucpr:0.99300\tvalidation_1-aucpr:0.97220\n",
      "[121]\tvalidation_0-aucpr:0.99308\tvalidation_1-aucpr:0.97220\n",
      "[122]\tvalidation_0-aucpr:0.99311\tvalidation_1-aucpr:0.97222\n",
      "[123]\tvalidation_0-aucpr:0.99321\tvalidation_1-aucpr:0.97233\n",
      "[124]\tvalidation_0-aucpr:0.99327\tvalidation_1-aucpr:0.97232\n",
      "[125]\tvalidation_0-aucpr:0.99331\tvalidation_1-aucpr:0.97242\n",
      "[126]\tvalidation_0-aucpr:0.99338\tvalidation_1-aucpr:0.97246\n",
      "[127]\tvalidation_0-aucpr:0.99352\tvalidation_1-aucpr:0.97261\n",
      "[128]\tvalidation_0-aucpr:0.99357\tvalidation_1-aucpr:0.97262\n",
      "[129]\tvalidation_0-aucpr:0.99358\tvalidation_1-aucpr:0.97263\n",
      "[130]\tvalidation_0-aucpr:0.99363\tvalidation_1-aucpr:0.97266\n",
      "[131]\tvalidation_0-aucpr:0.99369\tvalidation_1-aucpr:0.97268\n",
      "[132]\tvalidation_0-aucpr:0.99370\tvalidation_1-aucpr:0.97268\n",
      "[133]\tvalidation_0-aucpr:0.99387\tvalidation_1-aucpr:0.97270\n",
      "[134]\tvalidation_0-aucpr:0.99392\tvalidation_1-aucpr:0.97269\n",
      "[135]\tvalidation_0-aucpr:0.99402\tvalidation_1-aucpr:0.97266\n",
      "[136]\tvalidation_0-aucpr:0.99405\tvalidation_1-aucpr:0.97267\n",
      "[137]\tvalidation_0-aucpr:0.99411\tvalidation_1-aucpr:0.97276\n",
      "[138]\tvalidation_0-aucpr:0.99419\tvalidation_1-aucpr:0.97281\n"
     ]
    },
    {
     "name": "stdout",
     "output_type": "stream",
     "text": [
      "[139]\tvalidation_0-aucpr:0.99425\tvalidation_1-aucpr:0.97281\n",
      "[140]\tvalidation_0-aucpr:0.99435\tvalidation_1-aucpr:0.97284\n",
      "[141]\tvalidation_0-aucpr:0.99437\tvalidation_1-aucpr:0.97286\n",
      "[142]\tvalidation_0-aucpr:0.99448\tvalidation_1-aucpr:0.97286\n",
      "[143]\tvalidation_0-aucpr:0.99450\tvalidation_1-aucpr:0.97287\n",
      "[144]\tvalidation_0-aucpr:0.99465\tvalidation_1-aucpr:0.97305\n",
      "[145]\tvalidation_0-aucpr:0.99469\tvalidation_1-aucpr:0.97306\n",
      "[146]\tvalidation_0-aucpr:0.99470\tvalidation_1-aucpr:0.97307\n",
      "[147]\tvalidation_0-aucpr:0.99475\tvalidation_1-aucpr:0.97310\n",
      "[148]\tvalidation_0-aucpr:0.99481\tvalidation_1-aucpr:0.97309\n",
      "[149]\tvalidation_0-aucpr:0.99481\tvalidation_1-aucpr:0.97309\n",
      "[150]\tvalidation_0-aucpr:0.99492\tvalidation_1-aucpr:0.97308\n",
      "[151]\tvalidation_0-aucpr:0.99506\tvalidation_1-aucpr:0.97329\n",
      "[152]\tvalidation_0-aucpr:0.99512\tvalidation_1-aucpr:0.97331\n",
      "[153]\tvalidation_0-aucpr:0.99523\tvalidation_1-aucpr:0.97330\n",
      "[154]\tvalidation_0-aucpr:0.99532\tvalidation_1-aucpr:0.97327\n",
      "[155]\tvalidation_0-aucpr:0.99536\tvalidation_1-aucpr:0.97327\n",
      "[156]\tvalidation_0-aucpr:0.99541\tvalidation_1-aucpr:0.97327\n",
      "[157]\tvalidation_0-aucpr:0.99544\tvalidation_1-aucpr:0.97325\n",
      "[158]\tvalidation_0-aucpr:0.99547\tvalidation_1-aucpr:0.97326\n",
      "[159]\tvalidation_0-aucpr:0.99554\tvalidation_1-aucpr:0.97329\n",
      "[160]\tvalidation_0-aucpr:0.99564\tvalidation_1-aucpr:0.97330\n",
      "[161]\tvalidation_0-aucpr:0.99572\tvalidation_1-aucpr:0.97333\n",
      "[162]\tvalidation_0-aucpr:0.99574\tvalidation_1-aucpr:0.97333\n",
      "[163]\tvalidation_0-aucpr:0.99580\tvalidation_1-aucpr:0.97334\n",
      "[164]\tvalidation_0-aucpr:0.99591\tvalidation_1-aucpr:0.97353\n",
      "[165]\tvalidation_0-aucpr:0.99597\tvalidation_1-aucpr:0.97353\n",
      "[166]\tvalidation_0-aucpr:0.99604\tvalidation_1-aucpr:0.97355\n",
      "[167]\tvalidation_0-aucpr:0.99610\tvalidation_1-aucpr:0.97356\n",
      "[168]\tvalidation_0-aucpr:0.99613\tvalidation_1-aucpr:0.97354\n",
      "[169]\tvalidation_0-aucpr:0.99616\tvalidation_1-aucpr:0.97354\n",
      "[170]\tvalidation_0-aucpr:0.99625\tvalidation_1-aucpr:0.97378\n",
      "[171]\tvalidation_0-aucpr:0.99628\tvalidation_1-aucpr:0.97379\n",
      "[172]\tvalidation_0-aucpr:0.99631\tvalidation_1-aucpr:0.97377\n",
      "[173]\tvalidation_0-aucpr:0.99637\tvalidation_1-aucpr:0.97378\n",
      "[174]\tvalidation_0-aucpr:0.99643\tvalidation_1-aucpr:0.97378\n",
      "[175]\tvalidation_0-aucpr:0.99647\tvalidation_1-aucpr:0.97377\n",
      "[176]\tvalidation_0-aucpr:0.99656\tvalidation_1-aucpr:0.97377\n",
      "[177]\tvalidation_0-aucpr:0.99658\tvalidation_1-aucpr:0.97377\n",
      "[178]\tvalidation_0-aucpr:0.99664\tvalidation_1-aucpr:0.97374\n",
      "[179]\tvalidation_0-aucpr:0.99668\tvalidation_1-aucpr:0.97379\n",
      "[180]\tvalidation_0-aucpr:0.99674\tvalidation_1-aucpr:0.97379\n",
      "[181]\tvalidation_0-aucpr:0.99677\tvalidation_1-aucpr:0.97385\n",
      "[182]\tvalidation_0-aucpr:0.99678\tvalidation_1-aucpr:0.97385\n",
      "[183]\tvalidation_0-aucpr:0.99681\tvalidation_1-aucpr:0.97385\n",
      "[184]\tvalidation_0-aucpr:0.99684\tvalidation_1-aucpr:0.97389\n",
      "[185]\tvalidation_0-aucpr:0.99689\tvalidation_1-aucpr:0.97399\n",
      "[186]\tvalidation_0-aucpr:0.99693\tvalidation_1-aucpr:0.97400\n",
      "[187]\tvalidation_0-aucpr:0.99697\tvalidation_1-aucpr:0.97398\n",
      "[188]\tvalidation_0-aucpr:0.99701\tvalidation_1-aucpr:0.97400\n",
      "[189]\tvalidation_0-aucpr:0.99703\tvalidation_1-aucpr:0.97401\n",
      "[190]\tvalidation_0-aucpr:0.99708\tvalidation_1-aucpr:0.97402\n",
      "[191]\tvalidation_0-aucpr:0.99714\tvalidation_1-aucpr:0.97409\n",
      "[192]\tvalidation_0-aucpr:0.99719\tvalidation_1-aucpr:0.97421\n",
      "[193]\tvalidation_0-aucpr:0.99721\tvalidation_1-aucpr:0.97419\n",
      "[194]\tvalidation_0-aucpr:0.99728\tvalidation_1-aucpr:0.97420\n",
      "[195]\tvalidation_0-aucpr:0.99730\tvalidation_1-aucpr:0.97419\n",
      "[196]\tvalidation_0-aucpr:0.99736\tvalidation_1-aucpr:0.97417\n",
      "[197]\tvalidation_0-aucpr:0.99739\tvalidation_1-aucpr:0.97417\n",
      "[198]\tvalidation_0-aucpr:0.99743\tvalidation_1-aucpr:0.97415\n",
      "[199]\tvalidation_0-aucpr:0.99746\tvalidation_1-aucpr:0.97416\n",
      "[200]\tvalidation_0-aucpr:0.99748\tvalidation_1-aucpr:0.97418\n",
      "[201]\tvalidation_0-aucpr:0.99751\tvalidation_1-aucpr:0.97420\n",
      "[202]\tvalidation_0-aucpr:0.99752\tvalidation_1-aucpr:0.97419\n"
     ]
    }
   ],
   "source": [
    "xgb_clf = xgboost.XGBClassifier(objective='binary:logistic',\n",
    "                          booster='gbtree',\n",
    "                          eval_metric='aucpr',\n",
    "                          subsample=0.8,\n",
    "                          scale_pos_weight=scale_pos_weight,\n",
    "                          random_state=1,\n",
    "                          use_label_encoder=False,\n",
    "                          reg_alpha=.001,\n",
    "                          n_estimators=300,\n",
    "                          max_depth=9,\n",
    "                          learning_rate=.1,\n",
    "                          colsample_bytree=1)\n",
    "\n",
    "\n",
    "xgb_clf.fit(X_train, y_train,\n",
    "            verbose=True,\n",
    "            early_stopping_rounds=10,\n",
    "            eval_metric='aucpr',\n",
    "            eval_set=[(X_train, y_train),(X_test, y_test)])\n",
    "\n",
    "y_pred_xgb = xgb_clf.predict(X_test)"
   ]
  },
  {
   "cell_type": "code",
   "execution_count": null,
   "id": "1bd65a2c",
   "metadata": {
    "id": "1bd65a2c",
    "outputId": "199aa0c3-e32b-4ef9-a272-3dbe0422e539"
   },
   "outputs": [
    {
     "name": "stdout",
     "output_type": "stream",
     "text": [
      "              precision    recall  f1-score   support\n",
      "\n",
      "           0       0.95      0.94      0.95     19161\n",
      "           1       0.92      0.93      0.92     12839\n",
      "\n",
      "    accuracy                           0.94     32000\n",
      "   macro avg       0.93      0.94      0.93     32000\n",
      "weighted avg       0.94      0.94      0.94     32000\n",
      "\n",
      "\n",
      "\n",
      "Confusion Matrix: \n",
      " [[18071  1090]\n",
      " [  916 11923]]\n",
      "\n",
      "\n",
      "Accuracy: \n",
      " 0.9373125\n"
     ]
    }
   ],
   "source": [
    "print(classification_report(y_test, y_pred_xgb))\n",
    "print('\\n')\n",
    "print('Confusion Matrix: \\n', confusion_matrix(y_test, y_pred_xgb))\n",
    "print('\\n')\n",
    "print('Accuracy: \\n', accuracy_score(y_test, y_pred_xgb))"
   ]
  },
  {
   "cell_type": "code",
   "execution_count": null,
   "id": "f07612ba",
   "metadata": {
    "id": "f07612ba",
    "outputId": "79e29b26-3fd6-4bdd-9136-0a99e3b95692"
   },
   "outputs": [
    {
     "name": "stdout",
     "output_type": "stream",
     "text": [
      "recall\n",
      " 0.9286548796635252\n"
     ]
    }
   ],
   "source": [
    "recall = mt.recall_score(y_test, y_pred_xgb)\n",
    "print(\"recall\\n\",recall)"
   ]
  },
  {
   "cell_type": "code",
   "execution_count": null,
   "id": "e57839f9",
   "metadata": {
    "id": "e57839f9",
    "outputId": "1982a694-9fa2-4e3b-9ebd-0bd7a611a6c3"
   },
   "outputs": [
    {
     "name": "stdout",
     "output_type": "stream",
     "text": [
      "precision\n",
      " 0.9162376085453009\n"
     ]
    }
   ],
   "source": [
    "precision = mt.precision_score(y_test, y_pred_xgb)\n",
    "print(\"precision\\n\",precision)"
   ]
  },
  {
   "cell_type": "code",
   "execution_count": null,
   "id": "0f40c955",
   "metadata": {
    "id": "0f40c955"
   },
   "outputs": [],
   "source": [
    "evaluation_results = xgb_clf.evals_result()\n",
    "train_auc_tree = evaluation_results['validation_0']['aucpr']\n",
    "test_auc_tree = evaluation_results['validation_1']['aucpr']"
   ]
  },
  {
   "cell_type": "code",
   "execution_count": null,
   "id": "5c431a78",
   "metadata": {
    "id": "5c431a78",
    "outputId": "21136760-9c19-48c9-aaa3-c7e689f8db20"
   },
   "outputs": [
    {
     "data": {
      "text/html": [
       "<div>\n",
       "<style scoped>\n",
       "    .dataframe tbody tr th:only-of-type {\n",
       "        vertical-align: middle;\n",
       "    }\n",
       "\n",
       "    .dataframe tbody tr th {\n",
       "        vertical-align: top;\n",
       "    }\n",
       "\n",
       "    .dataframe thead th {\n",
       "        text-align: right;\n",
       "    }\n",
       "</style>\n",
       "<table border=\"1\" class=\"dataframe\">\n",
       "  <thead>\n",
       "    <tr style=\"text-align: right;\">\n",
       "      <th></th>\n",
       "      <th>train_auc_aucpr</th>\n",
       "      <th>test_auc_aucpr</th>\n",
       "    </tr>\n",
       "  </thead>\n",
       "  <tbody>\n",
       "    <tr>\n",
       "      <th>0</th>\n",
       "      <td>0.880351</td>\n",
       "      <td>0.859488</td>\n",
       "    </tr>\n",
       "    <tr>\n",
       "      <th>1</th>\n",
       "      <td>0.903563</td>\n",
       "      <td>0.886918</td>\n",
       "    </tr>\n",
       "    <tr>\n",
       "      <th>2</th>\n",
       "      <td>0.923280</td>\n",
       "      <td>0.907225</td>\n",
       "    </tr>\n",
       "    <tr>\n",
       "      <th>3</th>\n",
       "      <td>0.930476</td>\n",
       "      <td>0.914871</td>\n",
       "    </tr>\n",
       "    <tr>\n",
       "      <th>4</th>\n",
       "      <td>0.935838</td>\n",
       "      <td>0.920220</td>\n",
       "    </tr>\n",
       "  </tbody>\n",
       "</table>\n",
       "</div>"
      ],
      "text/plain": [
       "   train_auc_aucpr  test_auc_aucpr\n",
       "0         0.880351        0.859488\n",
       "1         0.903563        0.886918\n",
       "2         0.923280        0.907225\n",
       "3         0.930476        0.914871\n",
       "4         0.935838        0.920220"
      ]
     },
     "execution_count": 46,
     "metadata": {},
     "output_type": "execute_result"
    }
   ],
   "source": [
    "evaluation_output = pd.DataFrame(zip(train_auc_tree, test_auc_tree), columns=('train_auc_aucpr', 'test_auc_aucpr'))\n",
    "evaluation_output.head()"
   ]
  },
  {
   "cell_type": "code",
   "execution_count": null,
   "id": "9acc179f",
   "metadata": {
    "id": "9acc179f",
    "outputId": "c7fe8b28-c026-48d1-dc2a-88d2f03d0a16"
   },
   "outputs": [
    {
     "data": {
      "image/png": "[encoded data removed]",
      "text/plain": [
       "<Figure size 1080x360 with 1 Axes>"
      ]
     },
     "metadata": {
      "needs_background": "light"
     },
     "output_type": "display_data"
    }
   ],
   "source": [
    "plt.figure(figsize=(15,5))\n",
    "\n",
    "plt.plot(train_auc_tree, label='Train')\n",
    "plt.plot(test_auc_tree, label='Test')\n",
    "\n",
    "plt.title(\"Train and test AUC with iteration increases\")\n",
    "plt.xlabel(\"Iterations\")\n",
    "plt.ylabel(\"AUC\")\n",
    "plt.legend(loc='lower right')\n",
    "plt.show()"
   ]
  },
  {
   "cell_type": "markdown",
   "id": "318292a0",
   "metadata": {
    "id": "318292a0"
   },
   "source": [
    "#### Dense Neural Network"
   ]
  },
  {
   "cell_type": "code",
   "execution_count": 26,
   "id": "17f3ed22",
   "metadata": {
    "id": "17f3ed22"
   },
   "outputs": [],
   "source": [
    "model_seq = tf.keras.Sequential()"
   ]
  },
  {
   "cell_type": "code",
   "execution_count": 27,
   "id": "0d024b3d",
   "metadata": {
    "id": "0d024b3d"
   },
   "outputs": [],
   "source": [
    "model_seq.add(tf.keras.Input(shape=(67,)))\n",
    "model_seq.add(tf.keras.layers.Dense(100, activation='relu'))\n",
    "model_seq.add(tf.keras.layers.Dense(100, activation='relu'))\n",
    "model_seq.add(tf.keras.layers.Dense(100, activation='relu'))\n",
    "model_seq.add(tf.keras.layers.Dense(100, activation='relu'))\n",
    "model_seq.add(tf.keras.layers.Dense(100, activation='relu'))\n",
    "model_seq.add(tf.keras.layers.Dense(1, activation='sigmoid'))"
   ]
  },
  {
   "cell_type": "code",
   "execution_count": 28,
   "id": "7701bdf7",
   "metadata": {
    "colab": {
     "base_uri": "https://localhost:8080/"
    },
    "id": "7701bdf7",
    "outputId": "ff890975-10b3-4249-c925-8997989ef5e4"
   },
   "outputs": [
    {
     "name": "stdout",
     "output_type": "stream",
     "text": [
      "Examples:\n",
      "    Total: 160000\n",
      "    Positive: 64197 (40.12% of total)\n",
      "\n"
     ]
    }
   ],
   "source": [
    "neg, pos = np.bincount(df['y'])\n",
    "total = neg + pos\n",
    "print('Examples:\\n    Total: {}\\n    Positive: {} ({:.2f}% of total)\\n'.format(\n",
    "    total, pos, 100 * pos / total))"
   ]
  },
  {
   "cell_type": "code",
   "execution_count": 29,
   "id": "9b75b888",
   "metadata": {
    "colab": {
     "base_uri": "https://localhost:8080/"
    },
    "id": "9b75b888",
    "outputId": "8bcd6de1-d4b6-402c-da98-2e6e9b9969a3"
   },
   "outputs": [
    {
     "data": {
      "text/plain": [
       "0    95803\n",
       "1    64197\n",
       "Name: y, dtype: int64"
      ]
     },
     "execution_count": 29,
     "metadata": {},
     "output_type": "execute_result"
    }
   ],
   "source": [
    "y.value_counts()"
   ]
  },
  {
   "cell_type": "code",
   "execution_count": 30,
   "id": "053e2303",
   "metadata": {
    "colab": {
     "base_uri": "https://localhost:8080/"
    },
    "id": "053e2303",
    "outputId": "f6a31493-302c-48c1-f02b-9f1a210d9451"
   },
   "outputs": [
    {
     "data": {
      "text/plain": [
       "95803"
      ]
     },
     "execution_count": 30,
     "metadata": {},
     "output_type": "execute_result"
    }
   ],
   "source": [
    "neg"
   ]
  },
  {
   "cell_type": "code",
   "execution_count": 31,
   "id": "b98c5c19",
   "metadata": {
    "colab": {
     "base_uri": "https://localhost:8080/"
    },
    "id": "b98c5c19",
    "outputId": "ff7b16fc-ddde-41f2-f931-81e9aa7677e7"
   },
   "outputs": [
    {
     "name": "stdout",
     "output_type": "stream",
     "text": [
      "Weight for class 0: 0.84\n",
      "Weight for class 1: 1.25\n"
     ]
    }
   ],
   "source": [
    "# Scaling by total/2 helps keep the loss to a similar magnitude.\n",
    "# https://www.tensorflow.org/tutorials/structured_data/imbalanced_data\n",
    "weight_for_0 = (1 / neg) * (total / 2.0)\n",
    "weight_for_1 = (1 / pos) * (total / 2.0)\n",
    "\n",
    "class_weight = {0: weight_for_0, 1: weight_for_1}\n",
    "\n",
    "print('Weight for class 0: {:.2f}'.format(weight_for_0))\n",
    "print('Weight for class 1: {:.2f}'.format(weight_for_1))"
   ]
  },
  {
   "cell_type": "code",
   "execution_count": 32,
   "id": "67b229d9",
   "metadata": {
    "id": "67b229d9"
   },
   "outputs": [],
   "source": [
    "early_stop = tf.keras.callbacks.EarlyStopping(monitor='val_loss', min_delta=.001, patience=5, restore_best_weights=True)"
   ]
  },
  {
   "cell_type": "code",
   "execution_count": 33,
   "id": "4dcea3e3",
   "metadata": {
    "id": "4dcea3e3"
   },
   "outputs": [],
   "source": [
    "fname = 'my_best_model.epoch{epoch:02d}-loss{val_loss:.2f}.hdf5'\n",
    "checkpoint = tf.keras.callbacks.ModelCheckpoint(filepath=fname, monitor='val_loss', mode='min', save_best_only=True)"
   ]
  },
  {
   "cell_type": "code",
   "execution_count": 34,
   "id": "24d0df42",
   "metadata": {
    "id": "24d0df42"
   },
   "outputs": [],
   "source": [
    "model_seq.compile(optimizer='adam', loss='BinaryCrossentropy', metrics='accuracy')"
   ]
  },
  {
   "cell_type": "code",
   "execution_count": 35,
   "id": "dda2edbf",
   "metadata": {
    "id": "dda2edbf"
   },
   "outputs": [
    {
     "name": "stdout",
     "output_type": "stream",
     "text": [
      "Epoch 1/1000\n",
      "1000/1000 [==============================] - 2s 2ms/step - loss: 0.3218 - accuracy: 0.8573 - val_loss: 0.2204 - val_accuracy: 0.9110\n",
      "Epoch 2/1000\n",
      "1000/1000 [==============================] - 2s 2ms/step - loss: 0.1856 - accuracy: 0.9288 - val_loss: 0.1750 - val_accuracy: 0.9330\n",
      "Epoch 3/1000\n",
      "1000/1000 [==============================] - 1s 1ms/step - loss: 0.1476 - accuracy: 0.9460 - val_loss: 0.1496 - val_accuracy: 0.9458\n",
      "Epoch 4/1000\n",
      "1000/1000 [==============================] - 1s 1ms/step - loss: 0.1266 - accuracy: 0.9565 - val_loss: 0.1351 - val_accuracy: 0.9521\n",
      "Epoch 5/1000\n",
      "1000/1000 [==============================] - 1s 1ms/step - loss: 0.1138 - accuracy: 0.9611 - val_loss: 0.1315 - val_accuracy: 0.9553\n",
      "Epoch 6/1000\n",
      "1000/1000 [==============================] - 1s 1ms/step - loss: 0.1038 - accuracy: 0.9655 - val_loss: 0.1264 - val_accuracy: 0.9565\n",
      "Epoch 7/1000\n",
      "1000/1000 [==============================] - 1s 1ms/step - loss: 0.0962 - accuracy: 0.9682 - val_loss: 0.1222 - val_accuracy: 0.9583\n",
      "Epoch 8/1000\n",
      "1000/1000 [==============================] - 1s 1ms/step - loss: 0.0896 - accuracy: 0.9709 - val_loss: 0.1185 - val_accuracy: 0.9605\n",
      "Epoch 9/1000\n",
      "1000/1000 [==============================] - 2s 2ms/step - loss: 0.0852 - accuracy: 0.9728 - val_loss: 0.1218 - val_accuracy: 0.9603\n",
      "Epoch 10/1000\n",
      "1000/1000 [==============================] - 1s 1ms/step - loss: 0.0802 - accuracy: 0.9743 - val_loss: 0.1215 - val_accuracy: 0.9596\n",
      "Epoch 11/1000\n",
      "1000/1000 [==============================] - 2s 2ms/step - loss: 0.0763 - accuracy: 0.9757 - val_loss: 0.1166 - val_accuracy: 0.9616\n",
      "Epoch 12/1000\n",
      "1000/1000 [==============================] - 1s 1ms/step - loss: 0.0734 - accuracy: 0.9770 - val_loss: 0.1272 - val_accuracy: 0.9576\n",
      "Epoch 13/1000\n",
      "1000/1000 [==============================] - 2s 2ms/step - loss: 0.0685 - accuracy: 0.9787 - val_loss: 0.1208 - val_accuracy: 0.9621\n",
      "Epoch 14/1000\n",
      "1000/1000 [==============================] - 2s 2ms/step - loss: 0.0670 - accuracy: 0.9788 - val_loss: 0.1235 - val_accuracy: 0.9597\n",
      "Epoch 15/1000\n",
      "1000/1000 [==============================] - 2s 2ms/step - loss: 0.0631 - accuracy: 0.9805 - val_loss: 0.1310 - val_accuracy: 0.9616\n",
      "Epoch 16/1000\n",
      "1000/1000 [==============================] - 2s 2ms/step - loss: 0.0598 - accuracy: 0.9817 - val_loss: 0.1305 - val_accuracy: 0.9608\n"
     ]
    }
   ],
   "source": [
    "model_history = model_seq.fit(X_train, y_train, validation_data=(X_test, y_test), batch_size=128, epochs=1000,\n",
    "                              class_weight=class_weight, callbacks=[early_stop, checkpoint])"
   ]
  },
  {
   "cell_type": "code",
   "execution_count": 36,
   "id": "5ca897df",
   "metadata": {
    "id": "5ca897df"
   },
   "outputs": [
    {
     "name": "stdout",
     "output_type": "stream",
     "text": [
      "Model: \"sequential\"\n",
      "_________________________________________________________________\n",
      "Layer (type)                 Output Shape              Param #   \n",
      "=================================================================\n",
      "dense (Dense)                (None, 100)               6800      \n",
      "_________________________________________________________________\n",
      "dense_1 (Dense)              (None, 100)               10100     \n",
      "_________________________________________________________________\n",
      "dense_2 (Dense)              (None, 100)               10100     \n",
      "_________________________________________________________________\n",
      "dense_3 (Dense)              (None, 100)               10100     \n",
      "_________________________________________________________________\n",
      "dense_4 (Dense)              (None, 100)               10100     \n",
      "_________________________________________________________________\n",
      "dense_5 (Dense)              (None, 1)                 101       \n",
      "=================================================================\n",
      "Total params: 47,301\n",
      "Trainable params: 47,301\n",
      "Non-trainable params: 0\n",
      "_________________________________________________________________\n"
     ]
    }
   ],
   "source": [
    "model_seq.summary()"
   ]
  },
  {
   "cell_type": "code",
   "execution_count": 37,
   "id": "f35592bd",
   "metadata": {
    "id": "f35592bd"
   },
   "outputs": [
    {
     "data": {
      "image/png": "[encoded data removed]",
      "text/plain": [
       "<IPython.core.display.Image object>"
      ]
     },
     "execution_count": 37,
     "metadata": {},
     "output_type": "execute_result"
    }
   ],
   "source": [
    "plot_model(model_seq, show_shapes=True)"
   ]
  },
  {
   "cell_type": "code",
   "execution_count": 38,
   "id": "0d2cef5a",
   "metadata": {
    "id": "0d2cef5a"
   },
   "outputs": [],
   "source": [
    "def plot_training_curves(history, title=None):\n",
    "    ''' Plot the training curves for loss and accuracy given a model history\n",
    "    '''\n",
    "    # find the minimum loss epoch\n",
    "    minimum = np.min(history.history['val_loss'])\n",
    "    min_loc = np.where(minimum == history.history['val_loss'])[0]\n",
    "    # get the vline y-min and y-max\n",
    "    loss_min, loss_max = (min(history.history['val_loss'] + history.history['loss']),\n",
    "                          max(history.history['val_loss'] + history.history['loss']))\n",
    "    acc_min, acc_max = (min(history.history['val_accuracy'] + history.history['accuracy']),\n",
    "                        max(history.history['val_accuracy'] + history.history['accuracy']))\n",
    "    # create figure\n",
    "    fig, ax = plt.subplots(ncols=2, figsize = (15,7))\n",
    "    fig.suptitle(title)\n",
    "    index = np.arange(1, len(history.history['accuracy']) + 1)\n",
    "    # plot the loss and validation loss\n",
    "    ax[0].plot(index, history.history['loss'], label = 'loss')\n",
    "    ax[0].plot(index, history.history['val_loss'], label = 'val_loss')\n",
    "    ax[0].vlines(min_loc + 1, loss_min, loss_max, label = 'min_loss_location',linestyle='dashed')\n",
    "    ax[0].set_title('Loss')\n",
    "    ax[0].set_ylabel('Loss')\n",
    "    ax[0].set_xlabel('Epochs')\n",
    "    ax[0].legend()\n",
    "    # plot the accuracy and validation accuracy\n",
    "    ax[1].plot(index, history.history['accuracy'], label = 'accuracy')\n",
    "    ax[1].plot(index, history.history['val_accuracy'], label = 'val_accuracy')\n",
    "    ax[1].vlines(min_loc + 1, acc_min, acc_max, label = 'min loss Epoch',linestyle='dashed')\n",
    "    ax[1].set_title('Accuracy')\n",
    "    ax[1].set_ylabel('Accuracy')\n",
    "    ax[1].set_xlabel('Epochs')\n",
    "    ax[1].legend()\n",
    "    plt.show()"
   ]
  },
  {
   "cell_type": "code",
   "execution_count": 39,
   "id": "a314e974",
   "metadata": {
    "id": "a314e974"
   },
   "outputs": [
    {
     "data": {
      "image/png": "[encoded data removed]",
      "text/plain": [
       "<Figure size 1080x504 with 2 Axes>"
      ]
     },
     "metadata": {
      "needs_background": "light"
     },
     "output_type": "display_data"
    }
   ],
   "source": [
    "plot_training_curves(model_history)"
   ]
  },
  {
   "cell_type": "code",
   "execution_count": 40,
   "id": "830fa719",
   "metadata": {
    "id": "830fa719"
   },
   "outputs": [],
   "source": [
    "y_pred_seq = model_seq.predict(X_test)"
   ]
  },
  {
   "cell_type": "code",
   "execution_count": 41,
   "id": "75dbb3e9",
   "metadata": {
    "id": "75dbb3e9"
   },
   "outputs": [
    {
     "name": "stdout",
     "output_type": "stream",
     "text": [
      "              precision    recall  f1-score   support\n",
      "\n",
      "           0       0.97      0.97      0.97     19161\n",
      "           1       0.95      0.95      0.95     12839\n",
      "\n",
      "    accuracy                           0.96     32000\n",
      "   macro avg       0.96      0.96      0.96     32000\n",
      "weighted avg       0.96      0.96      0.96     32000\n",
      "\n",
      "\n",
      "\n",
      "Confusion Matrix: \n",
      " [[18542   619]\n",
      " [  610 12229]]\n",
      "\n",
      "\n",
      "Accuracy: \n",
      " 0.96159375\n"
     ]
    }
   ],
   "source": [
    "print(mt.classification_report(y_test, np.rint(y_pred_seq)))\n",
    "print('\\n')\n",
    "print('Confusion Matrix: \\n', mt.confusion_matrix(y_test, np.rint(y_pred_seq)))\n",
    "print('\\n')\n",
    "print('Accuracy: \\n', mt.accuracy_score(y_test, np.rint(y_pred_seq)))"
   ]
  },
  {
   "cell_type": "code",
   "execution_count": 42,
   "id": "63c7e0b1",
   "metadata": {
    "id": "63c7e0b1"
   },
   "outputs": [
    {
     "data": {
      "text/plain": [
       "0    19161\n",
       "1    12839\n",
       "Name: y, dtype: int64"
      ]
     },
     "execution_count": 42,
     "metadata": {},
     "output_type": "execute_result"
    }
   ],
   "source": [
    "y_test.value_counts()"
   ]
  },
  {
   "cell_type": "markdown",
   "id": "ef0704a7",
   "metadata": {
    "id": "ef0704a7"
   },
   "source": [
    "##### There are 18508 instances in class 0 were predicted as class 0 and 12157 instances in class 1 were predicted as class 1\n",
    "#### 653 instances in class 0 were incorrectly predicted to class 1 and 682 instances in class 1 were incorrectly predicted to class 0.\n",
    "#### Therefore, based on the problem statement, if class 0 was predicted to class 1, there is 653 X 100 loss. If class 1 was predicted to class 0, there is 682 X 25 loss. So the total loss of this model is 65300+17050=82350\n",
    "#### The prediction has 682 false negative (recall) and 653 false positive (precision), so we have to find a balance between precision and recall"
   ]
  },
  {
   "cell_type": "code",
   "execution_count": 43,
   "id": "ebf05737",
   "metadata": {
    "id": "ebf05737"
   },
   "outputs": [
    {
     "name": "stdout",
     "output_type": "stream",
     "text": [
      "recall\n",
      " 0.9524885115663214\n"
     ]
    }
   ],
   "source": [
    "recall = mt.recall_score(y_test, np.rint(y_pred_seq))\n",
    "print(\"recall\\n\",recall)"
   ]
  },
  {
   "cell_type": "code",
   "execution_count": 44,
   "id": "f2a309b4",
   "metadata": {
    "id": "f2a309b4"
   },
   "outputs": [
    {
     "name": "stdout",
     "output_type": "stream",
     "text": [
      "precision\n",
      " 0.9518212951432129\n"
     ]
    }
   ],
   "source": [
    "precision = mt.precision_score(y_test, np.rint(y_pred_seq))\n",
    "print(\"precision\\n\",precision)"
   ]
  },
  {
   "cell_type": "markdown",
   "id": "bc647ff9",
   "metadata": {
    "id": "bc647ff9"
   },
   "source": [
    "#### Threshold analysis"
   ]
  },
  {
   "cell_type": "markdown",
   "id": "7be87d50",
   "metadata": {
    "id": "7be87d50"
   },
   "source": [
    "#### Use Dense Neural Network result"
   ]
  },
  {
   "cell_type": "code",
   "execution_count": 45,
   "id": "ec5ef57b",
   "metadata": {
    "id": "ec5ef57b"
   },
   "outputs": [],
   "source": [
    "def threshold_test(y,perc):\n",
    "    if y >= perc:\n",
    "        x = 1\n",
    "    else:\n",
    "        x= 0\n",
    "    return x"
   ]
  },
  {
   "cell_type": "code",
   "execution_count": 46,
   "id": "43b25ceb",
   "metadata": {
    "id": "43b25ceb"
   },
   "outputs": [],
   "source": [
    "cutoff_df = pd.DataFrame({'Actual':y_test.tolist(),'Predicted':list(np.rint(y_pred_seq)),\n",
    "                          'class' :y_pred_seq.ravel()})"
   ]
  },
  {
   "cell_type": "code",
   "execution_count": 47,
   "id": "ca3379ab",
   "metadata": {
    "id": "ca3379ab",
    "outputId": "a46cf4b2-d737-493b-ec91-4f3c32da3111"
   },
   "outputs": [
    {
     "data": {
      "text/html": [
       "<div>\n",
       "<style scoped>\n",
       "    .dataframe tbody tr th:only-of-type {\n",
       "        vertical-align: middle;\n",
       "    }\n",
       "\n",
       "    .dataframe tbody tr th {\n",
       "        vertical-align: top;\n",
       "    }\n",
       "\n",
       "    .dataframe thead th {\n",
       "        text-align: right;\n",
       "    }\n",
       "</style>\n",
       "<table border=\"1\" class=\"dataframe\">\n",
       "  <thead>\n",
       "    <tr style=\"text-align: right;\">\n",
       "      <th></th>\n",
       "      <th>Actual</th>\n",
       "      <th>Predicted</th>\n",
       "      <th>class</th>\n",
       "    </tr>\n",
       "  </thead>\n",
       "  <tbody>\n",
       "    <tr>\n",
       "      <th>0</th>\n",
       "      <td>1</td>\n",
       "      <td>[1.0]</td>\n",
       "      <td>0.999201</td>\n",
       "    </tr>\n",
       "    <tr>\n",
       "      <th>1</th>\n",
       "      <td>1</td>\n",
       "      <td>[1.0]</td>\n",
       "      <td>0.986493</td>\n",
       "    </tr>\n",
       "    <tr>\n",
       "      <th>2</th>\n",
       "      <td>1</td>\n",
       "      <td>[1.0]</td>\n",
       "      <td>0.999543</td>\n",
       "    </tr>\n",
       "    <tr>\n",
       "      <th>3</th>\n",
       "      <td>0</td>\n",
       "      <td>[0.0]</td>\n",
       "      <td>0.003953</td>\n",
       "    </tr>\n",
       "    <tr>\n",
       "      <th>4</th>\n",
       "      <td>1</td>\n",
       "      <td>[1.0]</td>\n",
       "      <td>0.999896</td>\n",
       "    </tr>\n",
       "  </tbody>\n",
       "</table>\n",
       "</div>"
      ],
      "text/plain": [
       "   Actual Predicted     class\n",
       "0       1     [1.0]  0.999201\n",
       "1       1     [1.0]  0.986493\n",
       "2       1     [1.0]  0.999543\n",
       "3       0     [0.0]  0.003953\n",
       "4       1     [1.0]  0.999896"
      ]
     },
     "execution_count": 47,
     "metadata": {},
     "output_type": "execute_result"
    }
   ],
   "source": [
    "cutoff_df.head()"
   ]
  },
  {
   "cell_type": "code",
   "execution_count": 48,
   "id": "1e71f062",
   "metadata": {
    "id": "1e71f062"
   },
   "outputs": [],
   "source": [
    "precision_list = []\n",
    "recall_list = []\n",
    "accuracy_list = []\n",
    "f1_score_list = []\n",
    "threshold_list = [.1,.2,.3,.4,.5,.6,.7,.8,.9,1]\n",
    "for i in range(len(threshold_list)):\n",
    "    thresh_preds = []\n",
    "    for j in range(len(cutoff_df)):\n",
    "        thresh_preds.append(threshold_test(cutoff_df[j:j+1]['class'].values[0],threshold_list[i]))\n",
    "    recall_list.append(mt.recall_score(y_test,thresh_preds))\n",
    "    precision_list.append(mt.precision_score(y_test,thresh_preds)) \n",
    "    accuracy_list.append(accuracy_score(y_test,thresh_preds))\n",
    "    f1_score_list.append(f1_score(y_test,thresh_preds))"
   ]
  },
  {
   "cell_type": "code",
   "execution_count": 49,
   "id": "1728c69a",
   "metadata": {
    "id": "1728c69a"
   },
   "outputs": [],
   "source": [
    "cutoff_results_df = pd.DataFrame({'Threshold':threshold_list,'Accuracy':accuracy_list,'Precision' :precision_list,\n",
    "                                  'Recall' :recall_list,'F1_Score':f1_score_list})"
   ]
  },
  {
   "cell_type": "code",
   "execution_count": 50,
   "id": "7f4428c3",
   "metadata": {
    "id": "7f4428c3",
    "outputId": "2c19d685-5b91-46c2-ab93-2f7f8e224e16"
   },
   "outputs": [
    {
     "data": {
      "text/html": [
       "<div>\n",
       "<style scoped>\n",
       "    .dataframe tbody tr th:only-of-type {\n",
       "        vertical-align: middle;\n",
       "    }\n",
       "\n",
       "    .dataframe tbody tr th {\n",
       "        vertical-align: top;\n",
       "    }\n",
       "\n",
       "    .dataframe thead th {\n",
       "        text-align: right;\n",
       "    }\n",
       "</style>\n",
       "<table border=\"1\" class=\"dataframe\">\n",
       "  <thead>\n",
       "    <tr style=\"text-align: right;\">\n",
       "      <th></th>\n",
       "      <th>Threshold</th>\n",
       "      <th>Accuracy</th>\n",
       "      <th>Precision</th>\n",
       "      <th>Recall</th>\n",
       "      <th>F1_Score</th>\n",
       "    </tr>\n",
       "  </thead>\n",
       "  <tbody>\n",
       "    <tr>\n",
       "      <th>0</th>\n",
       "      <td>0.1</td>\n",
       "      <td>0.942063</td>\n",
       "      <td>0.887041</td>\n",
       "      <td>0.980450</td>\n",
       "      <td>0.931410</td>\n",
       "    </tr>\n",
       "    <tr>\n",
       "      <th>1</th>\n",
       "      <td>0.2</td>\n",
       "      <td>0.953531</td>\n",
       "      <td>0.917230</td>\n",
       "      <td>0.971883</td>\n",
       "      <td>0.943766</td>\n",
       "    </tr>\n",
       "    <tr>\n",
       "      <th>2</th>\n",
       "      <td>0.3</td>\n",
       "      <td>0.957562</td>\n",
       "      <td>0.931325</td>\n",
       "      <td>0.965418</td>\n",
       "      <td>0.948065</td>\n",
       "    </tr>\n",
       "    <tr>\n",
       "      <th>3</th>\n",
       "      <td>0.4</td>\n",
       "      <td>0.960594</td>\n",
       "      <td>0.943602</td>\n",
       "      <td>0.959109</td>\n",
       "      <td>0.951292</td>\n",
       "    </tr>\n",
       "    <tr>\n",
       "      <th>4</th>\n",
       "      <td>0.5</td>\n",
       "      <td>0.961594</td>\n",
       "      <td>0.951821</td>\n",
       "      <td>0.952489</td>\n",
       "      <td>0.952155</td>\n",
       "    </tr>\n",
       "  </tbody>\n",
       "</table>\n",
       "</div>"
      ],
      "text/plain": [
       "   Threshold  Accuracy  Precision    Recall  F1_Score\n",
       "0        0.1  0.942063   0.887041  0.980450  0.931410\n",
       "1        0.2  0.953531   0.917230  0.971883  0.943766\n",
       "2        0.3  0.957562   0.931325  0.965418  0.948065\n",
       "3        0.4  0.960594   0.943602  0.959109  0.951292\n",
       "4        0.5  0.961594   0.951821  0.952489  0.952155"
      ]
     },
     "execution_count": 50,
     "metadata": {},
     "output_type": "execute_result"
    }
   ],
   "source": [
    "cutoff_results_df.head()"
   ]
  },
  {
   "cell_type": "code",
   "execution_count": 51,
   "id": "1a3778f7",
   "metadata": {
    "id": "1a3778f7",
    "outputId": "f2df5b97-13cb-4651-d407-3fb7417ae626"
   },
   "outputs": [
    {
     "data": {
      "image/png": "[encoded data removed]",
      "text/plain": [
       "<Figure size 640x480 with 1 Axes>"
      ]
     },
     "metadata": {
      "needs_background": "light"
     },
     "output_type": "display_data"
    }
   ],
   "source": [
    "figure(figsize=(8, 6), dpi=80)\n",
    "plt.style.use('ggplot')\n",
    "plt.plot(cutoff_results_df['Accuracy'], label='Accuracy')\n",
    "plt.plot(cutoff_results_df['Precision'], label='Precision')\n",
    "plt.plot(cutoff_results_df['Recall'], label='Recall')\n",
    "plt.plot(cutoff_results_df['F1_Score'], label='F1_Score')\n",
    "plt.xticks(list(range(cutoff_results_df.shape[0])), cutoff_results_df['Threshold'])\n",
    "plt.xlabel('Probability Threshold')\n",
    "plt.ylabel('Classification metric scores')\n",
    "plt.legend()\n",
    "plt.show()"
   ]
  },
  {
   "cell_type": "markdown",
   "id": "7c8006d1",
   "metadata": {
    "id": "7c8006d1"
   },
   "source": [
    "#### Let's try to use precision and recall metrics in dense NN along with different thresholds."
   ]
  },
  {
   "cell_type": "markdown",
   "id": "bb8ea831",
   "metadata": {
    "id": "bb8ea831"
   },
   "source": [
    "#### Precision train with thresholds = 1"
   ]
  },
  {
   "cell_type": "code",
   "execution_count": null,
   "id": "c94d516c",
   "metadata": {
    "id": "c94d516c"
   },
   "outputs": [],
   "source": [
    "model_seq_1 = tf.keras.Sequential()\n",
    "model_seq_1.add(tf.keras.Input(shape=(67,)))\n",
    "model_seq_1.add(tf.keras.layers.Dense(100, activation='relu'))\n",
    "model_seq_1.add(tf.keras.layers.Dense(100, activation='relu'))\n",
    "model_seq_1.add(tf.keras.layers.Dense(100, activation='relu'))\n",
    "model_seq_1.add(tf.keras.layers.Dense(100, activation='relu'))\n",
    "model_seq_1.add(tf.keras.layers.Dense(100, activation='relu'))\n",
    "model_seq_1.add(tf.keras.layers.Dense(1, activation='sigmoid'))"
   ]
  },
  {
   "cell_type": "code",
   "execution_count": null,
   "id": "9c638033",
   "metadata": {
    "id": "9c638033"
   },
   "outputs": [],
   "source": [
    "model_seq_1.compile(optimizer='adam', loss='BinaryCrossentropy', metrics=[tf.keras.metrics.Precision(thresholds=1)])"
   ]
  },
  {
   "cell_type": "code",
   "execution_count": null,
   "id": "efb8d11e",
   "metadata": {
    "id": "efb8d11e",
    "outputId": "74b31d3a-5a3e-4b34-ff59-3c89979e6521"
   },
   "outputs": [
    {
     "name": "stdout",
     "output_type": "stream",
     "text": [
      "Epoch 1/1000\n",
      "1000/1000 [==============================] - 3s 3ms/step - loss: 0.3250 - precision_2: 0.0000e+00 - val_loss: 0.2306 - val_precision_2: 0.0000e+00\n",
      "Epoch 2/1000\n",
      "1000/1000 [==============================] - 2s 2ms/step - loss: 0.1893 - precision_2: 0.0000e+00 - val_loss: 0.1708 - val_precision_2: 0.0000e+00\n",
      "Epoch 3/1000\n",
      "1000/1000 [==============================] - 2s 2ms/step - loss: 0.1480 - precision_2: 0.0000e+00 - val_loss: 0.1592 - val_precision_2: 0.0000e+00\n",
      "Epoch 4/1000\n",
      "1000/1000 [==============================] - 2s 2ms/step - loss: 0.1278 - precision_2: 0.0000e+00 - val_loss: 0.1419 - val_precision_2: 0.0000e+00\n",
      "Epoch 5/1000\n",
      "1000/1000 [==============================] - 2s 2ms/step - loss: 0.1138 - precision_2: 0.0000e+00 - val_loss: 0.1373 - val_precision_2: 0.0000e+00\n",
      "Epoch 6/1000\n",
      "1000/1000 [==============================] - 2s 2ms/step - loss: 0.1064 - precision_2: 0.0000e+00 - val_loss: 0.1247 - val_precision_2: 0.0000e+00\n",
      "Epoch 7/1000\n",
      "1000/1000 [==============================] - 2s 2ms/step - loss: 0.0978 - precision_2: 0.0000e+00 - val_loss: 0.1270 - val_precision_2: 0.0000e+00\n",
      "Epoch 8/1000\n",
      "1000/1000 [==============================] - 2s 2ms/step - loss: 0.0915 - precision_2: 0.0000e+00 - val_loss: 0.1202 - val_precision_2: 0.0000e+00\n",
      "Epoch 9/1000\n",
      "1000/1000 [==============================] - 2s 2ms/step - loss: 0.0868 - precision_2: 0.0000e+00 - val_loss: 0.1177 - val_precision_2: 0.0000e+00\n",
      "Epoch 10/1000\n",
      "1000/1000 [==============================] - 2s 2ms/step - loss: 0.0814 - precision_2: 0.0000e+00 - val_loss: 0.1257 - val_precision_2: 0.0000e+00\n",
      "Epoch 11/1000\n",
      "1000/1000 [==============================] - 2s 2ms/step - loss: 0.0776 - precision_2: 0.0000e+00 - val_loss: 0.1264 - val_precision_2: 0.0000e+00\n",
      "Epoch 12/1000\n",
      "1000/1000 [==============================] - 2s 2ms/step - loss: 0.0737 - precision_2: 0.0000e+00 - val_loss: 0.1241 - val_precision_2: 0.0000e+00\n",
      "Epoch 13/1000\n",
      "1000/1000 [==============================] - 2s 2ms/step - loss: 0.0686 - precision_2: 0.0000e+00 - val_loss: 0.1382 - val_precision_2: 0.0000e+00\n",
      "Epoch 14/1000\n",
      "1000/1000 [==============================] - 2s 2ms/step - loss: 0.0673 - precision_2: 0.0000e+00 - val_loss: 0.1292 - val_precision_2: 0.0000e+00\n"
     ]
    }
   ],
   "source": [
    "model_history_1 = model_seq_1.fit(X_train, y_train, validation_data=(X_test, y_test), batch_size=128, epochs=1000,\n",
    "                              class_weight=class_weight, callbacks=[early_stop, checkpoint])"
   ]
  },
  {
   "cell_type": "code",
   "execution_count": null,
   "id": "b44cd8e1",
   "metadata": {
    "id": "b44cd8e1"
   },
   "outputs": [],
   "source": [
    "y_pred_seq_1 = model_seq_1.predict(X_test)"
   ]
  },
  {
   "cell_type": "code",
   "execution_count": null,
   "id": "739a055b",
   "metadata": {
    "id": "739a055b",
    "outputId": "09945890-d6eb-4b42-98eb-745ebb55f0f0"
   },
   "outputs": [
    {
     "name": "stdout",
     "output_type": "stream",
     "text": [
      "              precision    recall  f1-score   support\n",
      "\n",
      "           0       0.97      0.97      0.97     19161\n",
      "           1       0.95      0.95      0.95     12839\n",
      "\n",
      "    accuracy                           0.96     32000\n",
      "   macro avg       0.96      0.96      0.96     32000\n",
      "weighted avg       0.96      0.96      0.96     32000\n",
      "\n",
      "\n",
      "\n",
      "Confusion Matrix: \n",
      " [[18544   617]\n",
      " [  653 12186]]\n",
      "\n",
      "\n",
      "Accuracy: \n",
      " 0.9603125\n"
     ]
    }
   ],
   "source": [
    "print(mt.classification_report(y_test, np.rint(y_pred_seq_1)))\n",
    "print('\\n')\n",
    "print('Confusion Matrix: \\n', mt.confusion_matrix(y_test, np.rint(y_pred_seq_1)))\n",
    "print('\\n')\n",
    "print('Accuracy: \\n', mt.accuracy_score(y_test, np.rint(y_pred_seq_1)))"
   ]
  },
  {
   "cell_type": "markdown",
   "id": "253b5b4b",
   "metadata": {
    "id": "253b5b4b"
   },
   "source": [
    "#### 617 X 100+ 653 X25 = 78025"
   ]
  },
  {
   "cell_type": "markdown",
   "id": "7b6e79dd",
   "metadata": {
    "id": "7b6e79dd"
   },
   "source": [
    "#### Recall train with thresholds=.9"
   ]
  },
  {
   "cell_type": "code",
   "execution_count": null,
   "id": "676790fb",
   "metadata": {
    "id": "676790fb"
   },
   "outputs": [],
   "source": [
    "model_seq_2 = tf.keras.Sequential()\n",
    "model_seq_2.add(tf.keras.Input(shape=(67,)))\n",
    "model_seq_2.add(tf.keras.layers.Dense(100, activation='relu'))\n",
    "model_seq_2.add(tf.keras.layers.Dense(100, activation='relu'))\n",
    "model_seq_2.add(tf.keras.layers.Dense(100, activation='relu'))\n",
    "model_seq_2.add(tf.keras.layers.Dense(100, activation='relu'))\n",
    "model_seq_2.add(tf.keras.layers.Dense(100, activation='relu'))\n",
    "model_seq_2.add(tf.keras.layers.Dense(1, activation='sigmoid'))"
   ]
  },
  {
   "cell_type": "code",
   "execution_count": null,
   "id": "d64261a3",
   "metadata": {
    "id": "d64261a3"
   },
   "outputs": [],
   "source": [
    "model_seq_2.compile(optimizer='adam', loss='BinaryCrossentropy', metrics=[tf.keras.metrics.Recall(thresholds=.9)])"
   ]
  },
  {
   "cell_type": "code",
   "execution_count": null,
   "id": "01042f60",
   "metadata": {
    "id": "01042f60",
    "outputId": "1fbb4a19-f2d6-4a4d-dd1d-54305d9c4962"
   },
   "outputs": [
    {
     "name": "stdout",
     "output_type": "stream",
     "text": [
      "Epoch 1/1000\n",
      "1000/1000 [==============================] - 2s 2ms/step - loss: 0.3170 - recall_1: 0.5153 - val_loss: 0.2322 - val_recall_1: 0.6935\n",
      "Epoch 2/1000\n",
      "1000/1000 [==============================] - 1s 1ms/step - loss: 0.1876 - recall_1: 0.7558 - val_loss: 0.1746 - val_recall_1: 0.7527\n",
      "Epoch 3/1000\n",
      "1000/1000 [==============================] - 2s 2ms/step - loss: 0.1480 - recall_1: 0.8188 - val_loss: 0.1515 - val_recall_1: 0.8047\n",
      "Epoch 4/1000\n",
      "1000/1000 [==============================] - 2s 2ms/step - loss: 0.1275 - recall_1: 0.8529 - val_loss: 0.1428 - val_recall_1: 0.8051\n",
      "Epoch 5/1000\n",
      "1000/1000 [==============================] - 2s 2ms/step - loss: 0.1153 - recall_1: 0.8735 - val_loss: 0.1317 - val_recall_1: 0.8526\n",
      "Epoch 6/1000\n",
      "1000/1000 [==============================] - 2s 2ms/step - loss: 0.1065 - recall_1: 0.8855 - val_loss: 0.1287 - val_recall_1: 0.8441\n",
      "Epoch 7/1000\n",
      "1000/1000 [==============================] - 2s 2ms/step - loss: 0.0992 - recall_1: 0.8968 - val_loss: 0.1335 - val_recall_1: 0.8916\n",
      "Epoch 8/1000\n",
      "1000/1000 [==============================] - 2s 2ms/step - loss: 0.0928 - recall_1: 0.9049 - val_loss: 0.1289 - val_recall_1: 0.8872\n",
      "Epoch 9/1000\n",
      "1000/1000 [==============================] - 2s 2ms/step - loss: 0.0878 - recall_1: 0.9129 - val_loss: 0.1245 - val_recall_1: 0.8730\n",
      "Epoch 10/1000\n",
      "1000/1000 [==============================] - 2s 2ms/step - loss: 0.0833 - recall_1: 0.9195 - val_loss: 0.1207 - val_recall_1: 0.8794\n",
      "Epoch 11/1000\n",
      "1000/1000 [==============================] - 1s 1ms/step - loss: 0.0789 - recall_1: 0.9230 - val_loss: 0.1265 - val_recall_1: 0.8946\n",
      "Epoch 12/1000\n",
      "1000/1000 [==============================] - 1s 1ms/step - loss: 0.0749 - recall_1: 0.9271 - val_loss: 0.1302 - val_recall_1: 0.8895\n",
      "Epoch 13/1000\n",
      "1000/1000 [==============================] - 2s 2ms/step - loss: 0.0718 - recall_1: 0.9302 - val_loss: 0.1256 - val_recall_1: 0.9063\n",
      "Epoch 14/1000\n",
      "1000/1000 [==============================] - 2s 2ms/step - loss: 0.0684 - recall_1: 0.9349 - val_loss: 0.1323 - val_recall_1: 0.9098\n",
      "Epoch 15/1000\n",
      "1000/1000 [==============================] - 2s 2ms/step - loss: 0.0657 - recall_1: 0.9383 - val_loss: 0.1308 - val_recall_1: 0.9089\n"
     ]
    }
   ],
   "source": [
    "model_history_2 = model_seq_2.fit(X_train, y_train, validation_data=(X_test, y_test), batch_size=128, epochs=1000,\n",
    "                              class_weight=class_weight, callbacks=[early_stop, checkpoint])"
   ]
  },
  {
   "cell_type": "code",
   "execution_count": null,
   "id": "8e6da957",
   "metadata": {
    "id": "8e6da957"
   },
   "outputs": [],
   "source": [
    "y_pred_seq_2 = model_seq_2.predict(X_test)"
   ]
  },
  {
   "cell_type": "code",
   "execution_count": null,
   "id": "0d4da26c",
   "metadata": {
    "id": "0d4da26c",
    "outputId": "a00421dc-6a06-4075-db57-335a64a42920"
   },
   "outputs": [
    {
     "name": "stdout",
     "output_type": "stream",
     "text": [
      "              precision    recall  f1-score   support\n",
      "\n",
      "           0       0.97      0.97      0.97     19161\n",
      "           1       0.95      0.95      0.95     12839\n",
      "\n",
      "    accuracy                           0.96     32000\n",
      "   macro avg       0.96      0.96      0.96     32000\n",
      "weighted avg       0.96      0.96      0.96     32000\n",
      "\n",
      "\n",
      "\n",
      "Confusion Matrix: \n",
      " [[18555   606]\n",
      " [  657 12182]]\n",
      "\n",
      "\n",
      "Accuracy: \n",
      " 0.96053125\n"
     ]
    }
   ],
   "source": [
    "print(mt.classification_report(y_test, np.rint(y_pred_seq_2)))\n",
    "print('\\n')\n",
    "print('Confusion Matrix: \\n', mt.confusion_matrix(y_test, np.rint(y_pred_seq_2)))\n",
    "print('\\n')\n",
    "print('Accuracy: \\n', mt.accuracy_score(y_test, np.rint(y_pred_seq_2)))"
   ]
  },
  {
   "cell_type": "markdown",
   "id": "078ea633",
   "metadata": {
    "id": "078ea633"
   },
   "source": [
    "#### 606X100+657X25 = 77025 (Second Lowest)"
   ]
  },
  {
   "cell_type": "markdown",
   "id": "8674bafd",
   "metadata": {
    "id": "8674bafd"
   },
   "source": [
    "#### Recall train with thresholds=1"
   ]
  },
  {
   "cell_type": "code",
   "execution_count": null,
   "id": "ba636d08",
   "metadata": {
    "id": "ba636d08"
   },
   "outputs": [],
   "source": [
    "model_seq_3 = tf.keras.Sequential()\n",
    "model_seq_3.add(tf.keras.Input(shape=(67,)))\n",
    "model_seq_3.add(tf.keras.layers.Dense(100, activation='relu'))\n",
    "model_seq_3.add(tf.keras.layers.Dense(100, activation='relu'))\n",
    "model_seq_3.add(tf.keras.layers.Dense(100, activation='relu'))\n",
    "model_seq_3.add(tf.keras.layers.Dense(100, activation='relu'))\n",
    "model_seq_3.add(tf.keras.layers.Dense(100, activation='relu'))\n",
    "model_seq_3.add(tf.keras.layers.Dense(1, activation='sigmoid'))"
   ]
  },
  {
   "cell_type": "code",
   "execution_count": null,
   "id": "5e37d524",
   "metadata": {
    "id": "5e37d524"
   },
   "outputs": [],
   "source": [
    "model_seq_3.compile(optimizer='adam', loss='BinaryCrossentropy', metrics=[tf.keras.metrics.Recall(thresholds=1)])"
   ]
  },
  {
   "cell_type": "code",
   "execution_count": null,
   "id": "ff9281c8",
   "metadata": {
    "id": "ff9281c8",
    "outputId": "62cbce83-cd25-45e6-fdb0-3425cf4b9d1c"
   },
   "outputs": [
    {
     "name": "stdout",
     "output_type": "stream",
     "text": [
      "Epoch 1/1000\n",
      "1000/1000 [==============================] - 3s 2ms/step - loss: 0.3261 - recall_2: 0.0000e+00 - val_loss: 0.2309 - val_recall_2: 0.0000e+00\n",
      "Epoch 2/1000\n",
      "1000/1000 [==============================] - 2s 2ms/step - loss: 0.1915 - recall_2: 0.0000e+00 - val_loss: 0.1829 - val_recall_2: 0.0000e+00\n",
      "Epoch 3/1000\n",
      "1000/1000 [==============================] - 2s 2ms/step - loss: 0.1515 - recall_2: 0.0000e+00 - val_loss: 0.1502 - val_recall_2: 0.0000e+00\n",
      "Epoch 4/1000\n",
      "1000/1000 [==============================] - 1s 1ms/step - loss: 0.1323 - recall_2: 0.0000e+00 - val_loss: 0.1414 - val_recall_2: 0.0000e+00\n",
      "Epoch 5/1000\n",
      "1000/1000 [==============================] - 2s 2ms/step - loss: 0.1182 - recall_2: 0.0000e+00 - val_loss: 0.1420 - val_recall_2: 0.0000e+00\n",
      "Epoch 6/1000\n",
      "1000/1000 [==============================] - 2s 2ms/step - loss: 0.1082 - recall_2: 0.0000e+00 - val_loss: 0.1324 - val_recall_2: 0.0000e+00\n",
      "Epoch 7/1000\n",
      "1000/1000 [==============================] - 2s 2ms/step - loss: 0.0994 - recall_2: 0.0000e+00 - val_loss: 0.1271 - val_recall_2: 0.0000e+00\n",
      "Epoch 8/1000\n",
      "1000/1000 [==============================] - 2s 2ms/step - loss: 0.0926 - recall_2: 0.0000e+00 - val_loss: 0.1233 - val_recall_2: 0.0000e+00\n",
      "Epoch 9/1000\n",
      "1000/1000 [==============================] - 2s 2ms/step - loss: 0.0874 - recall_2: 0.0000e+00 - val_loss: 0.1290 - val_recall_2: 0.0000e+00\n",
      "Epoch 10/1000\n",
      "1000/1000 [==============================] - 2s 2ms/step - loss: 0.0823 - recall_2: 0.0000e+00 - val_loss: 0.1264 - val_recall_2: 0.0000e+00\n",
      "Epoch 11/1000\n",
      "1000/1000 [==============================] - 2s 2ms/step - loss: 0.0781 - recall_2: 0.0000e+00 - val_loss: 0.1285 - val_recall_2: 0.0000e+00\n",
      "Epoch 12/1000\n",
      "1000/1000 [==============================] - 2s 2ms/step - loss: 0.0748 - recall_2: 0.0000e+00 - val_loss: 0.1251 - val_recall_2: 0.0000e+00\n",
      "Epoch 13/1000\n",
      "1000/1000 [==============================] - 2s 2ms/step - loss: 0.0700 - recall_2: 0.0000e+00 - val_loss: 0.1268 - val_recall_2: 0.0000e+00\n"
     ]
    }
   ],
   "source": [
    "model_history_3 = model_seq_3.fit(X_train, y_train, validation_data=(X_test, y_test), batch_size=128, epochs=1000,\n",
    "                              class_weight=class_weight, callbacks=[early_stop, checkpoint])"
   ]
  },
  {
   "cell_type": "code",
   "execution_count": null,
   "id": "384d2b8f",
   "metadata": {
    "id": "384d2b8f"
   },
   "outputs": [],
   "source": [
    "y_pred_seq_3 = model_seq_3.predict(X_test)"
   ]
  },
  {
   "cell_type": "code",
   "execution_count": null,
   "id": "95d2ccaa",
   "metadata": {
    "id": "95d2ccaa",
    "outputId": "04f30778-e0a5-491c-bf14-c01e47871e5c"
   },
   "outputs": [
    {
     "name": "stdout",
     "output_type": "stream",
     "text": [
      "              precision    recall  f1-score   support\n",
      "\n",
      "           0       0.97      0.96      0.97     19161\n",
      "           1       0.95      0.95      0.95     12839\n",
      "\n",
      "    accuracy                           0.96     32000\n",
      "   macro avg       0.96      0.96      0.96     32000\n",
      "weighted avg       0.96      0.96      0.96     32000\n",
      "\n",
      "\n",
      "\n",
      "Confusion Matrix: \n",
      " [[18482   679]\n",
      " [  632 12207]]\n",
      "\n",
      "\n",
      "Accuracy: \n",
      " 0.95903125\n"
     ]
    }
   ],
   "source": [
    "print(mt.classification_report(y_test, np.rint(y_pred_seq_3)))\n",
    "print('\\n')\n",
    "print('Confusion Matrix: \\n', mt.confusion_matrix(y_test, np.rint(y_pred_seq_3)))\n",
    "print('\\n')\n",
    "print('Accuracy: \\n', mt.accuracy_score(y_test, np.rint(y_pred_seq_3)))"
   ]
  },
  {
   "cell_type": "markdown",
   "id": "850aac6c",
   "metadata": {
    "id": "850aac6c"
   },
   "source": [
    "#### 679X100+632X25 = 83700"
   ]
  },
  {
   "cell_type": "markdown",
   "id": "b7ccaa67",
   "metadata": {
    "id": "b7ccaa67"
   },
   "source": [
    "#### Customize metrics"
   ]
  },
  {
   "cell_type": "code",
   "execution_count": 57,
   "id": "7e87be07",
   "metadata": {
    "id": "7e87be07"
   },
   "outputs": [],
   "source": [
    "def money_loss(y_true, y_pred):\n",
    "    y_true = tf.cast(y_true, tf.float32)\n",
    "    y_pred = tf.cast(y_pred, tf.float32)\n",
    "    tp = K.sum(K.round(K.clip(y_true*y_pred, 0, 1)))\n",
    "    tp_fp = K.sum(K.round(K.clip(y_pred, 0,1)))\n",
    "    tp_fn = K.sum(K.round(K.clip(y_true, 0,1)))\n",
    "    total_loss = (tp_fp-tp) * 100 + (tp_fn-tp) * 250\n",
    "    return -total_loss"
   ]
  },
  {
   "cell_type": "code",
   "execution_count": null,
   "id": "093b86ae",
   "metadata": {
    "id": "093b86ae"
   },
   "outputs": [],
   "source": [
    "model_seq_4 = tf.keras.Sequential()\n",
    "model_seq_4.add(tf.keras.Input(shape=(67,)))\n",
    "model_seq_4.add(tf.keras.layers.Dense(100, activation='relu'))\n",
    "model_seq_4.add(tf.keras.layers.Dense(100, activation='relu'))\n",
    "model_seq_4.add(tf.keras.layers.Dense(100, activation='relu'))\n",
    "model_seq_4.add(tf.keras.layers.Dense(100, activation='relu'))\n",
    "model_seq_4.add(tf.keras.layers.Dense(100, activation='relu'))\n",
    "model_seq_4.add(tf.keras.layers.Dense(1, activation='sigmoid'))"
   ]
  },
  {
   "cell_type": "code",
   "execution_count": null,
   "id": "64640df2",
   "metadata": {
    "id": "64640df2"
   },
   "outputs": [],
   "source": [
    "model_seq_4.compile(optimizer='adam', loss='BinaryCrossentropy', metrics=[money_loss])"
   ]
  },
  {
   "cell_type": "code",
   "execution_count": null,
   "id": "503999fa",
   "metadata": {
    "id": "503999fa",
    "outputId": "45a9ac15-565b-4984-ece4-6540a1968a04"
   },
   "outputs": [
    {
     "name": "stdout",
     "output_type": "stream",
     "text": [
      "Epoch 1/1000\n",
      "1000/1000 [==============================] - 2s 2ms/step - loss: 0.3212 - money_loss: -1264.6500 - val_loss: 0.2439 - val_money_loss: -1019.3000\n",
      "Epoch 2/1000\n",
      "1000/1000 [==============================] - 2s 2ms/step - loss: 0.1907 - money_loss: -670.6750 - val_loss: 0.1814 - val_money_loss: -650.3000\n",
      "Epoch 3/1000\n",
      "1000/1000 [==============================] - 1s 1ms/step - loss: 0.1526 - money_loss: -504.2000 - val_loss: 0.1630 - val_money_loss: -584.1000\n",
      "Epoch 4/1000\n",
      "1000/1000 [==============================] - 2s 2ms/step - loss: 0.1324 - money_loss: -423.5750 - val_loss: 0.1419 - val_money_loss: -435.8000\n",
      "Epoch 5/1000\n",
      "1000/1000 [==============================] - 1s 1ms/step - loss: 0.1177 - money_loss: -365.4000 - val_loss: 0.1354 - val_money_loss: -390.2000\n",
      "Epoch 6/1000\n",
      "1000/1000 [==============================] - 1s 1ms/step - loss: 0.1071 - money_loss: -321.1000 - val_loss: 0.1343 - val_money_loss: -418.8000\n",
      "Epoch 7/1000\n",
      "1000/1000 [==============================] - 1s 1ms/step - loss: 0.0995 - money_loss: -292.5500 - val_loss: 0.1306 - val_money_loss: -387.5000\n",
      "Epoch 8/1000\n",
      "1000/1000 [==============================] - 1s 1ms/step - loss: 0.0924 - money_loss: -268.1750 - val_loss: 0.1302 - val_money_loss: -378.9000\n",
      "Epoch 9/1000\n",
      "1000/1000 [==============================] - 2s 2ms/step - loss: 0.0872 - money_loss: -254.0000 - val_loss: 0.1291 - val_money_loss: -374.3000\n",
      "Epoch 10/1000\n",
      "1000/1000 [==============================] - 1s 1ms/step - loss: 0.0829 - money_loss: -238.6500 - val_loss: 0.1360 - val_money_loss: -454.8000\n",
      "Epoch 11/1000\n",
      "1000/1000 [==============================] - 1s 1ms/step - loss: 0.0783 - money_loss: -224.5500 - val_loss: 0.1252 - val_money_loss: -298.6000\n",
      "Epoch 12/1000\n",
      "1000/1000 [==============================] - 1s 1ms/step - loss: 0.0748 - money_loss: -216.0750 - val_loss: 0.1354 - val_money_loss: -416.7000\n",
      "Epoch 13/1000\n",
      "1000/1000 [==============================] - 2s 2ms/step - loss: 0.0696 - money_loss: -192.3250 - val_loss: 0.1311 - val_money_loss: -397.3000\n",
      "Epoch 14/1000\n",
      "1000/1000 [==============================] - 2s 2ms/step - loss: 0.0672 - money_loss: -189.7750 - val_loss: 0.1326 - val_money_loss: -364.9000\n",
      "Epoch 15/1000\n",
      "1000/1000 [==============================] - 1s 1ms/step - loss: 0.0651 - money_loss: -188.8000 - val_loss: 0.1336 - val_money_loss: -372.4000\n",
      "Epoch 16/1000\n",
      "1000/1000 [==============================] - 1s 1ms/step - loss: 0.0614 - money_loss: -171.4750 - val_loss: 0.1340 - val_money_loss: -359.5000\n"
     ]
    }
   ],
   "source": [
    "model_history_4 = model_seq_4.fit(X_train, y_train, validation_data=(X_test, y_test), batch_size=128, epochs=1000,\n",
    "                              class_weight=class_weight, callbacks=[early_stop, checkpoint])"
   ]
  },
  {
   "cell_type": "code",
   "execution_count": null,
   "id": "f22b6537",
   "metadata": {
    "id": "f22b6537"
   },
   "outputs": [],
   "source": [
    "y_pred_seq_4 = model_seq_4.predict(X_test)"
   ]
  },
  {
   "cell_type": "code",
   "execution_count": null,
   "id": "020c91fa",
   "metadata": {
    "id": "020c91fa",
    "outputId": "8d1dfac4-1d7b-4937-a218-2e2347c40522"
   },
   "outputs": [
    {
     "name": "stdout",
     "output_type": "stream",
     "text": [
      "              precision    recall  f1-score   support\n",
      "\n",
      "           0       0.96      0.97      0.97     19161\n",
      "           1       0.96      0.94      0.95     12839\n",
      "\n",
      "    accuracy                           0.96     32000\n",
      "   macro avg       0.96      0.96      0.96     32000\n",
      "weighted avg       0.96      0.96      0.96     32000\n",
      "\n",
      "\n",
      "\n",
      "Confusion Matrix: \n",
      " [[18595   566]\n",
      " [  722 12117]]\n",
      "\n",
      "\n",
      "Accuracy: \n",
      " 0.95975\n"
     ]
    }
   ],
   "source": [
    "print(mt.classification_report(y_test, np.rint(y_pred_seq_4)))\n",
    "print('\\n')\n",
    "print('Confusion Matrix: \\n', mt.confusion_matrix(y_test, np.rint(y_pred_seq_4)))\n",
    "print('\\n')\n",
    "print('Accuracy: \\n', mt.accuracy_score(y_test, np.rint(y_pred_seq_4)))"
   ]
  },
  {
   "cell_type": "markdown",
   "id": "5773c767",
   "metadata": {
    "id": "5773c767"
   },
   "source": [
    "#### 566 X 100+722X25 =74650"
   ]
  },
  {
   "cell_type": "code",
   "execution_count": null,
   "id": "82f54aed",
   "metadata": {
    "id": "82f54aed"
   },
   "outputs": [],
   "source": [
    "tf.random.set_seed(1)"
   ]
  },
  {
   "cell_type": "code",
   "execution_count": null,
   "id": "0243f875",
   "metadata": {
    "id": "0243f875"
   },
   "outputs": [],
   "source": [
    "#Add batch normalization to stablize the result\n",
    "model_seq_5 = tf.keras.Sequential()\n",
    "model_seq_5.add(tf.keras.Input(shape=(67,)))\n",
    "model_seq_5.add(tf.keras.layers.Dense(100, activation='relu'))\n",
    "model_seq_5.add(tf.keras.layers.BatchNormalization(momentum=0.8))\n",
    "model_seq_5.add(tf.keras.layers.Dense(100, activation='relu'))\n",
    "model_seq_5.add(tf.keras.layers.BatchNormalization(momentum=0.8))\n",
    "model_seq_5.add(tf.keras.layers.Dense(100, activation='relu'))\n",
    "model_seq_5.add(tf.keras.layers.BatchNormalization(momentum=0.8))\n",
    "model_seq_5.add(tf.keras.layers.Dense(100, activation='relu'))\n",
    "model_seq_5.add(tf.keras.layers.BatchNormalization(momentum=0.8))\n",
    "model_seq_5.add(tf.keras.layers.Dense(100, activation='relu'))\n",
    "model_seq_5.add(tf.keras.layers.BatchNormalization(momentum=0.8))\n",
    "model_seq_5.add(tf.keras.layers.Dense(1, activation='sigmoid'))"
   ]
  },
  {
   "cell_type": "code",
   "execution_count": null,
   "id": "b08c1e46",
   "metadata": {
    "id": "b08c1e46"
   },
   "outputs": [],
   "source": [
    "model_seq_5.compile(optimizer='adam', loss='BinaryCrossentropy', metrics=[money_loss])"
   ]
  },
  {
   "cell_type": "code",
   "execution_count": null,
   "id": "fa5a7f6b",
   "metadata": {
    "id": "fa5a7f6b",
    "outputId": "c3cdfac2-283c-4787-8ed6-7f3d1ba64c59"
   },
   "outputs": [
    {
     "name": "stdout",
     "output_type": "stream",
     "text": [
      "Epoch 1/1000\n",
      "1000/1000 [==============================] - 4s 3ms/step - loss: 0.3656 - money_loss: -1525.0250 - val_loss: 0.2387 - val_money_loss: -865.1000\n",
      "Epoch 2/1000\n",
      "1000/1000 [==============================] - 3s 3ms/step - loss: 0.2052 - money_loss: -717.9500 - val_loss: 0.1685 - val_money_loss: -527.8000\n",
      "Epoch 3/1000\n",
      "1000/1000 [==============================] - 3s 3ms/step - loss: 0.1620 - money_loss: -532.2250 - val_loss: 0.1467 - val_money_loss: -468.6000\n",
      "Epoch 4/1000\n",
      "1000/1000 [==============================] - 3s 3ms/step - loss: 0.1398 - money_loss: -454.1750 - val_loss: 0.1412 - val_money_loss: -437.0000\n",
      "Epoch 5/1000\n",
      "1000/1000 [==============================] - 3s 3ms/step - loss: 0.1273 - money_loss: -401.0000 - val_loss: 0.1247 - val_money_loss: -376.6000\n",
      "Epoch 6/1000\n",
      "1000/1000 [==============================] - 3s 3ms/step - loss: 0.1180 - money_loss: -365.7250 - val_loss: 0.1277 - val_money_loss: -411.4000\n",
      "Epoch 7/1000\n",
      "1000/1000 [==============================] - 3s 3ms/step - loss: 0.1101 - money_loss: -336.6500 - val_loss: 0.1228 - val_money_loss: -358.6000\n",
      "Epoch 8/1000\n",
      "1000/1000 [==============================] - 3s 3ms/step - loss: 0.1033 - money_loss: -313.0750 - val_loss: 0.1121 - val_money_loss: -301.9000\n",
      "Epoch 9/1000\n",
      "1000/1000 [==============================] - 3s 3ms/step - loss: 0.1002 - money_loss: -303.6000 - val_loss: 0.1212 - val_money_loss: -393.6000\n",
      "Epoch 10/1000\n",
      "1000/1000 [==============================] - 3s 3ms/step - loss: 0.0960 - money_loss: -290.1250 - val_loss: 0.1118 - val_money_loss: -322.8000\n",
      "Epoch 11/1000\n",
      "1000/1000 [==============================] - 4s 4ms/step - loss: 0.0929 - money_loss: -275.0750 - val_loss: 0.1124 - val_money_loss: -319.0000\n",
      "Epoch 12/1000\n",
      "1000/1000 [==============================] - 3s 3ms/step - loss: 0.0890 - money_loss: -266.6000 - val_loss: 0.1103 - val_money_loss: -336.3000\n",
      "Epoch 13/1000\n",
      "1000/1000 [==============================] - 3s 3ms/step - loss: 0.0859 - money_loss: -255.5000 - val_loss: 0.1081 - val_money_loss: -316.0000\n",
      "Epoch 14/1000\n",
      "1000/1000 [==============================] - 3s 3ms/step - loss: 0.0842 - money_loss: -253.9500 - val_loss: 0.1078 - val_money_loss: -271.5000\n",
      "Epoch 15/1000\n",
      "1000/1000 [==============================] - 3s 3ms/step - loss: 0.0818 - money_loss: -241.0500 - val_loss: 0.1062 - val_money_loss: -275.6000\n",
      "Epoch 16/1000\n",
      "1000/1000 [==============================] - 4s 4ms/step - loss: 0.0795 - money_loss: -232.9500 - val_loss: 0.1102 - val_money_loss: -292.0000\n",
      "Epoch 17/1000\n",
      "1000/1000 [==============================] - 3s 3ms/step - loss: 0.0780 - money_loss: -234.6000 - val_loss: 0.1132 - val_money_loss: -320.2000\n",
      "Epoch 18/1000\n",
      "1000/1000 [==============================] - 3s 3ms/step - loss: 0.0755 - money_loss: -219.9750 - val_loss: 0.1099 - val_money_loss: -292.3000\n",
      "Epoch 19/1000\n",
      "1000/1000 [==============================] - 4s 4ms/step - loss: 0.0722 - money_loss: -208.2500 - val_loss: 0.1123 - val_money_loss: -285.4000\n",
      "Epoch 20/1000\n",
      "1000/1000 [==============================] - 3s 3ms/step - loss: 0.0730 - money_loss: -216.7000 - val_loss: 0.1075 - val_money_loss: -297.9000\n"
     ]
    }
   ],
   "source": [
    "model_history_5 = model_seq_5.fit(X_train, y_train, validation_data=(X_test, y_test), batch_size=128, epochs=1000,\n",
    "                              class_weight=class_weight, callbacks=[early_stop, checkpoint])"
   ]
  },
  {
   "cell_type": "code",
   "execution_count": null,
   "id": "c7c1e54b",
   "metadata": {
    "id": "c7c1e54b"
   },
   "outputs": [],
   "source": [
    "y_pred_seq_5 = model_seq_5.predict(X_test)"
   ]
  },
  {
   "cell_type": "code",
   "execution_count": null,
   "id": "43c4aa6e",
   "metadata": {
    "id": "43c4aa6e",
    "outputId": "1b09d930-b3d2-4a02-959a-e5698a634f09"
   },
   "outputs": [
    {
     "name": "stdout",
     "output_type": "stream",
     "text": [
      "              precision    recall  f1-score   support\n",
      "\n",
      "           0       0.97      0.97      0.97     19161\n",
      "           1       0.96      0.96      0.96     12839\n",
      "\n",
      "    accuracy                           0.97     32000\n",
      "   macro avg       0.96      0.96      0.96     32000\n",
      "weighted avg       0.97      0.97      0.97     32000\n",
      "\n",
      "\n",
      "\n",
      "Confusion Matrix: \n",
      " [[18610   551]\n",
      " [  552 12287]]\n",
      "\n",
      "\n",
      "Accuracy: \n",
      " 0.96553125\n"
     ]
    }
   ],
   "source": [
    "print(mt.classification_report(y_test, np.rint(y_pred_seq_5)))\n",
    "print('\\n')\n",
    "print('Confusion Matrix: \\n', mt.confusion_matrix(y_test, np.rint(y_pred_seq_5)))\n",
    "print('\\n')\n",
    "print('Accuracy: \\n', mt.accuracy_score(y_test, np.rint(y_pred_seq_5)))"
   ]
  },
  {
   "cell_type": "markdown",
   "id": "471c205d",
   "metadata": {
    "id": "471c205d"
   },
   "source": [
    "#### 551 X 100+552X25 =68900 (Loweset)"
   ]
  },
  {
   "cell_type": "code",
   "execution_count": null,
   "id": "6236641d",
   "metadata": {
    "id": "6236641d",
    "outputId": "e7549e20-9218-4c9d-98ba-eb0cf2182a3f"
   },
   "outputs": [
    {
     "data": {
      "text/plain": [
       "6.034375"
      ]
     },
     "execution_count": 3,
     "metadata": {},
     "output_type": "execute_result"
    }
   ],
   "source": [
    "(551*100 + 250*552)/(551+552+18610+12287)"
   ]
  },
  {
   "cell_type": "markdown",
   "id": "3UgKVnccRIVv",
   "metadata": {
    "id": "3UgKVnccRIVv"
   },
   "source": [
    "## Tensor flow with only dot product features"
   ]
  },
  {
   "cell_type": "code",
   "execution_count": 46,
   "id": "4si5ZmJPOPSR",
   "metadata": {
    "id": "4si5ZmJPOPSR"
   },
   "outputs": [],
   "source": [
    "tf.random.set_seed(1)"
   ]
  },
  {
   "cell_type": "code",
   "execution_count": 47,
   "id": "OgRpZGXDOPjz",
   "metadata": {
    "id": "OgRpZGXDOPjz"
   },
   "outputs": [],
   "source": [
    "model_seq_6 = tf.keras.Sequential()\n",
    "model_seq_6.add(tf.keras.Input(shape=(467,)))\n",
    "model_seq_6.add(tf.keras.layers.Dense(100, activation='relu'))\n",
    "model_seq_6.add(tf.keras.layers.BatchNormalization(momentum=0.8))\n",
    "model_seq_6.add(tf.keras.layers.Dense(100, activation='relu'))\n",
    "model_seq_6.add(tf.keras.layers.BatchNormalization(momentum=0.8))\n",
    "model_seq_6.add(tf.keras.layers.Dense(100, activation='relu'))\n",
    "model_seq_6.add(tf.keras.layers.BatchNormalization(momentum=0.8))\n",
    "model_seq_6.add(tf.keras.layers.Dense(100, activation='relu'))\n",
    "model_seq_6.add(tf.keras.layers.BatchNormalization(momentum=0.8))\n",
    "model_seq_6.add(tf.keras.layers.Dense(100, activation='relu'))\n",
    "model_seq_6.add(tf.keras.layers.BatchNormalization(momentum=0.8))\n",
    "model_seq_6.add(tf.keras.layers.Dense(100, activation='relu'))\n",
    "model_seq_6.add(tf.keras.layers.BatchNormalization(momentum=0.8))\n",
    "model_seq_6.add(tf.keras.layers.Dense(100, activation='relu'))\n",
    "model_seq_6.add(tf.keras.layers.BatchNormalization(momentum=0.8))\n",
    "model_seq_6.add(tf.keras.layers.Dense(100, activation='relu'))\n",
    "model_seq_6.add(tf.keras.layers.BatchNormalization(momentum=0.8))\n",
    "model_seq_6.add(tf.keras.layers.Dense(1, activation='sigmoid'))"
   ]
  },
  {
   "cell_type": "code",
   "execution_count": 48,
   "id": "_CmzgJXjOPsX",
   "metadata": {
    "id": "_CmzgJXjOPsX"
   },
   "outputs": [],
   "source": [
    "model_seq_6.compile(optimizer='adam', loss='BinaryCrossentropy', metrics=[money_loss])"
   ]
  },
  {
   "cell_type": "code",
   "execution_count": 51,
   "id": "sZjU02VcOPwH",
   "metadata": {
    "colab": {
     "base_uri": "https://localhost:8080/"
    },
    "id": "sZjU02VcOPwH",
    "outputId": "5cd13037-8f2d-4088-ae5d-7d60c8413cb7"
   },
   "outputs": [
    {
     "name": "stdout",
     "output_type": "stream",
     "text": [
      "Epoch 1/1000\n",
      "1000/1000 [==============================] - 18s 13ms/step - loss: 0.2652 - money_loss: -2281.2500 - val_loss: 0.1730 - val_money_loss: -1307.2000\n",
      "Epoch 2/1000\n",
      "1000/1000 [==============================] - 12s 12ms/step - loss: 0.1669 - money_loss: -1276.2000 - val_loss: 0.1473 - val_money_loss: -1212.8000\n",
      "Epoch 3/1000\n",
      "1000/1000 [==============================] - 12s 12ms/step - loss: 0.1447 - money_loss: -1074.5000 - val_loss: 0.1304 - val_money_loss: -1020.2000\n",
      "Epoch 4/1000\n",
      "1000/1000 [==============================] - 10s 10ms/step - loss: 0.1314 - money_loss: -952.4500 - val_loss: 0.1282 - val_money_loss: -959.8000\n",
      "Epoch 5/1000\n",
      "1000/1000 [==============================] - 9s 9ms/step - loss: 0.1239 - money_loss: -887.3500 - val_loss: 0.1256 - val_money_loss: -892.8000\n",
      "Epoch 6/1000\n",
      "1000/1000 [==============================] - 9s 9ms/step - loss: 0.1180 - money_loss: -847.6000 - val_loss: 0.1205 - val_money_loss: -881.4000\n",
      "Epoch 7/1000\n",
      "1000/1000 [==============================] - 17s 17ms/step - loss: 0.1120 - money_loss: -806.8500 - val_loss: 0.1198 - val_money_loss: -886.2000\n",
      "Epoch 8/1000\n",
      "1000/1000 [==============================] - 17s 17ms/step - loss: 0.1065 - money_loss: -741.5000 - val_loss: 0.1160 - val_money_loss: -872.0000\n",
      "Epoch 9/1000\n",
      "1000/1000 [==============================] - 14s 14ms/step - loss: 0.1023 - money_loss: -714.0000 - val_loss: 0.1166 - val_money_loss: -849.4000\n",
      "Epoch 10/1000\n",
      "1000/1000 [==============================] - 13s 13ms/step - loss: 0.0984 - money_loss: -681.1500 - val_loss: 0.1163 - val_money_loss: -821.6000\n",
      "Epoch 11/1000\n",
      "1000/1000 [==============================] - 15s 15ms/step - loss: 0.0952 - money_loss: -646.5000 - val_loss: 0.1180 - val_money_loss: -761.4000\n",
      "Epoch 12/1000\n",
      "1000/1000 [==============================] - 12s 12ms/step - loss: 0.0914 - money_loss: -632.2000 - val_loss: 0.1169 - val_money_loss: -821.4000\n",
      "Epoch 13/1000\n",
      "1000/1000 [==============================] - 9s 9ms/step - loss: 0.0876 - money_loss: -592.8000 - val_loss: 0.1288 - val_money_loss: -805.8000\n"
     ]
    }
   ],
   "source": [
    "model_history_6 = model_seq_6.fit(X_train2, y_train, validation_data=(X_test2, y_test), batch_size=128, epochs=1000,\n",
    "                              class_weight=class_weight, callbacks=[early_stop, checkpoint])"
   ]
  },
  {
   "cell_type": "code",
   "execution_count": 52,
   "id": "i2BjAtAhOP0h",
   "metadata": {
    "id": "i2BjAtAhOP0h"
   },
   "outputs": [],
   "source": [
    "y_pred_seq_6 = model_seq_6.predict(X_test2)"
   ]
  },
  {
   "cell_type": "code",
   "execution_count": 53,
   "id": "hrh4JFrwOP4C",
   "metadata": {
    "colab": {
     "base_uri": "https://localhost:8080/"
    },
    "id": "hrh4JFrwOP4C",
    "outputId": "38ee2189-f8ea-4c2e-8125-a13699d533e3"
   },
   "outputs": [
    {
     "name": "stdout",
     "output_type": "stream",
     "text": [
      "              precision    recall  f1-score   support\n",
      "\n",
      "           0       0.97      0.97      0.97     19161\n",
      "           1       0.95      0.95      0.95     12839\n",
      "\n",
      "    accuracy                           0.96     32000\n",
      "   macro avg       0.96      0.96      0.96     32000\n",
      "weighted avg       0.96      0.96      0.96     32000\n",
      "\n",
      "\n",
      "\n",
      "Confusion Matrix: \n",
      " [[18516   645]\n",
      " [  614 12225]]\n",
      "\n",
      "\n",
      "Accuracy: \n",
      " 0.96065625\n"
     ]
    }
   ],
   "source": [
    "print(mt.classification_report(y_test, np.rint(y_pred_seq_6)))\n",
    "print('\\n')\n",
    "cf1 = mt.confusion_matrix(y_test, np.rint(y_pred_seq_6))\n",
    "print('Confusion Matrix: \\n', cf1)\n",
    "print('\\n')\n",
    "print('Accuracy: \\n', mt.accuracy_score(y_test, np.rint(y_pred_seq_6)))"
   ]
  },
  {
   "cell_type": "code",
   "execution_count": 54,
   "id": "4qZBJAxqQulL",
   "metadata": {
    "colab": {
     "base_uri": "https://localhost:8080/"
    },
    "id": "4qZBJAxqQulL",
    "outputId": "c7acbf3b-1a9e-4cf7-8eaa-478f30f94688"
   },
   "outputs": [
    {
     "name": "stdout",
     "output_type": "stream",
     "text": [
      "dollars per prediction\n"
     ]
    },
    {
     "data": {
      "text/plain": [
       "6.9578125"
      ]
     },
     "execution_count": 54,
     "metadata": {},
     "output_type": "execute_result"
    }
   ],
   "source": [
    "\n",
    "print(\"dollars per prediction: \",(cf1[1][0]*100 + cf1[0][1]*250)/len(y_test))\n",
    "(cf1[1][0]*100 + cf1[0][1]*250)/len(y_test)"
   ]
  },
  {
   "cell_type": "markdown",
   "id": "Ik_ci3XsR_nY",
   "metadata": {
    "id": "Ik_ci3XsR_nY"
   },
   "source": [
    "## Tensor flow with only cluster features"
   ]
  },
  {
   "cell_type": "code",
   "execution_count": 57,
   "id": "47vOtZTLUQUp",
   "metadata": {
    "id": "47vOtZTLUQUp"
   },
   "outputs": [],
   "source": [
    "tf.random.set_seed(1)\n",
    "model_seq_7 = tf.keras.Sequential()\n",
    "model_seq_7.add(tf.keras.Input(shape=(78,)))\n",
    "model_seq_7.add(tf.keras.layers.Dense(100, activation='relu'))\n",
    "model_seq_7.add(tf.keras.layers.BatchNormalization(momentum=0.8))\n",
    "model_seq_7.add(tf.keras.layers.Dense(100, activation='relu'))\n",
    "model_seq_7.add(tf.keras.layers.BatchNormalization(momentum=0.8))\n",
    "model_seq_7.add(tf.keras.layers.Dense(100, activation='relu'))\n",
    "model_seq_7.add(tf.keras.layers.BatchNormalization(momentum=0.8))\n",
    "model_seq_7.add(tf.keras.layers.Dense(100, activation='relu'))\n",
    "model_seq_7.add(tf.keras.layers.BatchNormalization(momentum=0.8))\n",
    "model_seq_7.add(tf.keras.layers.Dense(100, activation='relu'))\n",
    "model_seq_7.add(tf.keras.layers.BatchNormalization(momentum=0.8))\n",
    "model_seq_7.add(tf.keras.layers.Dense(100, activation='relu'))\n",
    "model_seq_7.add(tf.keras.layers.BatchNormalization(momentum=0.8))\n",
    "model_seq_7.add(tf.keras.layers.Dense(100, activation='relu'))\n",
    "model_seq_7.add(tf.keras.layers.BatchNormalization(momentum=0.8))\n",
    "model_seq_7.add(tf.keras.layers.Dense(100, activation='relu'))\n",
    "model_seq_7.add(tf.keras.layers.BatchNormalization(momentum=0.8))\n",
    "model_seq_7.add(tf.keras.layers.Dense(1, activation='sigmoid'))"
   ]
  },
  {
   "cell_type": "code",
   "execution_count": 58,
   "id": "yUY79FbkSowB",
   "metadata": {
    "id": "yUY79FbkSowB"
   },
   "outputs": [],
   "source": [
    "model_seq_7.compile(optimizer='adam', loss='BinaryCrossentropy', metrics=[money_loss])"
   ]
  },
  {
   "cell_type": "code",
   "execution_count": 59,
   "id": "jsP7ruNPS6PN",
   "metadata": {
    "colab": {
     "base_uri": "https://localhost:8080/"
    },
    "id": "jsP7ruNPS6PN",
    "outputId": "6bb7fcdb-fd85-42fb-9720-83de951798c1"
   },
   "outputs": [
    {
     "name": "stdout",
     "output_type": "stream",
     "text": [
      "Epoch 1/1000\n",
      "1000/1000 [==============================] - 15s 13ms/step - loss: 0.4171 - money_loss: -4149.3501 - val_loss: 0.2779 - val_money_loss: -2346.2000\n",
      "Epoch 2/1000\n",
      "1000/1000 [==============================] - 17s 17ms/step - loss: 0.2424 - money_loss: -2003.4000 - val_loss: 0.1951 - val_money_loss: -1624.6000\n",
      "Epoch 3/1000\n",
      "1000/1000 [==============================] - 15s 15ms/step - loss: 0.1842 - money_loss: -1438.5500 - val_loss: 0.1613 - val_money_loss: -1271.2000\n",
      "Epoch 4/1000\n",
      "1000/1000 [==============================] - 15s 15ms/step - loss: 0.1576 - money_loss: -1188.0000 - val_loss: 0.1460 - val_money_loss: -1113.2000\n",
      "Epoch 5/1000\n",
      "1000/1000 [==============================] - 16s 16ms/step - loss: 0.1411 - money_loss: -1047.5000 - val_loss: 0.1320 - val_money_loss: -979.0000\n",
      "Epoch 6/1000\n",
      "1000/1000 [==============================] - 14s 14ms/step - loss: 0.1294 - money_loss: -939.1500 - val_loss: 0.1324 - val_money_loss: -931.0000\n",
      "Epoch 7/1000\n",
      "1000/1000 [==============================] - 14s 14ms/step - loss: 0.1214 - money_loss: -881.8000 - val_loss: 0.1216 - val_money_loss: -947.2000\n",
      "Epoch 8/1000\n",
      "1000/1000 [==============================] - 10s 10ms/step - loss: 0.1135 - money_loss: -797.7500 - val_loss: 0.1168 - val_money_loss: -871.8000\n",
      "Epoch 9/1000\n",
      "1000/1000 [==============================] - 12s 12ms/step - loss: 0.1093 - money_loss: -766.8500 - val_loss: 0.1195 - val_money_loss: -806.6000\n",
      "Epoch 10/1000\n",
      "1000/1000 [==============================] - 16s 16ms/step - loss: 0.1037 - money_loss: -719.2000 - val_loss: 0.1136 - val_money_loss: -788.6000\n",
      "Epoch 11/1000\n",
      "1000/1000 [==============================] - 14s 14ms/step - loss: 0.1010 - money_loss: -693.2500 - val_loss: 0.1118 - val_money_loss: -741.0000\n",
      "Epoch 12/1000\n",
      "1000/1000 [==============================] - 14s 14ms/step - loss: 0.0961 - money_loss: -660.2000 - val_loss: 0.1084 - val_money_loss: -723.8000\n",
      "Epoch 13/1000\n",
      "1000/1000 [==============================] - 9s 9ms/step - loss: 0.0937 - money_loss: -645.7000 - val_loss: 0.1147 - val_money_loss: -748.4000\n",
      "Epoch 14/1000\n",
      "1000/1000 [==============================] - 9s 9ms/step - loss: 0.0910 - money_loss: -621.7500 - val_loss: 0.1057 - val_money_loss: -735.8000\n",
      "Epoch 15/1000\n",
      "1000/1000 [==============================] - 9s 9ms/step - loss: 0.0872 - money_loss: -590.6500 - val_loss: 0.1056 - val_money_loss: -799.8000\n",
      "Epoch 16/1000\n",
      "1000/1000 [==============================] - 9s 9ms/step - loss: 0.0867 - money_loss: -585.8500 - val_loss: 0.1076 - val_money_loss: -732.4000\n",
      "Epoch 17/1000\n",
      "1000/1000 [==============================] - 10s 10ms/step - loss: 0.0853 - money_loss: -568.5500 - val_loss: 0.1081 - val_money_loss: -714.6000\n",
      "Epoch 18/1000\n",
      "1000/1000 [==============================] - 9s 9ms/step - loss: 0.0811 - money_loss: -537.4000 - val_loss: 0.1080 - val_money_loss: -776.8000\n",
      "Epoch 19/1000\n",
      "1000/1000 [==============================] - 9s 9ms/step - loss: 0.0785 - money_loss: -527.8500 - val_loss: 0.1125 - val_money_loss: -743.0000\n"
     ]
    }
   ],
   "source": [
    "model_history_7 = model_seq_7.fit(X_train4, y_train, validation_data=(X_test4, y_test), batch_size=128, epochs=1000,\n",
    "                              class_weight=class_weight, callbacks=[early_stop, checkpoint])"
   ]
  },
  {
   "cell_type": "code",
   "execution_count": 60,
   "id": "dwTRbs8ZTFIL",
   "metadata": {
    "id": "dwTRbs8ZTFIL"
   },
   "outputs": [],
   "source": [
    "y_pred_seq_7 = model_seq_7.predict(X_test4)"
   ]
  },
  {
   "cell_type": "code",
   "execution_count": 61,
   "id": "44_QVYUhTLv-",
   "metadata": {
    "colab": {
     "base_uri": "https://localhost:8080/"
    },
    "id": "44_QVYUhTLv-",
    "outputId": "235dec94-54ce-4a38-8dc8-26922e822b4b"
   },
   "outputs": [
    {
     "name": "stdout",
     "output_type": "stream",
     "text": [
      "              precision    recall  f1-score   support\n",
      "\n",
      "           0       0.97      0.97      0.97     19161\n",
      "           1       0.95      0.96      0.96     12839\n",
      "\n",
      "    accuracy                           0.97     32000\n",
      "   macro avg       0.96      0.96      0.96     32000\n",
      "weighted avg       0.97      0.97      0.97     32000\n",
      "\n",
      "\n",
      "\n",
      "Confusion Matrix: \n",
      " [[18549   612]\n",
      " [  491 12348]]\n",
      "\n",
      "\n",
      "Accuracy: \n",
      " 0.96553125\n",
      "dollars per prediction:  6.315625\n"
     ]
    }
   ],
   "source": [
    "print(mt.classification_report(y_test, np.rint(y_pred_seq_7)))\n",
    "print('\\n')\n",
    "cf1 = mt.confusion_matrix(y_test, np.rint(y_pred_seq_7))\n",
    "print('Confusion Matrix: \\n', cf1)\n",
    "print('\\n')\n",
    "print('Accuracy: \\n', mt.accuracy_score(y_test, np.rint(y_pred_seq_7)))\n",
    "print(\"dollars per prediction: \",(cf1[1][0]*100 + cf1[0][1]*250)/len(y_test))"
   ]
  },
  {
   "cell_type": "markdown",
   "id": "4qo90hrcTYoI",
   "metadata": {
    "id": "4qo90hrcTYoI"
   },
   "source": [
    "## Tensor flow with dot product and cluster features"
   ]
  },
  {
   "cell_type": "code",
   "execution_count": 64,
   "id": "iq80sLgbTf9H",
   "metadata": {
    "id": "iq80sLgbTf9H"
   },
   "outputs": [],
   "source": [
    "tf.random.set_seed(1)\n",
    "model_seq_8 = tf.keras.Sequential()\n",
    "model_seq_8.add(tf.keras.Input(shape=(478,)))\n",
    "model_seq_8.add(tf.keras.layers.Dense(100, activation='relu'))\n",
    "model_seq_8.add(tf.keras.layers.BatchNormalization(momentum=0.8))\n",
    "model_seq_8.add(tf.keras.layers.Dense(100, activation='relu'))\n",
    "model_seq_8.add(tf.keras.layers.BatchNormalization(momentum=0.8))\n",
    "model_seq_8.add(tf.keras.layers.Dense(100, activation='relu'))\n",
    "model_seq_8.add(tf.keras.layers.BatchNormalization(momentum=0.8))\n",
    "model_seq_8.add(tf.keras.layers.Dense(100, activation='relu'))\n",
    "model_seq_8.add(tf.keras.layers.BatchNormalization(momentum=0.8))\n",
    "model_seq_8.add(tf.keras.layers.Dense(100, activation='relu'))\n",
    "model_seq_8.add(tf.keras.layers.BatchNormalization(momentum=0.8))\n",
    "model_seq_8.add(tf.keras.layers.Dense(100, activation='relu'))\n",
    "model_seq_8.add(tf.keras.layers.BatchNormalization(momentum=0.8))\n",
    "model_seq_8.add(tf.keras.layers.Dense(100, activation='relu'))\n",
    "model_seq_8.add(tf.keras.layers.BatchNormalization(momentum=0.8))\n",
    "model_seq_8.add(tf.keras.layers.Dense(100, activation='relu'))\n",
    "model_seq_8.add(tf.keras.layers.BatchNormalization(momentum=0.8))\n",
    "model_seq_8.add(tf.keras.layers.Dense(1, activation='sigmoid'))"
   ]
  },
  {
   "cell_type": "code",
   "execution_count": 65,
   "id": "o78JBJgaUCmZ",
   "metadata": {
    "id": "o78JBJgaUCmZ"
   },
   "outputs": [],
   "source": [
    "model_seq_8.compile(optimizer='adam', loss='BinaryCrossentropy', metrics=[money_loss])"
   ]
  },
  {
   "cell_type": "code",
   "execution_count": 66,
   "id": "Uw9G4WoaUNtp",
   "metadata": {
    "colab": {
     "base_uri": "https://localhost:8080/"
    },
    "id": "Uw9G4WoaUNtp",
    "outputId": "c2b1bd6d-040e-492b-c67d-63f7350063d7"
   },
   "outputs": [
    {
     "name": "stdout",
     "output_type": "stream",
     "text": [
      "Epoch 1/1000\n",
      "1000/1000 [==============================] - 20s 16ms/step - loss: 0.2662 - money_loss: -2296.5000 - val_loss: 0.1743 - val_money_loss: -1320.0000\n",
      "Epoch 2/1000\n",
      "1000/1000 [==============================] - 16s 16ms/step - loss: 0.1670 - money_loss: -1279.9500 - val_loss: 0.1451 - val_money_loss: -1151.2000\n",
      "Epoch 3/1000\n",
      "1000/1000 [==============================] - 15s 15ms/step - loss: 0.1448 - money_loss: -1078.1000 - val_loss: 0.1366 - val_money_loss: -1003.2000\n",
      "Epoch 4/1000\n",
      "1000/1000 [==============================] - 15s 15ms/step - loss: 0.1335 - money_loss: -977.1500 - val_loss: 0.1307 - val_money_loss: -998.2000\n",
      "Epoch 5/1000\n",
      "1000/1000 [==============================] - 12s 12ms/step - loss: 0.1254 - money_loss: -917.1500 - val_loss: 0.1286 - val_money_loss: -905.0000\n",
      "Epoch 6/1000\n",
      "1000/1000 [==============================] - 10s 10ms/step - loss: 0.1176 - money_loss: -850.6000 - val_loss: 0.1217 - val_money_loss: -931.2000\n",
      "Epoch 7/1000\n",
      "1000/1000 [==============================] - 10s 10ms/step - loss: 0.1119 - money_loss: -802.5000 - val_loss: 0.1218 - val_money_loss: -991.0000\n",
      "Epoch 8/1000\n",
      "1000/1000 [==============================] - 9s 9ms/step - loss: 0.1057 - money_loss: -751.2500 - val_loss: 0.1201 - val_money_loss: -942.6000\n",
      "Epoch 9/1000\n",
      "1000/1000 [==============================] - 9s 9ms/step - loss: 0.1016 - money_loss: -716.6500 - val_loss: 0.1202 - val_money_loss: -856.0000\n",
      "Epoch 10/1000\n",
      "1000/1000 [==============================] - 10s 10ms/step - loss: 0.0974 - money_loss: -680.0000 - val_loss: 0.1226 - val_money_loss: -851.8000\n",
      "Epoch 11/1000\n",
      "1000/1000 [==============================] - 9s 9ms/step - loss: 0.0941 - money_loss: -662.3500 - val_loss: 0.1161 - val_money_loss: -791.6000\n",
      "Epoch 12/1000\n",
      "1000/1000 [==============================] - 10s 10ms/step - loss: 0.0894 - money_loss: -621.7000 - val_loss: 0.1193 - val_money_loss: -785.2000\n",
      "Epoch 13/1000\n",
      "1000/1000 [==============================] - 10s 10ms/step - loss: 0.0874 - money_loss: -600.5000 - val_loss: 0.1136 - val_money_loss: -800.2000\n",
      "Epoch 14/1000\n",
      "1000/1000 [==============================] - 10s 10ms/step - loss: 0.0848 - money_loss: -590.7500 - val_loss: 0.1157 - val_money_loss: -750.6000\n",
      "Epoch 15/1000\n",
      "1000/1000 [==============================] - 9s 9ms/step - loss: 0.0802 - money_loss: -549.6500 - val_loss: 0.1168 - val_money_loss: -971.8000\n",
      "Epoch 16/1000\n",
      "1000/1000 [==============================] - 11s 11ms/step - loss: 0.0786 - money_loss: -527.2500 - val_loss: 0.1096 - val_money_loss: -795.6000\n",
      "Epoch 17/1000\n",
      "1000/1000 [==============================] - 9s 9ms/step - loss: 0.0761 - money_loss: -517.8000 - val_loss: 0.1126 - val_money_loss: -811.8000\n",
      "Epoch 18/1000\n",
      "1000/1000 [==============================] - 9s 9ms/step - loss: 0.0728 - money_loss: -484.2000 - val_loss: 0.1187 - val_money_loss: -821.8000\n",
      "Epoch 19/1000\n",
      "1000/1000 [==============================] - 9s 9ms/step - loss: 0.0717 - money_loss: -480.1500 - val_loss: 0.1170 - val_money_loss: -833.4000\n",
      "Epoch 20/1000\n",
      "1000/1000 [==============================] - 10s 10ms/step - loss: 0.0689 - money_loss: -457.6500 - val_loss: 0.1213 - val_money_loss: -810.0000\n",
      "Epoch 21/1000\n",
      "1000/1000 [==============================] - 9s 9ms/step - loss: 0.0666 - money_loss: -450.4000 - val_loss: 0.1166 - val_money_loss: -835.0000\n"
     ]
    }
   ],
   "source": [
    "model_history_8 = model_seq_8.fit(X_train3, y_train, validation_data=(X_test3, y_test), batch_size=128, epochs=1000,\n",
    "                              class_weight=class_weight, callbacks=[early_stop, checkpoint])"
   ]
  },
  {
   "cell_type": "code",
   "execution_count": 67,
   "id": "3EhFQo9fUVAK",
   "metadata": {
    "id": "3EhFQo9fUVAK"
   },
   "outputs": [],
   "source": [
    "y_pred_seq_8 = model_seq_8.predict(X_test3)"
   ]
  },
  {
   "cell_type": "code",
   "execution_count": 68,
   "id": "QR0S7oSJUZgt",
   "metadata": {
    "colab": {
     "base_uri": "https://localhost:8080/"
    },
    "id": "QR0S7oSJUZgt",
    "outputId": "e94574e5-4414-4102-e7f0-f87047513732"
   },
   "outputs": [
    {
     "name": "stdout",
     "output_type": "stream",
     "text": [
      "              precision    recall  f1-score   support\n",
      "\n",
      "           0       0.97      0.97      0.97     19161\n",
      "           1       0.95      0.96      0.96     12839\n",
      "\n",
      "    accuracy                           0.96     32000\n",
      "   macro avg       0.96      0.96      0.96     32000\n",
      "weighted avg       0.96      0.96      0.96     32000\n",
      "\n",
      "\n",
      "\n",
      "Confusion Matrix: \n",
      " [[18572   589]\n",
      " [  560 12279]]\n",
      "\n",
      "\n",
      "Accuracy: \n",
      " 0.96409375\n",
      "dollars per prediction:  6.3515625\n"
     ]
    }
   ],
   "source": [
    "print(mt.classification_report(y_test, np.rint(y_pred_seq_8)))\n",
    "print('\\n')\n",
    "cf1 = mt.confusion_matrix(y_test, np.rint(y_pred_seq_8))\n",
    "print('Confusion Matrix: \\n', cf1)\n",
    "print('\\n')\n",
    "print('Accuracy: \\n', mt.accuracy_score(y_test, np.rint(y_pred_seq_8)))\n",
    "print(\"dollars per prediction: \",(cf1[1][0]*100 + cf1[0][1]*250)/len(y_test))"
   ]
  },
  {
   "cell_type": "code",
   "execution_count": null,
   "id": "b94d5be7",
   "metadata": {},
   "outputs": [],
   "source": []
  }
 ],
 "metadata": {
  "accelerator": "GPU",
  "colab": {
   "name": "4.6.22_CaseStudy7.ipynb",
   "provenance": []
  },
  "kernelspec": {
   "display_name": "Python 3",
   "language": "python",
   "name": "python3"
  },
  "language_info": {
   "codemirror_mode": {
    "name": "ipython",
    "version": 3
   },
   "file_extension": ".py",
   "mimetype": "text/x-python",
   "name": "python",
   "nbconvert_exporter": "python",
   "pygments_lexer": "ipython3",
   "version": "3.7.10"
  }
 },
 "nbformat": 4,
 "nbformat_minor": 5
}
